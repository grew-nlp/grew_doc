{
 "cells": [
  {
   "cell_type": "markdown",
   "metadata": {},
   "source": [
    "```\n",
    "title: \"Grewpy • request\"\n",
    "date: 2024-04-22\n",
    "```"
   ]
  },
  {
   "cell_type": "markdown",
   "metadata": {},
   "source": [
    "[`grewpy` Tutorial](../tutorial)"
   ]
  },
  {
   "cell_type": "markdown",
   "metadata": {},
   "source": [
    "# Grewpy tutorial: Run requests on a corpus\n",
    "\n",
    "Download the notebook [here](../request.ipynb)."
   ]
  },
  {
   "cell_type": "markdown",
   "metadata": {},
   "source": []
  },
  {
   "cell_type": "code",
   "execution_count": null,
   "metadata": {
    "execution": {
     "iopub.execute_input": "2024-07-30T16:55:10.708847Z",
     "iopub.status.busy": "2024-07-30T16:55:10.708537Z",
     "iopub.status.idle": "2024-07-30T16:55:10.954747Z",
     "shell.execute_reply": "2024-07-30T16:55:10.932342Z"
    }
   },
   "outputs": [],
   "source": [
    "import grewpy\n",
    "from grewpy import Corpus, Request\n",
    "\n",
    "grewpy.set_config(\"sud\") # ud or basic"
   ]
  },
  {
   "cell_type": "markdown",
   "metadata": {},
   "source": [
    "## Import data\n",
    "The `Corpus` constructor takes a `conllu` file or a directory containing `conllu` files.\n",
    "A `Corpus` allows to make queries and to count occurrences."
   ]
  },
  {
   "cell_type": "code",
   "execution_count": null,
   "metadata": {
    "execution": {
     "iopub.execute_input": "2024-07-30T16:55:10.964606Z",
     "iopub.status.busy": "2024-07-30T16:55:10.963784Z",
     "iopub.status.idle": "2024-07-30T16:55:11.303586Z",
     "shell.execute_reply": "2024-07-30T16:55:11.303269Z"
    }
   },
   "outputs": [],
   "source": [
    "treebank_path = \"SUD_English-PUD\"\n",
    "corpus = Corpus(treebank_path)\n",
    "print(type(corpus))"
   ]
  },
  {
   "cell_type": "code",
   "execution_count": null,
   "metadata": {
    "execution": {
     "iopub.execute_input": "2024-07-30T16:55:11.305338Z",
     "iopub.status.busy": "2024-07-30T16:55:11.305217Z",
     "iopub.status.idle": "2024-07-30T16:55:11.307917Z",
     "shell.execute_reply": "2024-07-30T16:55:11.307661Z"
    }
   },
   "outputs": [],
   "source": [
    "n_sentencens = len(corpus)\n",
    "sent_ids = corpus.get_sent_ids()\n",
    "\n",
    "print(f\"{n_sentencens = }\")\n",
    "print(f\"{sent_ids[0] = }\")"
   ]
  },
  {
   "cell_type": "markdown",
   "metadata": {},
   "source": [
    "## Explore data\n",
    "See the [Grew-match tutorial](https://universal.grew.fr/?corpus=UD_English-ParTUT@2.14) to practice writing Grew requests"
   ]
  },
  {
   "cell_type": "markdown",
   "metadata": {},
   "source": [
    "### Count the number of subjets in the corpus"
   ]
  },
  {
   "cell_type": "code",
   "execution_count": null,
   "metadata": {
    "execution": {
     "iopub.execute_input": "2024-07-30T16:55:11.309583Z",
     "iopub.status.busy": "2024-07-30T16:55:11.309479Z",
     "iopub.status.idle": "2024-07-30T16:55:11.322953Z",
     "shell.execute_reply": "2024-07-30T16:55:11.322686Z"
    }
   },
   "outputs": [],
   "source": [
    "req1 = Request(\"pattern { X-[subj]->Y }\")\n",
    "corpus.count(req1)"
   ]
  },
  {
   "cell_type": "markdown",
   "metadata": {},
   "source": [
    "It is possible to extend an already existing request with the methods `pattern`, `without` and `with_` (because `with` is a Python keyword).\n",
    "Hence, the request `req1bis` below is equivalent to `req1`."
   ]
  },
  {
   "cell_type": "code",
   "execution_count": null,
   "metadata": {
    "execution": {
     "iopub.execute_input": "2024-07-30T16:55:11.324685Z",
     "iopub.status.busy": "2024-07-30T16:55:11.324568Z",
     "iopub.status.idle": "2024-07-30T16:55:11.334311Z",
     "shell.execute_reply": "2024-07-30T16:55:11.334049Z"
    }
   },
   "outputs": [],
   "source": [
    "req1bis = Request().pattern(\"X-[subj]->Y\")\n",
    "corpus.count(req1bis)"
   ]
  },
  {
   "cell_type": "markdown",
   "metadata": {},
   "source": [
    "### Count the number of subjects such that the subject's head is not a pronoun"
   ]
  },
  {
   "cell_type": "code",
   "execution_count": null,
   "metadata": {
    "execution": {
     "iopub.execute_input": "2024-07-30T16:55:11.335997Z",
     "iopub.status.busy": "2024-07-30T16:55:11.335894Z",
     "iopub.status.idle": "2024-07-30T16:55:11.345883Z",
     "shell.execute_reply": "2024-07-30T16:55:11.345600Z"
    }
   },
   "outputs": [],
   "source": [
    "req2 = Request().pattern(\"X-[subj]->Y\").without(\"Y[upos=PRON]\")\n",
    "corpus.count(req2)"
   ]
  },
  {
   "cell_type": "markdown",
   "metadata": {},
   "source": [
    "### Count the number of subjects with at least one dependant\n",
    "Note the usage of `with_` (because `with` is a Python keyword)"
   ]
  },
  {
   "cell_type": "code",
   "execution_count": null,
   "metadata": {
    "execution": {
     "iopub.execute_input": "2024-07-30T16:55:11.347607Z",
     "iopub.status.busy": "2024-07-30T16:55:11.347499Z",
     "iopub.status.idle": "2024-07-30T16:55:11.358094Z",
     "shell.execute_reply": "2024-07-30T16:55:11.357805Z"
    }
   },
   "outputs": [],
   "source": [
    "req3 = Request().pattern(\"X-[subj]->Y\").with_(\"Y->Z\")\n",
    "corpus.count(req3)"
   ]
  },
  {
   "cell_type": "markdown",
   "metadata": {},
   "source": [
    "### `with` and `without` items can be stacked \n"
   ]
  },
  {
   "cell_type": "code",
   "execution_count": null,
   "metadata": {
    "execution": {
     "iopub.execute_input": "2024-07-30T16:55:11.359799Z",
     "iopub.status.busy": "2024-07-30T16:55:11.359688Z",
     "iopub.status.idle": "2024-07-30T16:55:11.370227Z",
     "shell.execute_reply": "2024-07-30T16:55:11.369949Z"
    }
   },
   "outputs": [],
   "source": [
    "req4 = Request().pattern(\"X-[subj]->Y\").with_(\"Y->Z\").without(\"Y[upos=PRON]\").without(\"X[upos=VERB]\")\n",
    "corpus.count(req4)"
   ]
  },
  {
   "cell_type": "markdown",
   "metadata": {},
   "source": [
    "### Building a request with the raw Grew syntax\n",
    "It is possible to build request directly from the concrete syntax used in Grew-match or in Grew rules.\n",
    "The `req4` can be written:"
   ]
  },
  {
   "cell_type": "code",
   "execution_count": null,
   "metadata": {
    "execution": {
     "iopub.execute_input": "2024-07-30T16:55:11.371826Z",
     "iopub.status.busy": "2024-07-30T16:55:11.371741Z",
     "iopub.status.idle": "2024-07-30T16:55:11.383391Z",
     "shell.execute_reply": "2024-07-30T16:55:11.383107Z"
    }
   },
   "outputs": [],
   "source": [
    "req4bis = Request(\"\"\"\n",
    "pattern { X-[subj]->Y }\n",
    "with { Y->Z }\n",
    "without { Y[upos=PRON] }\n",
    "without { X[upos=VERB] }\n",
    "\"\"\")\n",
    "corpus.count(req4bis)"
   ]
  },
  {
   "cell_type": "markdown",
   "metadata": {},
   "source": [
    "### More complex queries are allowed, with results clustering\n",
    "See [Clustering](../../doc/clustering) for more documentation.\n",
    "Below, we cluster the subject relation, according to the POS of the governor."
   ]
  },
  {
   "cell_type": "code",
   "execution_count": null,
   "metadata": {
    "execution": {
     "iopub.execute_input": "2024-07-30T16:55:11.385199Z",
     "iopub.status.busy": "2024-07-30T16:55:11.384940Z",
     "iopub.status.idle": "2024-07-30T16:55:11.399157Z",
     "shell.execute_reply": "2024-07-30T16:55:11.398857Z"
    }
   },
   "outputs": [],
   "source": [
    "req5 = Request(\"pattern {X-[subj]->Y}\")\n",
    "corpus.count(req5, clustering_parameter=[\"X.upos\"])"
   ]
  },
  {
   "cell_type": "markdown",
   "metadata": {},
   "source": [
    "### Clustering results by other requests\n",
    "The clustering is done on the relative position of `X` and `Y`.\n",
    "It answers to the question: _How many subjects are in a pre-verbal position?_"
   ]
  },
  {
   "cell_type": "code",
   "execution_count": null,
   "metadata": {
    "execution": {
     "iopub.execute_input": "2024-07-30T16:55:11.400992Z",
     "iopub.status.busy": "2024-07-30T16:55:11.400881Z",
     "iopub.status.idle": "2024-07-30T16:55:11.411148Z",
     "shell.execute_reply": "2024-07-30T16:55:11.410884Z"
    }
   },
   "outputs": [],
   "source": [
    "corpus.count(req5, clustering_parameter=[\"{X << Y}\"])"
   ]
  },
  {
   "cell_type": "markdown",
   "metadata": {},
   "source": [
    "### Two clusterings can be applied"
   ]
  },
  {
   "cell_type": "code",
   "execution_count": null,
   "metadata": {
    "execution": {
     "iopub.execute_input": "2024-07-30T16:55:11.412814Z",
     "iopub.status.busy": "2024-07-30T16:55:11.412704Z",
     "iopub.status.idle": "2024-07-30T16:55:11.426755Z",
     "shell.execute_reply": "2024-07-30T16:55:11.426487Z"
    }
   },
   "outputs": [],
   "source": [
    "corpus.count(req5, clustering_parameter=[\"{X << Y}\",\"X.upos\"])"
   ]
  },
  {
   "cell_type": "markdown",
   "metadata": {},
   "source": [
    "### More than two clusterings are also possible"
   ]
  },
  {
   "cell_type": "code",
   "execution_count": null,
   "metadata": {
    "execution": {
     "iopub.execute_input": "2024-07-30T16:55:11.428425Z",
     "iopub.status.busy": "2024-07-30T16:55:11.428315Z",
     "iopub.status.idle": "2024-07-30T16:55:11.443054Z",
     "shell.execute_reply": "2024-07-30T16:55:11.442762Z"
    }
   },
   "outputs": [],
   "source": [
    "corpus.count(req5, clustering_parameter=[\"{X << Y}\",\"X.upos\", \"{X[Number=Sing]}\"])"
   ]
  },
  {
   "cell_type": "markdown",
   "metadata": {},
   "source": [
    "### Search occurrences\n",
    "Get the list of occurrence of a given request in the corpus"
   ]
  },
  {
   "cell_type": "code",
   "execution_count": null,
   "metadata": {
    "execution": {
     "iopub.execute_input": "2024-07-30T16:55:11.444748Z",
     "iopub.status.busy": "2024-07-30T16:55:11.444629Z",
     "iopub.status.idle": "2024-07-30T16:55:11.482130Z",
     "shell.execute_reply": "2024-07-30T16:55:11.481840Z"
    }
   },
   "outputs": [],
   "source": [
    "occurrences = corpus.search(req1)\n",
    "assert len(occurrences) == corpus.count(req1)\n",
    "occurrences[0]"
   ]
  },
  {
   "cell_type": "markdown",
   "metadata": {},
   "source": [
    "### Get occurrences including edges\n",
    "The edge is named `e`, and the label of the dependency is reported in the output"
   ]
  },
  {
   "cell_type": "code",
   "execution_count": null,
   "metadata": {
    "execution": {
     "iopub.execute_input": "2024-07-30T16:55:11.484310Z",
     "iopub.status.busy": "2024-07-30T16:55:11.484202Z",
     "iopub.status.idle": "2024-07-30T16:55:11.511282Z",
     "shell.execute_reply": "2024-07-30T16:55:11.511028Z"
    }
   },
   "outputs": [],
   "source": [
    "req6 = Request().pattern(\"e: X->Y; X[upos=VERB]\")\n",
    "corpus.search(req6)[3]"
   ]
  },
  {
   "cell_type": "markdown",
   "metadata": {},
   "source": [
    "### As with `count`, we can cluster the results of a `search`"
   ]
  },
  {
   "cell_type": "code",
   "execution_count": null,
   "metadata": {
    "execution": {
     "iopub.execute_input": "2024-07-30T16:55:11.513013Z",
     "iopub.status.busy": "2024-07-30T16:55:11.512907Z",
     "iopub.status.idle": "2024-07-30T16:55:11.550385Z",
     "shell.execute_reply": "2024-07-30T16:55:11.550122Z"
    }
   },
   "outputs": [],
   "source": [
    "result = corpus.search(req6, clustering_parameter=[\"{X << Y}\"])\n",
    "result.keys()"
   ]
  }
 ],
 "metadata": {
  "kernelspec": {
   "display_name": "venv",
   "language": "python",
   "name": "python3"
  },
  "language_info": {
   "codemirror_mode": {
    "name": "ipython",
    "version": 3
   },
   "file_extension": ".py",
   "mimetype": "text/x-python",
   "name": "python",
   "nbconvert_exporter": "python",
   "pygments_lexer": "ipython3",
   "version": "3.10.5"
  }
 },
 "nbformat": 4,
 "nbformat_minor": 2
}
