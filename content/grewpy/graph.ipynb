{
 "cells": [
  {
   "cell_type": "markdown",
   "metadata": {},
   "source": [
    "```\n",
    "title: \"Grewpy • graph\"\n",
    "date: 2023-08-14\n",
    "```"
   ]
  },
  {
   "cell_type": "markdown",
   "metadata": {},
   "source": [
    "[`grewpy` Tutorial](../tutorial)"
   ]
  },
  {
   "cell_type": "markdown",
   "metadata": {},
   "source": [
    "# `grewpy` library: Graph module\n",
    "\n",
    "Download the notebook [here](../graph.ipynb)."
   ]
  },
  {
   "cell_type": "markdown",
   "metadata": {},
   "source": [
    "First, we import the `Graph` module from `grewpy`.\n",
    "\n",
    "**NB:** The port number is different at each execution. If you don't have the message `connected to port: …`, see [here](../../usage/python/#install)."
   ]
  },
  {
   "cell_type": "code",
   "execution_count": 1,
   "metadata": {
    "execution": {
     "iopub.execute_input": "2024-11-17T17:37:17.754759Z",
     "iopub.status.busy": "2024-11-17T17:37:17.754433Z",
     "iopub.status.idle": "2024-11-17T17:37:18.008419Z",
     "shell.execute_reply": "2024-11-17T17:37:18.000534Z"
    }
   },
   "outputs": [
    {
     "name": "stderr",
     "output_type": "stream",
     "text": [
      "connected to port: 61510\n"
     ]
    }
   ],
   "source": [
    "from grewpy import Graph"
   ]
  },
  {
   "cell_type": "markdown",
   "metadata": {},
   "source": [
    "## Build a graph\n",
    "\n",
    "A graph can be built from its JSON encoding (see [here](../../doc/json) for more information on this format)."
   ]
  },
  {
   "cell_type": "code",
   "execution_count": 2,
   "metadata": {
    "execution": {
     "iopub.execute_input": "2024-11-17T17:37:18.031663Z",
     "iopub.status.busy": "2024-11-17T17:37:18.030580Z",
     "iopub.status.idle": "2024-11-17T17:37:18.036122Z",
     "shell.execute_reply": "2024-11-17T17:37:18.034969Z"
    }
   },
   "outputs": [],
   "source": [
    "g1_str = \"\"\"\n",
    "{\n",
    "  \"nodes\": {\n",
    "    \"A\": \"A\",\n",
    "    \"B\": \"B\",\n",
    "    \"C\": \"C\"\n",
    "  },\n",
    "  \"edges\": [\n",
    "    { \"src\": \"A\", \"label\": \"X\", \"tar\": \"B\"},\n",
    "    { \"src\": \"A\", \"label\": \"XX\", \"tar\": \"B\"},\n",
    "    { \"src\": \"B\", \"label\": \"Y\", \"tar\": \"C\"},\n",
    "    { \"src\": \"C\", \"label\": \"Z\", \"tar\": \"A\"}\n",
    "  ],\n",
    "  \"order\": [ \"A\", \"B\" ]\n",
    "}\n",
    "\"\"\"\n",
    "g1 = Graph(g1_str)"
   ]
  },
  {
   "cell_type": "markdown",
   "metadata": {},
   "source": [
    "A graph can also be built from CoNLL data."
   ]
  },
  {
   "cell_type": "code",
   "execution_count": 3,
   "metadata": {
    "execution": {
     "iopub.execute_input": "2024-11-17T17:37:18.042764Z",
     "iopub.status.busy": "2024-11-17T17:37:18.042398Z",
     "iopub.status.idle": "2024-11-17T17:37:18.051954Z",
     "shell.execute_reply": "2024-11-17T17:37:18.050674Z"
    }
   },
   "outputs": [],
   "source": [
    "g2_conll = \"\"\"# sent_id = en_partut-ud-202\n",
    "# text = The work is done.\n",
    "1\tThe\tthe\tDET\tRD\tDefinite=Def|PronType=Art\t2\tdet\t_\t_\n",
    "2\twork\twork\tNOUN\tS\tNumber=Sing\t4\tnsubj:pass\t_\t_\n",
    "3\tis\tbe\tAUX\tVA\tMood=Ind|Number=Sing|Person=3|Tense=Pres|VerbForm=Fin\t4\taux:pass\t_\t_\n",
    "4\tdone\tdo\tVERB\tV\tTense=Past|VerbForm=Part\t0\troot\t_\tSpaceAfter=No\n",
    "5\t.\t.\tPUNCT\tFS\t_\t4\tpunct\t_\t_\n",
    "\n",
    "\"\"\"\n",
    "g2 = Graph(g2_conll)"
   ]
  },
  {
   "cell_type": "markdown",
   "metadata": {},
   "source": [
    "## Functions on graphs\n",
    "\n",
    "The length (`len`) of a graph is the number of nodes.\n",
    "Note that when a graph is built from CoNLL data an *anchor* node is added at position 0, that's why `len(g2)` is 6 and not 5."
   ]
  },
  {
   "cell_type": "code",
   "execution_count": 4,
   "metadata": {
    "execution": {
     "iopub.execute_input": "2024-11-17T17:37:18.056840Z",
     "iopub.status.busy": "2024-11-17T17:37:18.056313Z",
     "iopub.status.idle": "2024-11-17T17:37:18.064457Z",
     "shell.execute_reply": "2024-11-17T17:37:18.063480Z"
    }
   },
   "outputs": [
    {
     "data": {
      "text/plain": [
       "(3, 6)"
      ]
     },
     "execution_count": 4,
     "metadata": {},
     "output_type": "execute_result"
    }
   ],
   "source": [
    "len (g1), len(g2)"
   ]
  },
  {
   "cell_type": "code",
   "execution_count": 5,
   "metadata": {
    "execution": {
     "iopub.execute_input": "2024-11-17T17:37:18.069879Z",
     "iopub.status.busy": "2024-11-17T17:37:18.068885Z",
     "iopub.status.idle": "2024-11-17T17:37:18.075262Z",
     "shell.execute_reply": "2024-11-17T17:37:18.074095Z"
    }
   },
   "outputs": [
    {
     "name": "stdout",
     "output_type": "stream",
     "text": [
      "# sent_id = en_partut-ud-202\n",
      "# text = The work is done.\n",
      "1\tThe\tthe\tDET\tRD\tDefinite=Def|PronType=Art\t2\tdet\t_\t_\n",
      "2\twork\twork\tNOUN\tS\tNumber=Sing\t4\tnsubj:pass\t_\t_\n",
      "3\tis\tbe\tAUX\tVA\tMood=Ind|Number=Sing|Person=3|Tense=Pres|VerbForm=Fin\t4\taux:pass\t_\t_\n",
      "4\tdone\tdo\tVERB\tV\tTense=Past|VerbForm=Part\t0\troot\t_\tSpaceAfter=No\n",
      "5\t.\t.\tPUNCT\tFS\t_\t4\tpunct\t_\t_\n",
      "\n"
     ]
    }
   ],
   "source": [
    "print (g2.to_conll())"
   ]
  },
  {
   "cell_type": "code",
   "execution_count": 6,
   "metadata": {
    "execution": {
     "iopub.execute_input": "2024-11-17T17:37:18.080136Z",
     "iopub.status.busy": "2024-11-17T17:37:18.079388Z",
     "iopub.status.idle": "2024-11-17T17:37:18.086339Z",
     "shell.execute_reply": "2024-11-17T17:37:18.085434Z"
    }
   },
   "outputs": [
    {
     "name": "stdout",
     "output_type": "stream",
     "text": [
      "digraph G {\n",
      "  node [shape=box];\n",
      "  N_5 [label=<<TABLE BORDER=\"0\" CELLBORDER=\"0\" CELLSPACING=\"0\">\n",
      "<TR><TD COLSPAN=\"3\"><B>.</B></TD></TR>\n",
      "<TR><TD ALIGN=\"right\">upos</TD><TD>=</TD><TD ALIGN=\"left\">PUNCT</TD></TR>\n",
      "<TR><TD ALIGN=\"right\">lemma</TD><TD>=</TD><TD ALIGN=\"left\">.</TD></TR>\n",
      "<TR><TD ALIGN=\"right\">xpos</TD><TD>=</TD><TD ALIGN=\"left\">FS</TD></TR>\n",
      "<TR><TD ALIGN=\"right\">textform</TD><TD>=</TD><TD ALIGN=\"left\">.</TD></TR>\n",
      "<TR><TD ALIGN=\"right\">wordform</TD><TD>=</TD><TD ALIGN=\"left\">.</TD></TR>\n",
      "</TABLE>\n",
      ">]\n",
      "  N_4 [label=<<TABLE BORDER=\"0\" CELLBORDER=\"0\" CELLSPACING=\"0\">\n",
      "<TR><TD COLSPAN=\"3\"><B>done</B></TD></TR>\n",
      "<TR><TD ALIGN=\"right\">upos</TD><TD>=</TD><TD ALIGN=\"left\">VERB</TD></TR>\n",
      "<TR><TD ALIGN=\"right\">lemma</TD><TD>=</TD><TD ALIGN=\"left\">do</TD></TR>\n",
      "<TR><TD ALIGN=\"right\">xpos</TD><TD>=</TD><TD ALIGN=\"left\">V</TD></TR>\n",
      "<TR><TD ALIGN=\"right\">SpaceAfter</TD><TD>=</TD><TD ALIGN=\"left\">No</TD></TR>\n",
      "<TR><TD ALIGN=\"right\">Tense</TD><TD>=</TD><TD ALIGN=\"left\">Past</TD></TR>\n",
      "<TR><TD ALIGN=\"right\">VerbForm</TD><TD>=</TD><TD ALIGN=\"left\">Part</TD></TR>\n",
      "<TR><TD ALIGN=\"right\">textform</TD><TD>=</TD><TD ALIGN=\"left\">done</TD></TR>\n",
      "<TR><TD ALIGN=\"right\">wordform</TD><TD>=</TD><TD ALIGN=\"left\">done</TD></TR>\n",
      "</TABLE>\n",
      ">]\n",
      "  N_3 [label=<<TABLE BORDER=\"0\" CELLBORDER=\"0\" CELLSPACING=\"0\">\n",
      "<TR><TD COLSPAN=\"3\"><B>is</B></TD></TR>\n",
      "<TR><TD ALIGN=\"right\">upos</TD><TD>=</TD><TD ALIGN=\"left\">AUX</TD></TR>\n",
      "<TR><TD ALIGN=\"right\">lemma</TD><TD>=</TD><TD ALIGN=\"left\">be</TD></TR>\n",
      "<TR><TD ALIGN=\"right\">xpos</TD><TD>=</TD><TD ALIGN=\"left\">VA</TD></TR>\n",
      "<TR><TD ALIGN=\"right\">Mood</TD><TD>=</TD><TD ALIGN=\"left\">Ind</TD></TR>\n",
      "<TR><TD ALIGN=\"right\">Number</TD><TD>=</TD><TD ALIGN=\"left\">Sing</TD></TR>\n",
      "<TR><TD ALIGN=\"right\">Person</TD><TD>=</TD><TD ALIGN=\"left\">3</TD></TR>\n",
      "<TR><TD ALIGN=\"right\">Tense</TD><TD>=</TD><TD ALIGN=\"left\">Pres</TD></TR>\n",
      "<TR><TD ALIGN=\"right\">VerbForm</TD><TD>=</TD><TD ALIGN=\"left\">Fin</TD></TR>\n",
      "<TR><TD ALIGN=\"right\">textform</TD><TD>=</TD><TD ALIGN=\"left\">is</TD></TR>\n",
      "<TR><TD ALIGN=\"right\">wordform</TD><TD>=</TD><TD ALIGN=\"left\">is</TD></TR>\n",
      "</TABLE>\n",
      ">]\n",
      "  N_2 [label=<<TABLE BORDER=\"0\" CELLBORDER=\"0\" CELLSPACING=\"0\">\n",
      "<TR><TD COLSPAN=\"3\"><B>work</B></TD></TR>\n",
      "<TR><TD ALIGN=\"right\">upos</TD><TD>=</TD><TD ALIGN=\"left\">NOUN</TD></TR>\n",
      "<TR><TD ALIGN=\"right\">lemma</TD><TD>=</TD><TD ALIGN=\"left\">work</TD></TR>\n",
      "<TR><TD ALIGN=\"right\">xpos</TD><TD>=</TD><TD ALIGN=\"left\">S</TD></TR>\n",
      "<TR><TD ALIGN=\"right\">Number</TD><TD>=</TD><TD ALIGN=\"left\">Sing</TD></TR>\n",
      "<TR><TD ALIGN=\"right\">textform</TD><TD>=</TD><TD ALIGN=\"left\">work</TD></TR>\n",
      "<TR><TD ALIGN=\"right\">wordform</TD><TD>=</TD><TD ALIGN=\"left\">work</TD></TR>\n",
      "</TABLE>\n",
      ">]\n",
      "  N_1 [label=<<TABLE BORDER=\"0\" CELLBORDER=\"0\" CELLSPACING=\"0\">\n",
      "<TR><TD COLSPAN=\"3\"><B>The</B></TD></TR>\n",
      "<TR><TD ALIGN=\"right\">upos</TD><TD>=</TD><TD ALIGN=\"left\">DET</TD></TR>\n",
      "<TR><TD ALIGN=\"right\">lemma</TD><TD>=</TD><TD ALIGN=\"left\">the</TD></TR>\n",
      "<TR><TD ALIGN=\"right\">xpos</TD><TD>=</TD><TD ALIGN=\"left\">RD</TD></TR>\n",
      "<TR><TD ALIGN=\"right\">Definite</TD><TD>=</TD><TD ALIGN=\"left\">Def</TD></TR>\n",
      "<TR><TD ALIGN=\"right\">PronType</TD><TD>=</TD><TD ALIGN=\"left\">Art</TD></TR>\n",
      "<TR><TD ALIGN=\"right\">textform</TD><TD>=</TD><TD ALIGN=\"left\">The</TD></TR>\n",
      "<TR><TD ALIGN=\"right\">wordform</TD><TD>=</TD><TD ALIGN=\"left\">The</TD></TR>\n",
      "</TABLE>\n",
      ">]\n",
      "  N_0 [label=<<TABLE BORDER=\"0\" CELLBORDER=\"0\" CELLSPACING=\"0\">\n",
      "<TR><TD COLSPAN=\"3\"><B>__0__</B></TD></TR>\n",
      "</TABLE>\n",
      ">]\n",
      "  N_0 -> N_4[label=\"root\", ];\n",
      "  N_2 -> N_1[label=\"det\", ];\n",
      "  N_4 -> N_2[label=\"nsubj:pass\", ];\n",
      "  N_4 -> N_3[label=\"aux:pass\", ];\n",
      "  N_4 -> N_5[label=\"punct\", ];\n",
      " { rank=same; N_0; N_1; }\n",
      "  N_0 -> N_1 [label=\"SUCC\", style=dotted, fontcolor=white, color=white];\n",
      " { rank=same; N_1; N_2; }\n",
      "  N_1 -> N_2 [label=\"SUCC\", style=dotted, fontcolor=white, color=white];\n",
      " { rank=same; N_2; N_3; }\n",
      "  N_2 -> N_3 [label=\"SUCC\", style=dotted, fontcolor=white, color=white];\n",
      " { rank=same; N_3; N_4; }\n",
      "  N_3 -> N_4 [label=\"SUCC\", style=dotted, fontcolor=white, color=white];\n",
      " { rank=same; N_4; N_5; }\n",
      "  N_4 -> N_5 [label=\"SUCC\", style=dotted, fontcolor=white, color=white];\n",
      "}\n",
      "\n"
     ]
    }
   ],
   "source": [
    "print (g2.to_dot())"
   ]
  },
  {
   "cell_type": "code",
   "execution_count": 7,
   "metadata": {
    "execution": {
     "iopub.execute_input": "2024-11-17T17:37:18.092844Z",
     "iopub.status.busy": "2024-11-17T17:37:18.091610Z",
     "iopub.status.idle": "2024-11-17T17:37:18.098213Z",
     "shell.execute_reply": "2024-11-17T17:37:18.097418Z"
    }
   },
   "outputs": [
    {
     "name": "stdout",
     "output_type": "stream",
     "text": [
      "{\n",
      "  \"nodes\": {\n",
      "    \"A\": \"A\",\n",
      "    \"B\": \"B\",\n",
      "    \"C\": \"C\"\n",
      "  },\n",
      "  \"edges\": [\n",
      "    {\n",
      "      \"src\": \"A\",\n",
      "      \"label\": \"X\",\n",
      "      \"tar\": \"B\"\n",
      "    },\n",
      "    {\n",
      "      \"src\": \"A\",\n",
      "      \"label\": \"XX\",\n",
      "      \"tar\": \"B\"\n",
      "    },\n",
      "    {\n",
      "      \"src\": \"B\",\n",
      "      \"label\": \"Y\",\n",
      "      \"tar\": \"C\"\n",
      "    },\n",
      "    {\n",
      "      \"src\": \"C\",\n",
      "      \"label\": \"Z\",\n",
      "      \"tar\": \"A\"\n",
      "    }\n",
      "  ],\n",
      "  \"order\": [\n",
      "    \"A\",\n",
      "    \"B\"\n",
      "  ],\n",
      "  \"meta\": {}\n",
      "}\n"
     ]
    }
   ],
   "source": [
    "import json\n",
    "print (json.dumps(g1.json_data(), indent=2))\n"
   ]
  },
  {
   "cell_type": "markdown",
   "metadata": {},
   "source": [
    "## Internal representation of graphs\n",
    "\n",
    "Internally a graph is encoded with four elements:\n",
    " - a dict `features` which maps each node identifier to either a string or a dictionary encoding the feature structure of the node\n",
    " - a dict `sucs` which maps each node indentifier to a list of outgoing edges, each edge is a pair with the target node and the edge label\n",
    " - a list named `order` which describes the list of strictly ordered nodes\n",
    " - a dict `meta` which describes the meta data of the graphs (keys and values are strings)"
   ]
  },
  {
   "cell_type": "markdown",
   "metadata": {},
   "source": [
    "### `features`\n",
    "The `features` dictionary is the one get by default when accessing a graph.\n",
    "The two expressions above are equal:"
   ]
  },
  {
   "cell_type": "code",
   "execution_count": 8,
   "metadata": {
    "execution": {
     "iopub.execute_input": "2024-11-17T17:37:18.103405Z",
     "iopub.status.busy": "2024-11-17T17:37:18.102891Z",
     "iopub.status.idle": "2024-11-17T17:37:18.108455Z",
     "shell.execute_reply": "2024-11-17T17:37:18.107043Z"
    }
   },
   "outputs": [
    {
     "data": {
      "text/plain": [
       "('A', 'A')"
      ]
     },
     "execution_count": 8,
     "metadata": {},
     "output_type": "execute_result"
    }
   ],
   "source": [
    "g1[\"A\"], g1.features[\"A\"]"
   ]
  },
  {
   "cell_type": "markdown",
   "metadata": {},
   "source": [
    "For simple graphs as above, a *feature* is a only a string but when there is a more complex feature structure, it is a dict:"
   ]
  },
  {
   "cell_type": "code",
   "execution_count": 9,
   "metadata": {
    "execution": {
     "iopub.execute_input": "2024-11-17T17:37:18.113251Z",
     "iopub.status.busy": "2024-11-17T17:37:18.112665Z",
     "iopub.status.idle": "2024-11-17T17:37:18.120117Z",
     "shell.execute_reply": "2024-11-17T17:37:18.118805Z"
    }
   },
   "outputs": [
    {
     "data": {
      "text/plain": [
       "{'Number': 'Sing',\n",
       " 'form': 'work',\n",
       " 'lemma': 'work',\n",
       " 'textform': 'work',\n",
       " 'upos': 'NOUN',\n",
       " 'wordform': 'work',\n",
       " 'xpos': 'S'}"
      ]
     },
     "execution_count": 9,
     "metadata": {},
     "output_type": "execute_result"
    }
   ],
   "source": [
    "g2[\"2\"]"
   ]
  },
  {
   "cell_type": "markdown",
   "metadata": {},
   "source": [
    "### `sucs`\n",
    "\n",
    "Each node is given a list of *successors* described by pairs of the target nodes and the edges label. \n",
    "Edge labels are dictionaries (see [here](../../doc/graph/#edges) for details on edge label encoding.)"
   ]
  },
  {
   "cell_type": "code",
   "execution_count": 10,
   "metadata": {
    "execution": {
     "iopub.execute_input": "2024-11-17T17:37:18.125950Z",
     "iopub.status.busy": "2024-11-17T17:37:18.125259Z",
     "iopub.status.idle": "2024-11-17T17:37:18.133604Z",
     "shell.execute_reply": "2024-11-17T17:37:18.132431Z"
    }
   },
   "outputs": [
    {
     "data": {
      "text/plain": [
       "[('B', Fs_edge({'1': 'X'})), ('B', Fs_edge({'1': 'XX'}))]"
      ]
     },
     "execution_count": 10,
     "metadata": {},
     "output_type": "execute_result"
    }
   ],
   "source": [
    "g1.sucs[\"A\"]"
   ]
  },
  {
   "cell_type": "code",
   "execution_count": 11,
   "metadata": {
    "execution": {
     "iopub.execute_input": "2024-11-17T17:37:18.148824Z",
     "iopub.status.busy": "2024-11-17T17:37:18.148173Z",
     "iopub.status.idle": "2024-11-17T17:37:18.157301Z",
     "shell.execute_reply": "2024-11-17T17:37:18.155438Z"
    }
   },
   "outputs": [
    {
     "data": {
      "text/plain": [
       "[('5', Fs_edge({'1': 'punct'})),\n",
       " ('3', Fs_edge({'1': 'aux', '2': 'pass'})),\n",
       " ('2', Fs_edge({'1': 'nsubj', '2': 'pass'}))]"
      ]
     },
     "execution_count": 11,
     "metadata": {},
     "output_type": "execute_result"
    }
   ],
   "source": [
    "g2.sucs[\"4\"]"
   ]
  },
  {
   "cell_type": "markdown",
   "metadata": {},
   "source": [
    "Note that a node with no successor is not defined in the `sucs` dictionary."
   ]
  },
  {
   "cell_type": "code",
   "execution_count": 12,
   "metadata": {
    "execution": {
     "iopub.execute_input": "2024-11-17T17:37:18.169106Z",
     "iopub.status.busy": "2024-11-17T17:37:18.168336Z",
     "iopub.status.idle": "2024-11-17T17:37:18.175176Z",
     "shell.execute_reply": "2024-11-17T17:37:18.174842Z"
    }
   },
   "outputs": [
    {
     "data": {
      "text/plain": [
       "False"
      ]
     },
     "execution_count": 12,
     "metadata": {},
     "output_type": "execute_result"
    }
   ],
   "source": [
    "\"3\" in g2.sucs"
   ]
  },
  {
   "cell_type": "markdown",
   "metadata": {},
   "source": [
    "Use the `get` function to avoid `KeyError` and safely get the successors:"
   ]
  },
  {
   "cell_type": "code",
   "execution_count": 13,
   "metadata": {
    "execution": {
     "iopub.execute_input": "2024-11-17T17:37:18.177252Z",
     "iopub.status.busy": "2024-11-17T17:37:18.177157Z",
     "iopub.status.idle": "2024-11-17T17:37:18.179722Z",
     "shell.execute_reply": "2024-11-17T17:37:18.179356Z"
    }
   },
   "outputs": [
    {
     "data": {
      "text/plain": [
       "[]"
      ]
     },
     "execution_count": 13,
     "metadata": {},
     "output_type": "execute_result"
    }
   ],
   "source": [
    "g2.sucs.get(\"3\", [])"
   ]
  }
 ],
 "metadata": {
  "kernelspec": {
   "display_name": "Python 3",
   "language": "python",
   "name": "python3"
  },
  "language_info": {
   "codemirror_mode": {
    "name": "ipython",
    "version": 3
   },
   "file_extension": ".py",
   "mimetype": "text/x-python",
   "name": "python",
   "nbconvert_exporter": "python",
   "pygments_lexer": "ipython3",
   "version": "3.10.5"
  }
 },
 "nbformat": 4,
 "nbformat_minor": 2
}
