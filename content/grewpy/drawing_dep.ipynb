{
 "cells": [
  {
   "cell_type": "markdown",
   "metadata": {},
   "source": [
    "```\n",
    "title: \"Grewpy • drawing dependencies\"\n",
    "date: 2023-09-19\n",
    "```"
   ]
  },
  {
   "cell_type": "markdown",
   "metadata": {},
   "source": [
    "# `grewpy` library: Drawing dependencies"
   ]
  },
  {
   "cell_type": "markdown",
   "metadata": {},
   "source": [
    "The code below initializes Grewpy, load a `corpus` and a `graph` from the `corpus`."
   ]
  },
  {
   "cell_type": "code",
   "execution_count": 1,
   "metadata": {
    "execution": {
     "iopub.execute_input": "2024-04-23T08:16:41.567454Z",
     "iopub.status.busy": "2024-04-23T08:16:41.567134Z",
     "iopub.status.idle": "2024-04-23T08:16:41.835307Z",
     "shell.execute_reply": "2024-04-23T08:16:41.813926Z"
    }
   },
   "outputs": [
    {
     "name": "stderr",
     "output_type": "stream",
     "text": [
      "connected to port: 49515\n"
     ]
    }
   ],
   "source": [
    "from grewpy import Corpus, Request, Graph\n",
    "corpus = Corpus(\"data/en_partut-ud-dev.conllu\")\n",
    "graph = corpus[\"en_partut-ud-1926\"]"
   ]
  },
  {
   "cell_type": "markdown",
   "metadata": {},
   "source": [
    "## Build the SVG picture for a graph\n",
    "\n",
    "In the Graph module, the method `to_svg` produces the SVG code for the dependency structure picture.\n",
    "The code below stores the result in a new file `1926.svg`."
   ]
  },
  {
   "cell_type": "code",
   "execution_count": 2,
   "metadata": {
    "execution": {
     "iopub.execute_input": "2024-04-23T08:16:41.858340Z",
     "iopub.status.busy": "2024-04-23T08:16:41.857558Z",
     "iopub.status.idle": "2024-04-23T08:16:41.877346Z",
     "shell.execute_reply": "2024-04-23T08:16:41.876536Z"
    }
   },
   "outputs": [],
   "source": [
    "with open(\"1926.svg\", 'w') as f:\n",
    "  f.write (graph.to_svg())"
   ]
  },
  {
   "cell_type": "markdown",
   "metadata": {},
   "source": [
    "By default, the _anchor_ node (noted `__0__`) and the `root` link between it and the root of the sentence are not drawn.\n",
    "With the option `draw_root`, the drawing of the anchor node and the `root` link is added."
   ]
  },
  {
   "cell_type": "code",
   "execution_count": 3,
   "metadata": {
    "execution": {
     "iopub.execute_input": "2024-04-23T08:16:41.886687Z",
     "iopub.status.busy": "2024-04-23T08:16:41.886147Z",
     "iopub.status.idle": "2024-04-23T08:16:41.895828Z",
     "shell.execute_reply": "2024-04-23T08:16:41.895102Z"
    }
   },
   "outputs": [],
   "source": [
    "with open(\"1926_with_root.svg\", 'w') as f:\n",
    "  f.write (graph.to_svg(draw_root=True))"
   ]
  },
  {
   "cell_type": "markdown",
   "metadata": {},
   "source": [
    "## Drawing dep structure with highlighted matching\n",
    "It is possible to create an image of a graph with highlighted matching, as in the Grew-match interface.\n",
    "To do this, we should specify that we want to keep the _decoration_ of the graph when searching the corpus. The optional argument `deco=True` does exactly that."
   ]
  },
  {
   "cell_type": "code",
   "execution_count": 4,
   "metadata": {
    "execution": {
     "iopub.execute_input": "2024-04-23T08:16:41.906516Z",
     "iopub.status.busy": "2024-04-23T08:16:41.902770Z",
     "iopub.status.idle": "2024-04-23T08:16:41.914511Z",
     "shell.execute_reply": "2024-04-23T08:16:41.913826Z"
    }
   },
   "outputs": [
    {
     "name": "stdout",
     "output_type": "stream",
     "text": [
      "[{'sent_id': 'en_partut-ud-1926', 'matching': {'nodes': {'N': '4'}, 'edges': {}}, 'deco': 2}, {'sent_id': 'en_partut-ud-1101', 'matching': {'nodes': {'N': '15'}, 'edges': {}}, 'deco': 1}]\n"
     ]
    }
   ],
   "source": [
    "request = Request.parse (\"pattern { N[lemma=question] }\")\n",
    "matchings = corpus.search(request, deco=True)\n",
    "print (matchings)"
   ]
  },
  {
   "cell_type": "markdown",
   "metadata": {},
   "source": [
    "Each item in the list has an (abstract) attribute `order` which can be used in further function calls to manage graph decoration."
   ]
  },
  {
   "cell_type": "markdown",
   "metadata": {},
   "source": [
    "Let `g1` be the first matched graph and `d1` the decoration asscioted to the matching:"
   ]
  },
  {
   "cell_type": "code",
   "execution_count": 5,
   "metadata": {
    "execution": {
     "iopub.execute_input": "2024-04-23T08:16:41.923505Z",
     "iopub.status.busy": "2024-04-23T08:16:41.923147Z",
     "iopub.status.idle": "2024-04-23T08:16:41.928786Z",
     "shell.execute_reply": "2024-04-23T08:16:41.928056Z"
    }
   },
   "outputs": [],
   "source": [
    "g1 = corpus[matchings[0][\"sent_id\"]]\n",
    "d1 = matchings[0][\"deco\"]"
   ]
  },
  {
   "cell_type": "markdown",
   "metadata": {},
   "source": [
    "The decorated SVG is computed and saved in a file `question_with_deco.svg` with:"
   ]
  },
  {
   "cell_type": "code",
   "execution_count": 6,
   "metadata": {
    "execution": {
     "iopub.execute_input": "2024-04-23T08:16:41.943764Z",
     "iopub.status.busy": "2024-04-23T08:16:41.943389Z",
     "iopub.status.idle": "2024-04-23T08:16:41.958160Z",
     "shell.execute_reply": "2024-04-23T08:16:41.956152Z"
    }
   },
   "outputs": [],
   "source": [
    "with open(\"question_with_deco.svg\", 'w') as f:\n",
    "  f.write (g1.to_svg (deco=d1))"
   ]
  },
  {
   "cell_type": "markdown",
   "metadata": {},
   "source": [
    "The decoration can also be used in method `to_sentence` to produced the _highlighted_ sentence (like the text in red in Grew-match interface) using some HTML class called `highlight`."
   ]
  },
  {
   "cell_type": "code",
   "execution_count": 7,
   "metadata": {
    "execution": {
     "iopub.execute_input": "2024-04-23T08:16:41.966942Z",
     "iopub.status.busy": "2024-04-23T08:16:41.966282Z",
     "iopub.status.idle": "2024-04-23T08:16:41.984190Z",
     "shell.execute_reply": "2024-04-23T08:16:41.982786Z"
    }
   },
   "outputs": [
    {
     "data": {
      "text/plain": [
       "'that is the <span class=\"highlight\">question</span>\". '"
      ]
     },
     "execution_count": 7,
     "metadata": {},
     "output_type": "execute_result"
    }
   ],
   "source": [
    "g1.to_sentence (deco=d1)"
   ]
  },
  {
   "cell_type": "markdown",
   "metadata": {},
   "source": []
  }
 ],
 "metadata": {
  "kernelspec": {
   "display_name": "Python 3",
   "language": "python",
   "name": "python3"
  },
  "language_info": {
   "codemirror_mode": {
    "name": "ipython",
    "version": 3
   },
   "file_extension": ".py",
   "mimetype": "text/x-python",
   "name": "python",
   "nbconvert_exporter": "python",
   "pygments_lexer": "ipython3",
   "version": "3.10.5"
  }
 },
 "nbformat": 4,
 "nbformat_minor": 2
}
