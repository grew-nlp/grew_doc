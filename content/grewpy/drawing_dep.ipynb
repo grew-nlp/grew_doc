{
 "cells": [
  {
   "cell_type": "markdown",
   "metadata": {},
   "source": [
    "```\n",
    "title: \"Grewpy • drawing dependencies\"\n",
    "date: 2023-09-19\n",
    "```"
   ]
  },
  {
   "cell_type": "markdown",
   "metadata": {},
   "source": [
    "[`grewpy` Tutorial](../tutorial)"
   ]
  },
  {
   "cell_type": "markdown",
   "metadata": {},
   "source": [
    "# `grewpy` library: Drawing dependencies\n",
    "\n",
    "Download the notebook [here](../drawing_dep.ipynb)."
   ]
  },
  {
   "cell_type": "markdown",
   "metadata": {},
   "source": [
    "The code below initializes Grewpy, load a `corpus` and a `graph` from the `corpus`."
   ]
  },
  {
   "cell_type": "code",
   "execution_count": null,
   "metadata": {
    "execution": {
     "iopub.execute_input": "2024-07-30T16:55:13.419829Z",
     "iopub.status.busy": "2024-07-30T16:55:13.419505Z",
     "iopub.status.idle": "2024-07-30T16:55:13.999275Z",
     "shell.execute_reply": "2024-07-30T16:55:13.998846Z"
    }
   },
   "outputs": [],
   "source": [
    "import grewpy\n",
    "from grewpy import Corpus, Request, Graph\n",
    "grewpy.set_config(\"sud\") # ud or basic\n",
    "corpus = Corpus(\"SUD_English-PUD\")\n",
    "sent_id = \"n01003007\"\n",
    "graph = corpus[sent_id]"
   ]
  },
  {
   "cell_type": "markdown",
   "metadata": {},
   "source": [
    "## Build the SVG picture for a graph\n",
    "\n",
    "In the Graph module, the method `to_svg` produces the SVG code for the dependency structure picture.\n",
    "The code below stores the result in a new file `1926.svg`."
   ]
  },
  {
   "cell_type": "code",
   "execution_count": null,
   "metadata": {
    "execution": {
     "iopub.execute_input": "2024-07-30T16:55:14.001513Z",
     "iopub.status.busy": "2024-07-30T16:55:14.001351Z",
     "iopub.status.idle": "2024-07-30T16:55:14.013304Z",
     "shell.execute_reply": "2024-07-30T16:55:14.013039Z"
    }
   },
   "outputs": [],
   "source": [
    "import os\n",
    "os.makedirs(\"images\", exist_ok = True)\n",
    "with open(\"images/n01003007.svg\", 'w') as f:\n",
    "  f.write (graph.to_svg())"
   ]
  },
  {
   "cell_type": "markdown",
   "metadata": {},
   "source": [
    "![n01003007 image](../images/n01003007.svg)"
   ]
  },
  {
   "cell_type": "markdown",
   "metadata": {},
   "source": [
    "By default, the _anchor_ node (noted `__0__`) and the `root` link between it and the root of the sentence are not drawn.\n",
    "With the option `draw_root`, the drawing of the anchor node and the `root` link is added."
   ]
  },
  {
   "cell_type": "code",
   "execution_count": null,
   "metadata": {
    "execution": {
     "iopub.execute_input": "2024-07-30T16:55:14.015383Z",
     "iopub.status.busy": "2024-07-30T16:55:14.015249Z",
     "iopub.status.idle": "2024-07-30T16:55:14.019855Z",
     "shell.execute_reply": "2024-07-30T16:55:14.019502Z"
    }
   },
   "outputs": [],
   "source": [
    "with open(\"images/n01003007_with_root.svg\", 'w') as f:\n",
    "  f.write (graph.to_svg(draw_root=True))"
   ]
  },
  {
   "cell_type": "markdown",
   "metadata": {},
   "source": [
    "![n01003007_with_root image](../images/n01003007_with_root.svg)"
   ]
  },
  {
   "cell_type": "markdown",
   "metadata": {},
   "source": [
    "## Drawing dep structure with highlighted matching\n",
    "It is possible to create an image of a graph with highlighted matching, as in the Grew-match interface.\n",
    "To do this, we should specify that we want to keep the _decoration_ of the graph when searching the corpus. The optional argument `deco=True` does exactly that."
   ]
  },
  {
   "cell_type": "code",
   "execution_count": null,
   "metadata": {
    "execution": {
     "iopub.execute_input": "2024-07-30T16:55:14.021785Z",
     "iopub.status.busy": "2024-07-30T16:55:14.021675Z",
     "iopub.status.idle": "2024-07-30T16:55:14.029634Z",
     "shell.execute_reply": "2024-07-30T16:55:14.029377Z"
    }
   },
   "outputs": [],
   "source": [
    "request = Request.parse (\"pattern { N[lemma=question] }\")\n",
    "matchings = corpus.search(request, deco=True)\n",
    "print (matchings)"
   ]
  },
  {
   "cell_type": "markdown",
   "metadata": {},
   "source": [
    "Each item in the list has an (abstract) attribute `order` which can be used in further function calls to manage graph decoration."
   ]
  },
  {
   "cell_type": "markdown",
   "metadata": {},
   "source": [
    "Let `g1` be the first matched graph and `d1` the decoration associated to the matching:"
   ]
  },
  {
   "cell_type": "code",
   "execution_count": null,
   "metadata": {
    "execution": {
     "iopub.execute_input": "2024-07-30T16:55:14.031338Z",
     "iopub.status.busy": "2024-07-30T16:55:14.031237Z",
     "iopub.status.idle": "2024-07-30T16:55:14.033551Z",
     "shell.execute_reply": "2024-07-30T16:55:14.033290Z"
    }
   },
   "outputs": [],
   "source": [
    "g1 = corpus[matchings[1][\"sent_id\"]]\n",
    "d1 = matchings[1][\"deco\"]"
   ]
  },
  {
   "cell_type": "markdown",
   "metadata": {},
   "source": [
    "The decorated SVG is computed and saved in a file `question_with_deco.svg` with:"
   ]
  },
  {
   "cell_type": "code",
   "execution_count": null,
   "metadata": {
    "execution": {
     "iopub.execute_input": "2024-07-30T16:55:14.035136Z",
     "iopub.status.busy": "2024-07-30T16:55:14.035023Z",
     "iopub.status.idle": "2024-07-30T16:55:14.041757Z",
     "shell.execute_reply": "2024-07-30T16:55:14.041489Z"
    }
   },
   "outputs": [],
   "source": [
    "with open(\"images/question_with_deco.svg\", 'w') as f:\n",
    "  f.write (g1.to_svg (deco=d1))"
   ]
  },
  {
   "cell_type": "markdown",
   "metadata": {},
   "source": [
    "![question_with_deco image](../images/question_with_deco.svg)"
   ]
  },
  {
   "cell_type": "markdown",
   "metadata": {},
   "source": [
    "The decoration can also be used in method `to_sentence` to produced the _highlighted_ sentence (like the text in red in Grew-match interface) using some HTML class called `highlight`."
   ]
  },
  {
   "cell_type": "code",
   "execution_count": null,
   "metadata": {
    "execution": {
     "iopub.execute_input": "2024-07-30T16:55:14.043463Z",
     "iopub.status.busy": "2024-07-30T16:55:14.043363Z",
     "iopub.status.idle": "2024-07-30T16:55:14.048352Z",
     "shell.execute_reply": "2024-07-30T16:55:14.048090Z"
    }
   },
   "outputs": [],
   "source": [
    "g1.to_sentence (deco=d1)"
   ]
  },
  {
   "cell_type": "markdown",
   "metadata": {},
   "source": []
  }
 ],
 "metadata": {
  "kernelspec": {
   "display_name": "Python 3",
   "language": "python",
   "name": "python3"
  },
  "language_info": {
   "codemirror_mode": {
    "name": "ipython",
    "version": 3
   },
   "file_extension": ".py",
   "mimetype": "text/x-python",
   "name": "python",
   "nbconvert_exporter": "python",
   "pygments_lexer": "ipython3",
   "version": "3.10.5"
  }
 },
 "nbformat": 4,
 "nbformat_minor": 2
}
