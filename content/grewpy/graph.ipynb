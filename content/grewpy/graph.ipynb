{
 "cells": [
  {
   "cell_type": "markdown",
   "metadata": {},
   "source": [
    "```\n",
    "title: \"Grewpy • graph\"\n",
    "date: 2023-08-14\n",
    "```"
   ]
  },
  {
   "cell_type": "markdown",
   "metadata": {},
   "source": [
    "# `grewpy` library: Graph module"
   ]
  },
  {
   "cell_type": "markdown",
   "metadata": {},
   "source": [
    "First, we import the `Graph` module from `grewpy`.\n",
    "\n",
    "**NB:** The port number is different at each execution. If you don't have this kind of output, see [here](http://localhost:1313/usage/python/#install)."
   ]
  },
  {
   "cell_type": "code",
   "execution_count": 1,
   "metadata": {
    "execution": {
     "iopub.execute_input": "2023-09-20T12:02:17.996211Z",
     "iopub.status.busy": "2023-09-20T12:02:17.995895Z",
     "iopub.status.idle": "2023-09-20T12:02:18.478237Z",
     "shell.execute_reply": "2023-09-20T12:02:18.477688Z"
    }
   },
   "outputs": [
    {
     "name": "stderr",
     "output_type": "stream",
     "text": [
      "connected to port: 60202\n"
     ]
    }
   ],
   "source": [
    "from grewpy import Graph"
   ]
  },
  {
   "cell_type": "markdown",
   "metadata": {},
   "source": [
    "## Build a graph\n",
    "\n",
    "A graph can be built from its JSON encoding (see [here](../../doc/json) for more info about this format)"
   ]
  },
  {
   "cell_type": "code",
   "execution_count": 2,
   "metadata": {
    "execution": {
     "iopub.execute_input": "2023-09-20T12:02:18.510010Z",
     "iopub.status.busy": "2023-09-20T12:02:18.509649Z",
     "iopub.status.idle": "2023-09-20T12:02:18.512925Z",
     "shell.execute_reply": "2023-09-20T12:02:18.512541Z"
    }
   },
   "outputs": [],
   "source": [
    "g1_str = \"\"\"\n",
    "{\n",
    "  \"nodes\": {\n",
    "    \"A\": \"A\",\n",
    "    \"B\": \"B\",\n",
    "    \"C\": \"C\"\n",
    "  },\n",
    "  \"edges\": [\n",
    "    { \"src\": \"A\", \"label\": \"X\", \"tar\": \"B\"},\n",
    "    { \"src\": \"A\", \"label\": \"XX\", \"tar\": \"B\"},\n",
    "    { \"src\": \"B\", \"label\": \"Y\", \"tar\": \"C\"},\n",
    "    { \"src\": \"C\", \"label\": \"Z\", \"tar\": \"A\"}\n",
    "  ],\n",
    "  \"order\": [ \"A\", \"B\" ]\n",
    "}\n",
    "\"\"\"\n",
    "g1 = Graph(g1_str)"
   ]
  },
  {
   "cell_type": "markdown",
   "metadata": {},
   "source": [
    "A graph can be built from its CoNLL data."
   ]
  },
  {
   "cell_type": "code",
   "execution_count": 3,
   "metadata": {
    "execution": {
     "iopub.execute_input": "2023-09-20T12:02:18.514951Z",
     "iopub.status.busy": "2023-09-20T12:02:18.514834Z",
     "iopub.status.idle": "2023-09-20T12:02:18.519848Z",
     "shell.execute_reply": "2023-09-20T12:02:18.519505Z"
    }
   },
   "outputs": [],
   "source": [
    "g2_conll = \"\"\"# sent_id = en_partut-ud-202\n",
    "# text = The work is done.\n",
    "1\tThe\tthe\tDET\tRD\tDefinite=Def|PronType=Art\t2\tdet\t_\t_\n",
    "2\twork\twork\tNOUN\tS\tNumber=Sing\t4\tnsubj:pass\t_\t_\n",
    "3\tis\tbe\tAUX\tVA\tMood=Ind|Number=Sing|Person=3|Tense=Pres|VerbForm=Fin\t4\taux:pass\t_\t_\n",
    "4\tdone\tdo\tVERB\tV\tTense=Past|VerbForm=Part\t0\troot\t_\tSpaceAfter=No\n",
    "5\t.\t.\tPUNCT\tFS\t_\t4\tpunct\t_\t_\n",
    "\n",
    "\"\"\"\n",
    "g2 = Graph(g2_conll)"
   ]
  },
  {
   "cell_type": "markdown",
   "metadata": {},
   "source": [
    "## Functions on graphs\n",
    "\n",
    "The length (`len`) of a graph is the number of nodes.\n",
    "Note that when a graph is built from CoNLL data an *anchor* node is added at position 0, that's why `len(g2)` is 6 and not 5."
   ]
  },
  {
   "cell_type": "code",
   "execution_count": 4,
   "metadata": {
    "execution": {
     "iopub.execute_input": "2023-09-20T12:02:18.521853Z",
     "iopub.status.busy": "2023-09-20T12:02:18.521714Z",
     "iopub.status.idle": "2023-09-20T12:02:18.527376Z",
     "shell.execute_reply": "2023-09-20T12:02:18.527079Z"
    }
   },
   "outputs": [
    {
     "data": {
      "text/plain": [
       "(3, 6)"
      ]
     },
     "execution_count": 4,
     "metadata": {},
     "output_type": "execute_result"
    }
   ],
   "source": [
    "len (g1), len(g2)"
   ]
  },
  {
   "cell_type": "code",
   "execution_count": 5,
   "metadata": {
    "execution": {
     "iopub.execute_input": "2023-09-20T12:02:18.529066Z",
     "iopub.status.busy": "2023-09-20T12:02:18.528952Z",
     "iopub.status.idle": "2023-09-20T12:02:18.532371Z",
     "shell.execute_reply": "2023-09-20T12:02:18.532102Z"
    }
   },
   "outputs": [
    {
     "name": "stdout",
     "output_type": "stream",
     "text": [
      "# sent_id = en_partut-ud-202\n",
      "# text = The work is done.\n",
      "1\tThe\tthe\tDET\tRD\tDefinite=Def|PronType=Art\t2\tdet\t_\t_\n",
      "2\twork\twork\tNOUN\tS\tNumber=Sing\t4\tnsubj:pass\t_\t_\n",
      "3\tis\tbe\tAUX\tVA\tMood=Ind|Number=Sing|Person=3|Tense=Pres|VerbForm=Fin\t4\taux:pass\t_\t_\n",
      "4\tdone\tdo\tVERB\tV\tTense=Past|VerbForm=Part\t0\troot\t_\tSpaceAfter=No\n",
      "5\t.\t.\tPUNCT\tFS\t_\t4\tpunct\t_\t_\n",
      "\n"
     ]
    }
   ],
   "source": [
    "print (g2.to_conll())"
   ]
  },
  {
   "cell_type": "code",
   "execution_count": 6,
   "metadata": {
    "execution": {
     "iopub.execute_input": "2023-09-20T12:02:18.534301Z",
     "iopub.status.busy": "2023-09-20T12:02:18.534178Z",
     "iopub.status.idle": "2023-09-20T12:02:18.536222Z",
     "shell.execute_reply": "2023-09-20T12:02:18.535932Z"
    }
   },
   "outputs": [
    {
     "name": "stdout",
     "output_type": "stream",
     "text": [
      "digraph G{\n",
      "0[label=\"form:__0__\"];\n",
      "1[label=\"Definite:Def,PronType:Art,form:The,lemma:the,textform:The,upos:DET,wordform:The,xpos:RD\"];\n",
      "2[label=\"Number:Sing,form:work,lemma:work,textform:work,upos:NOUN,wordform:work,xpos:S\"];\n",
      "3[label=\"Mood:Ind,Number:Sing,Person:3,Tense:Pres,VerbForm:Fin,form:is,lemma:be,textform:is,upos:AUX,wordform:is,xpos:VA\"];\n",
      "4[label=\"SpaceAfter:No,Tense:Past,VerbForm:Part,form:done,lemma:do,textform:done,upos:VERB,wordform:done,xpos:V\"];\n",
      "5[label=\"form:.,lemma:.,textform:.,upos:PUNCT,wordform:.,xpos:FS\"];\n",
      "4 -> {'1': 'punct'}[label=\"5\"];\n",
      "4 -> {'1': 'aux', '2': 'pass'}[label=\"3\"];\n",
      "4 -> {'1': 'nsubj', '2': 'pass'}[label=\"2\"];\n",
      "2 -> {'1': 'det'}[label=\"1\"];\n",
      "0 -> {'1': 'root'}[label=\"4\"];\n",
      "}\n"
     ]
    }
   ],
   "source": [
    "print (g2.to_dot())"
   ]
  },
  {
   "cell_type": "code",
   "execution_count": 7,
   "metadata": {
    "execution": {
     "iopub.execute_input": "2023-09-20T12:02:18.537852Z",
     "iopub.status.busy": "2023-09-20T12:02:18.537755Z",
     "iopub.status.idle": "2023-09-20T12:02:18.539691Z",
     "shell.execute_reply": "2023-09-20T12:02:18.539414Z"
    }
   },
   "outputs": [
    {
     "name": "stdout",
     "output_type": "stream",
     "text": [
      "{\n",
      "  \"nodes\": {\n",
      "    \"A\": \"A\",\n",
      "    \"B\": \"B\",\n",
      "    \"C\": \"C\"\n",
      "  },\n",
      "  \"edges\": [\n",
      "    {\n",
      "      \"src\": \"A\",\n",
      "      \"label\": \"X\",\n",
      "      \"tar\": \"B\"\n",
      "    },\n",
      "    {\n",
      "      \"src\": \"A\",\n",
      "      \"label\": \"XX\",\n",
      "      \"tar\": \"B\"\n",
      "    },\n",
      "    {\n",
      "      \"src\": \"B\",\n",
      "      \"label\": \"Y\",\n",
      "      \"tar\": \"C\"\n",
      "    },\n",
      "    {\n",
      "      \"src\": \"C\",\n",
      "      \"label\": \"Z\",\n",
      "      \"tar\": \"A\"\n",
      "    }\n",
      "  ],\n",
      "  \"order\": [\n",
      "    \"A\",\n",
      "    \"B\"\n",
      "  ],\n",
      "  \"meta\": {}\n",
      "}\n"
     ]
    }
   ],
   "source": [
    "import json\n",
    "print (json.dumps(g1.json_data(), indent=2))\n"
   ]
  },
  {
   "cell_type": "markdown",
   "metadata": {},
   "source": [
    "## Internal representation of graphs\n",
    "\n",
    "Internally a graph is encoded with four elements:\n",
    " - a dict `features` which maps each node identifier to either a string or a dictionary encoding the feature structure of the node\n",
    " - a dict `sucs` which maps each node indentifier to a list of outgoing edges, each edge is a pair with the target node and the edge label\n",
    " - a list named `order` which describes the list of strictly ordered nodes\n",
    " - a dict `meta` which describes the meta data of the graphs (keys and values are strings)"
   ]
  },
  {
   "cell_type": "markdown",
   "metadata": {},
   "source": [
    "### `features`\n",
    "The `features` dictionary is the one get by default when accessing a graph.\n",
    "The two expressions above are equal:"
   ]
  },
  {
   "cell_type": "code",
   "execution_count": 8,
   "metadata": {
    "execution": {
     "iopub.execute_input": "2023-09-20T12:02:18.541415Z",
     "iopub.status.busy": "2023-09-20T12:02:18.541331Z",
     "iopub.status.idle": "2023-09-20T12:02:18.543979Z",
     "shell.execute_reply": "2023-09-20T12:02:18.543681Z"
    }
   },
   "outputs": [
    {
     "data": {
      "text/plain": [
       "('A', 'A')"
      ]
     },
     "execution_count": 8,
     "metadata": {},
     "output_type": "execute_result"
    }
   ],
   "source": [
    "g1[\"A\"], g1.features[\"A\"]"
   ]
  },
  {
   "cell_type": "markdown",
   "metadata": {},
   "source": [
    "For simple graphs as above, a *feature* is a only a string but when there is a more complex feature structure, it is a dict:"
   ]
  },
  {
   "cell_type": "code",
   "execution_count": 9,
   "metadata": {
    "execution": {
     "iopub.execute_input": "2023-09-20T12:02:18.545657Z",
     "iopub.status.busy": "2023-09-20T12:02:18.545560Z",
     "iopub.status.idle": "2023-09-20T12:02:18.547853Z",
     "shell.execute_reply": "2023-09-20T12:02:18.547598Z"
    }
   },
   "outputs": [
    {
     "data": {
      "text/plain": [
       "{'Number': 'Sing',\n",
       " 'form': 'work',\n",
       " 'lemma': 'work',\n",
       " 'textform': 'work',\n",
       " 'upos': 'NOUN',\n",
       " 'wordform': 'work',\n",
       " 'xpos': 'S'}"
      ]
     },
     "execution_count": 9,
     "metadata": {},
     "output_type": "execute_result"
    }
   ],
   "source": [
    "g2[\"2\"]"
   ]
  },
  {
   "cell_type": "markdown",
   "metadata": {},
   "source": [
    "### `sucs`\n",
    "\n",
    "Each node is given a list of *successors* decribed by pairs of the target node and the edge label. \n",
    "Edga label are dictionaries (see [here](../../doc/graph/#edges) for details about edge label encoding.)"
   ]
  },
  {
   "cell_type": "code",
   "execution_count": 10,
   "metadata": {
    "execution": {
     "iopub.execute_input": "2023-09-20T12:02:18.549661Z",
     "iopub.status.busy": "2023-09-20T12:02:18.549532Z",
     "iopub.status.idle": "2023-09-20T12:02:18.551839Z",
     "shell.execute_reply": "2023-09-20T12:02:18.551580Z"
    }
   },
   "outputs": [
    {
     "data": {
      "text/plain": [
       "[('B', {'1': 'X'}), ('B', {'1': 'XX'})]"
      ]
     },
     "execution_count": 10,
     "metadata": {},
     "output_type": "execute_result"
    }
   ],
   "source": [
    "g1.sucs[\"A\"]"
   ]
  },
  {
   "cell_type": "code",
   "execution_count": 11,
   "metadata": {
    "execution": {
     "iopub.execute_input": "2023-09-20T12:02:18.553310Z",
     "iopub.status.busy": "2023-09-20T12:02:18.553204Z",
     "iopub.status.idle": "2023-09-20T12:02:18.555422Z",
     "shell.execute_reply": "2023-09-20T12:02:18.555197Z"
    }
   },
   "outputs": [
    {
     "data": {
      "text/plain": [
       "[('5', {'1': 'punct'}),\n",
       " ('3', {'1': 'aux', '2': 'pass'}),\n",
       " ('2', {'1': 'nsubj', '2': 'pass'})]"
      ]
     },
     "execution_count": 11,
     "metadata": {},
     "output_type": "execute_result"
    }
   ],
   "source": [
    "g2.sucs[\"4\"]"
   ]
  },
  {
   "cell_type": "markdown",
   "metadata": {},
   "source": [
    "Note that a node without successors is not defined the `sucs` dictionary."
   ]
  },
  {
   "cell_type": "code",
   "execution_count": 12,
   "metadata": {
    "execution": {
     "iopub.execute_input": "2023-09-20T12:02:18.557019Z",
     "iopub.status.busy": "2023-09-20T12:02:18.556917Z",
     "iopub.status.idle": "2023-09-20T12:02:18.559276Z",
     "shell.execute_reply": "2023-09-20T12:02:18.558851Z"
    }
   },
   "outputs": [
    {
     "data": {
      "text/plain": [
       "False"
      ]
     },
     "execution_count": 12,
     "metadata": {},
     "output_type": "execute_result"
    }
   ],
   "source": [
    "\"3\" in g2.sucs"
   ]
  },
  {
   "cell_type": "markdown",
   "metadata": {},
   "source": [
    "Use `get` function to avoid `KeyError` and safely get the successors:"
   ]
  },
  {
   "cell_type": "code",
   "execution_count": 13,
   "metadata": {
    "execution": {
     "iopub.execute_input": "2023-09-20T12:02:18.561568Z",
     "iopub.status.busy": "2023-09-20T12:02:18.561385Z",
     "iopub.status.idle": "2023-09-20T12:02:18.564065Z",
     "shell.execute_reply": "2023-09-20T12:02:18.563711Z"
    }
   },
   "outputs": [
    {
     "data": {
      "text/plain": [
       "[]"
      ]
     },
     "execution_count": 13,
     "metadata": {},
     "output_type": "execute_result"
    }
   ],
   "source": [
    "g2.sucs.get(\"3\", [])"
   ]
  }
 ],
 "metadata": {
  "kernelspec": {
   "display_name": "Python 3",
   "language": "python",
   "name": "python3"
  },
  "language_info": {
   "codemirror_mode": {
    "name": "ipython",
    "version": 3
   },
   "file_extension": ".py",
   "mimetype": "text/x-python",
   "name": "python",
   "nbconvert_exporter": "python",
   "pygments_lexer": "ipython3",
   "version": "3.10.5"
  }
 },
 "nbformat": 4,
 "nbformat_minor": 2
}
