{
 "cells": [
  {
   "cell_type": "markdown",
   "metadata": {},
   "source": [
    "```\n",
    "title: \"Grewpy • request\"\n",
    "date: 2024-04-22\n",
    "```"
   ]
  },
  {
   "cell_type": "markdown",
   "metadata": {},
   "source": [
    "[`grewpy` Tutorial](../top)"
   ]
  },
  {
   "cell_type": "markdown",
   "metadata": {},
   "source": [
    "# Grewpy tutorial: Modify data\n",
    "See [requests](../requests) for data initialisation"
   ]
  },
  {
   "cell_type": "code",
   "execution_count": 1,
   "metadata": {
    "execution": {
     "iopub.execute_input": "2024-04-22T19:51:32.951597Z",
     "iopub.status.busy": "2024-04-22T19:51:32.951200Z",
     "iopub.status.idle": "2024-04-22T19:51:33.184843Z",
     "shell.execute_reply": "2024-04-22T19:51:33.157433Z"
    }
   },
   "outputs": [
    {
     "name": "stderr",
     "output_type": "stream",
     "text": [
      "connected to port: 49370\n"
     ]
    }
   ],
   "source": [
    "import grewpy\n",
    "from grewpy import Corpus, CorpusDraft, Request\n",
    "grewpy.set_config(\"sud\") # ud or basic\n",
    "corpus = Corpus(\"SUD_English-PUD\")"
   ]
  },
  {
   "cell_type": "markdown",
   "metadata": {},
   "source": [
    "## Access data in a corpus"
   ]
  },
  {
   "cell_type": "code",
   "execution_count": 2,
   "metadata": {
    "execution": {
     "iopub.execute_input": "2024-04-22T19:51:33.774398Z",
     "iopub.status.busy": "2024-04-22T19:51:33.774286Z",
     "iopub.status.idle": "2024-04-22T19:51:33.923055Z",
     "shell.execute_reply": "2024-04-22T19:51:33.922771Z"
    }
   },
   "outputs": [
    {
     "name": "stdout",
     "output_type": "stream",
     "text": [
      "A corpus is a set of graphs: <class 'grewpy.graph.Graph'>\n"
     ]
    }
   ],
   "source": [
    "# Access to the corpus\n",
    "sentence = corpus[1]\n",
    "print(\"A corpus is a set of graphs:\", type(sentence))"
   ]
  },
  {
   "cell_type": "code",
   "execution_count": 3,
   "metadata": {
    "execution": {
     "iopub.execute_input": "2024-04-22T19:51:33.924696Z",
     "iopub.status.busy": "2024-04-22T19:51:33.924607Z",
     "iopub.status.idle": "2024-04-22T19:51:33.926864Z",
     "shell.execute_reply": "2024-04-22T19:51:33.926607Z"
    }
   },
   "outputs": [
    {
     "name": "stdout",
     "output_type": "stream",
     "text": [
      "Sentence metadata:\n"
     ]
    },
    {
     "data": {
      "text/plain": [
       "{'sent_id': 'n01001013',\n",
       " 'text': 'For those who follow social media transitions on Capitol Hill, this will be a little different.',\n",
       " '_filename': 'en_pud-sud-test.conllu'}"
      ]
     },
     "execution_count": 3,
     "metadata": {},
     "output_type": "execute_result"
    }
   ],
   "source": [
    "# Each graph is a sentence and contains all its information\n",
    "print(\"Sentence metadata:\")\n",
    "sentence.meta"
   ]
  },
  {
   "cell_type": "code",
   "execution_count": 4,
   "metadata": {
    "execution": {
     "iopub.execute_input": "2024-04-22T19:51:33.928465Z",
     "iopub.status.busy": "2024-04-22T19:51:33.928361Z",
     "iopub.status.idle": "2024-04-22T19:51:33.929998Z",
     "shell.execute_reply": "2024-04-22T19:51:33.929750Z"
    }
   },
   "outputs": [
    {
     "name": "stdout",
     "output_type": "stream",
     "text": [
      "['0', '1', '2', '3', '4', '5', '6', '7', '8', '9', '10', '11', '12', '13', '14', '15', '16', '17', '18']\n"
     ]
    }
   ],
   "source": [
    "# Sentence order, which in this case is the same as the token's id\n",
    "print(sentence.order)"
   ]
  },
  {
   "cell_type": "code",
   "execution_count": 5,
   "metadata": {
    "execution": {
     "iopub.execute_input": "2024-04-22T19:51:33.932554Z",
     "iopub.status.busy": "2024-04-22T19:51:33.932449Z",
     "iopub.status.idle": "2024-04-22T19:51:33.934436Z",
     "shell.execute_reply": "2024-04-22T19:51:33.934184Z"
    }
   },
   "outputs": [
    {
     "name": "stdout",
     "output_type": "stream",
     "text": [
      "{'0': {'form': '__0__'}, '1': {'form': 'For', 'lemma': 'for', 'textform': 'For', 'upos': 'ADP', 'wordform': 'For', 'xpos': 'IN'}, '2': {'Number': 'Plur', 'PronType': 'Dem', 'form': 'those', 'lemma': 'those', 'textform': 'those', 'upos': 'PRON', 'wordform': 'those', 'xpos': 'DT'}, '3': {'PronType': 'Rel', 'form': 'who', 'lemma': 'who', 'textform': 'who', 'upos': 'PRON', 'wordform': 'who', 'xpos': 'WP'}, '4': {'Mood': 'Ind', 'Tense': 'Pres', 'VerbForm': 'Fin', 'form': 'follow', 'lemma': 'follow', 'textform': 'follow', 'upos': 'VERB', 'wordform': 'follow', 'xpos': 'VBP'}, '5': {'Degree': 'Pos', 'form': 'social', 'lemma': 'social', 'textform': 'social', 'upos': 'ADJ', 'wordform': 'social', 'xpos': 'JJ'}, '6': {'Number': 'Sing', 'form': 'media', 'lemma': 'media', 'textform': 'media', 'upos': 'NOUN', 'wordform': 'media', 'xpos': 'NN'}, '7': {'Number': 'Plur', 'form': 'transitions', 'lemma': 'transition', 'textform': 'transitions', 'upos': 'NOUN', 'wordform': 'transitions', 'xpos': 'NNS'}, '8': {'form': 'on', 'lemma': 'on', 'textform': 'on', 'upos': 'ADP', 'wordform': 'on', 'xpos': 'IN'}, '9': {'Number': 'Sing', 'form': 'Capitol', 'lemma': 'Capitol', 'textform': 'Capitol', 'upos': 'PROPN', 'wordform': 'Capitol', 'xpos': 'NNP'}, '10': {'Number': 'Sing', 'SpaceAfter': 'No', 'form': 'Hill', 'lemma': 'Hill', 'textform': 'Hill', 'upos': 'PROPN', 'wordform': 'Hill', 'xpos': 'NNP'}, '11': {'form': ',', 'lemma': ',', 'textform': ',', 'upos': 'PUNCT', 'wordform': ',', 'xpos': ','}, '12': {'Number': 'Sing', 'PronType': 'Dem', 'form': 'this', 'lemma': 'this', 'textform': 'this', 'upos': 'PRON', 'wordform': 'this', 'xpos': 'DT'}, '13': {'VerbForm': 'Fin', 'form': 'will', 'lemma': 'will', 'textform': 'will', 'upos': 'AUX', 'wordform': 'will', 'xpos': 'MD'}, '14': {'VerbForm': 'Inf', 'form': 'be', 'lemma': 'be', 'textform': 'be', 'upos': 'AUX', 'wordform': 'be', 'xpos': 'VB'}, '15': {'Definite': 'Ind', 'PronType': 'Art', 'form': 'a', 'lemma': 'a', 'textform': 'a', 'upos': 'DET', 'wordform': 'a', 'xpos': 'DT'}, '16': {'Degree': 'Pos', 'form': 'little', 'lemma': 'little', 'textform': 'little', 'upos': 'ADJ', 'wordform': 'little', 'xpos': 'JJ'}, '17': {'Degree': 'Pos', 'SpaceAfter': 'No', 'form': 'different', 'lemma': 'different', 'textform': 'different', 'upos': 'ADJ', 'wordform': 'different', 'xpos': 'JJ'}, '18': {'form': '.', 'lemma': '.', 'textform': '.', 'upos': 'PUNCT', 'wordform': '.', 'xpos': '.'}}\n",
      "['ADP', 'PRON', 'PRON', 'VERB', 'ADJ', 'NOUN', 'NOUN', 'ADP', 'PROPN', 'PROPN', 'PUNCT', 'PRON', 'AUX', 'AUX', 'DET', 'ADJ', 'ADJ', 'PUNCT']\n"
     ]
    }
   ],
   "source": [
    "# Token features, which make possible to acces every token feature\n",
    "print(sentence.features)\n",
    "\n",
    "# e.g get all upos of the sentence\n",
    "print([sentence.features[id]['upos'] for id in sentence.features if id != \"0\"])"
   ]
  },
  {
   "cell_type": "code",
   "execution_count": 6,
   "metadata": {
    "execution": {
     "iopub.execute_input": "2024-04-22T19:51:33.935862Z",
     "iopub.status.busy": "2024-04-22T19:51:33.935761Z",
     "iopub.status.idle": "2024-04-22T19:51:33.937433Z",
     "shell.execute_reply": "2024-04-22T19:51:33.937205Z"
    }
   },
   "outputs": [
    {
     "name": "stdout",
     "output_type": "stream",
     "text": [
      "{'17': [('16', {'1': 'udep', 'deep': 'npmod'})], '16': [('15', {'1': 'det'})], '14': [('17', {'1': 'comp', '2': 'pred'})], '13': [('18', {'1': 'punct'}), ('14', {'1': 'comp', '2': 'aux'}), ('12', {'1': 'subj'}), ('11', {'1': 'punct'}), ('1', {'1': 'udep'})], '10': [('9', {'1': 'compound'})], '8': [('10', {'1': 'comp', '2': 'obj'})], '7': [('8', {'1': 'udep'}), ('6', {'1': 'compound'})], '6': [('5', {'1': 'mod'})], '4': [('7', {'1': 'comp', '2': 'obj'}), ('3', {'1': 'subj'})], '2': [('4', {'1': 'mod', 'deep': 'relcl'})], '1': [('2', {'1': 'comp', '2': 'obj'})], '0': [('13', {'1': 'root'})]}\n"
     ]
    }
   ],
   "source": [
    "# It's possible to access to edges between nodes as successors\n",
    "print(sentence.sucs)"
   ]
  },
  {
   "cell_type": "markdown",
   "metadata": {},
   "source": [
    "## Modifying a corpus\n",
    "`Corpus` is an abstract object which cannot be modified directly:"
   ]
  },
  {
   "cell_type": "code",
   "execution_count": 7,
   "metadata": {},
   "outputs": [
    {
     "ename": "TypeError",
     "evalue": "'Corpus' object does not support item assignment",
     "output_type": "error",
     "traceback": [
      "\u001b[0;31m---------------------------------------------------------------------------\u001b[0m",
      "\u001b[0;31mTypeError\u001b[0m                                 Traceback (most recent call last)",
      "Cell \u001b[0;32mIn [7], line 1\u001b[0m\n\u001b[0;32m----> 1\u001b[0m corpus[\u001b[38;5;241m0\u001b[39m] \u001b[38;5;241m=\u001b[39m corpus[\u001b[38;5;241m1\u001b[39m]\n",
      "\u001b[0;31mTypeError\u001b[0m: 'Corpus' object does not support item assignment"
     ]
    }
   ],
   "source": [
    "corpus[0] = corpus[1]"
   ]
  },
  {
   "cell_type": "markdown",
   "metadata": {},
   "source": [
    "`CorpusDraft` is an object similar to `Corpus` (all methods above can be applied to `CorpusDraft`) but which is mutable.\n",
    "Below, we add the feature `Transitive=Yes` to all occurrences of verbs with a direct object.\n",
    "\n",
    "The `CorpusDraft` named `draft` should be transformed again into a `Corpus` (names `corpus2` below) in order to use the `count` method."
   ]
  },
  {
   "cell_type": "code",
   "execution_count": null,
   "metadata": {
    "execution": {
     "iopub.execute_input": "2024-04-22T19:51:33.938895Z",
     "iopub.status.busy": "2024-04-22T19:51:33.938790Z",
     "iopub.status.idle": "2024-04-22T19:51:34.214970Z",
     "shell.execute_reply": "2024-04-22T19:51:34.214679Z"
    }
   },
   "outputs": [],
   "source": [
    "draft = CorpusDraft(corpus)\n",
    "req7 = Request(\"X[upos=VERB]; Y[upos=NOUN]; X-[comp:obj]->Y\")\n",
    "occurrences = corpus.search(req7)\n",
    "for occ in occurrences:\n",
    "    sent_id = occ['sent_id']\n",
    "    verb_node_id = occ['matching']['nodes']['X']\n",
    "    draft[sent_id][verb_node_id].update({\"Transitive\": \"Yes\"})\n",
    "\n",
    "corpus2 = Corpus(draft)\n",
    "corpus2.count(Request(\"X[Transitive=Yes]\"))"
   ]
  },
  {
   "cell_type": "markdown",
   "metadata": {},
   "source": [
    "It's possible to modify a whole corpus with a function getting a graph as input."
   ]
  },
  {
   "cell_type": "code",
   "execution_count": null,
   "metadata": {
    "execution": {
     "iopub.execute_input": "2024-04-22T19:51:34.216575Z",
     "iopub.status.busy": "2024-04-22T19:51:34.216471Z",
     "iopub.status.idle": "2024-04-22T19:51:34.529708Z",
     "shell.execute_reply": "2024-04-22T19:51:34.529425Z"
    }
   },
   "outputs": [],
   "source": [
    "def relabel_noun(graph):\n",
    "    for node in graph:\n",
    "        if 'upos' in graph[node] and graph[node]['upos'] == 'NOUN':\n",
    "            graph[node]['upos'] = 'N'\n",
    "    return graph\n",
    "\n",
    "draft3 = draft.apply(relabel_noun)\n",
    "corpus3 = Corpus(draft3)\n",
    "corpus3.count(Request(\"X[upos=N]\"))"
   ]
  },
  {
   "cell_type": "markdown",
   "metadata": {},
   "source": [
    "## Modifying a corpus using a GRS (Graph Rewriting System)\n",
    "In many cases, it is not required to uses a `CorpusDraft` and the modification of a corpus can be encoded with graph rewriting rules.\n",
    "\n",
    "The example above (identifying transitive verbs) can be rephrased as below.\n",
    "See TODO link for an explanation of the `without` clause in this example."
   ]
  },
  {
   "cell_type": "code",
   "execution_count": null,
   "metadata": {},
   "outputs": [],
   "source": [
    "from grewpy import GRS\n",
    "\n",
    "s = \"\"\"\n",
    "strat main { Onf(tv) }\n",
    "\n",
    "rule tv {\n",
    "  pattern { X[upos=VERB]; Y[upos=NOUN]; X-[comp:obj]->Y }\n",
    "  without { X[Transitive = Yes] }\n",
    "  commands { X.Transitive = Yes }\n",
    "}\n",
    "\"\"\"\n",
    "grs = GRS(s)\n",
    "corpus2bis = grs.apply(corpus)\n",
    "corpus2bis.count(Request(\"X[Transitive=Yes]\"))"
   ]
  },
  {
   "cell_type": "markdown",
   "metadata": {},
   "source": [
    "For the example, where the upos tag `NOUN` is changed to `N`, this can be done with a GRS:"
   ]
  },
  {
   "cell_type": "code",
   "execution_count": null,
   "metadata": {},
   "outputs": [],
   "source": [
    "grs3 = GRS(\"\"\"\n",
    "strat main { Onf(noun2n) }\n",
    "\n",
    "rule noun2n {\n",
    "  pattern { X[upos=NOUN] }\n",
    "  commands { X.upos = N }\n",
    "}\n",
    "\"\"\")\n",
    "corpus3bis = grs3.apply(corpus)\n",
    "corpus3bis.count(Request(\"X[upos=N]\"))"
   ]
  },
  {
   "cell_type": "markdown",
   "metadata": {},
   "source": [
    "Similarily to the `CorpusDraft` above, there are `GRSDraft` which can be inspected and which are mutable."
   ]
  },
  {
   "cell_type": "code",
   "execution_count": null,
   "metadata": {
    "execution": {
     "iopub.execute_input": "2024-04-22T19:51:34.531466Z",
     "iopub.status.busy": "2024-04-22T19:51:34.531359Z",
     "iopub.status.idle": "2024-04-22T19:51:34.535610Z",
     "shell.execute_reply": "2024-04-22T19:51:34.535348Z"
    }
   },
   "outputs": [],
   "source": [
    "from grewpy import GRSDraft\n",
    "\n",
    "s = \"\"\"\n",
    "strat main {Onf(cxns)}\n",
    "package cxns {\n",
    "    rule existential {\n",
    "        pattern {X-[comp@expl]->Y; X[lemma=be]}\n",
    "        without {X[Cxn=Existential]}\n",
    "        commands {X.Cxn=Existential}\n",
    "    }\n",
    "}\n",
    "\"\"\"\n",
    "\n",
    "grs_draft = GRSDraft(s)\n",
    "\n",
    "for rule in grs_draft['cxns'].rules():\n",
    "    print(f\"{rule=}\")"
   ]
  },
  {
   "cell_type": "markdown",
   "metadata": {},
   "source": [
    "A `GRSDraft` cannot be applied to a corpus, it should be turned into a `GRS`:"
   ]
  },
  {
   "cell_type": "code",
   "execution_count": null,
   "metadata": {
    "execution": {
     "iopub.execute_input": "2024-04-22T19:51:34.537177Z",
     "iopub.status.busy": "2024-04-22T19:51:34.537096Z",
     "iopub.status.idle": "2024-04-22T19:51:34.553043Z",
     "shell.execute_reply": "2024-04-22T19:51:34.552798Z"
    }
   },
   "outputs": [],
   "source": [
    "grs = GRS(grs_draft)\n",
    "corpus.apply(grs)\n",
    "n_existentials = corpus.count(Request(\"X[Cxn=Existential]\"))\n",
    "print(f\"{n_existentials=}\")"
   ]
  },
  {
   "cell_type": "markdown",
   "metadata": {},
   "source": [
    "### Extras"
   ]
  },
  {
   "cell_type": "code",
   "execution_count": null,
   "metadata": {
    "execution": {
     "iopub.execute_input": "2024-04-22T19:51:34.554715Z",
     "iopub.status.busy": "2024-04-22T19:51:34.554631Z",
     "iopub.status.idle": "2024-04-22T19:51:34.565037Z",
     "shell.execute_reply": "2024-04-22T19:51:34.564775Z"
    }
   },
   "outputs": [],
   "source": [
    "# Grewpy give access to svg or dot formats to display graphs\n",
    "from IPython.display import display_svg\n",
    "\n",
    "sentence = corpus[6]\n",
    "\n",
    "g = sentence.to_svg() #.to_dot()\n",
    "display_svg(g, raw=True)"
   ]
  },
  {
   "cell_type": "code",
   "execution_count": null,
   "metadata": {
    "execution": {
     "iopub.execute_input": "2024-04-22T19:51:34.566655Z",
     "iopub.status.busy": "2024-04-22T19:51:34.566544Z",
     "iopub.status.idle": "2024-04-22T19:51:34.793523Z",
     "shell.execute_reply": "2024-04-22T19:51:34.793248Z"
    }
   },
   "outputs": [],
   "source": [
    "# the conllu is easy to get of recover\n",
    "\n",
    "conll_string= sentence.to_conll()\n",
    "print(conll_string)"
   ]
  },
  {
   "cell_type": "code",
   "execution_count": null,
   "metadata": {
    "execution": {
     "iopub.execute_input": "2024-04-22T19:51:34.795146Z",
     "iopub.status.busy": "2024-04-22T19:51:34.795054Z",
     "iopub.status.idle": "2024-04-22T19:51:34.831605Z",
     "shell.execute_reply": "2024-04-22T19:51:34.831327Z"
    }
   },
   "outputs": [],
   "source": [
    "# Working with really big corpus could be a little bit painful. \n",
    "# To remove the corpus from memory use:\n",
    "corpus.clean()\n",
    "\n",
    "# Grew errors can be capture using:\n",
    "grewpy.grew.GrewError(\"Oups!\")"
   ]
  }
 ],
 "metadata": {
  "kernelspec": {
   "display_name": "venv",
   "language": "python",
   "name": "python3"
  },
  "language_info": {
   "codemirror_mode": {
    "name": "ipython",
    "version": 3
   },
   "file_extension": ".py",
   "mimetype": "text/x-python",
   "name": "python",
   "nbconvert_exporter": "python",
   "pygments_lexer": "ipython3",
   "version": "3.10.5"
  }
 },
 "nbformat": 4,
 "nbformat_minor": 2
}
