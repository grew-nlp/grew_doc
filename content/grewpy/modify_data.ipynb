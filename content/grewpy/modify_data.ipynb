{
 "cells": [
  {
   "cell_type": "markdown",
   "metadata": {},
   "source": [
    "```\n",
    "title: \"Grewpy • request\"\n",
    "date: 2024-04-22\n",
    "```"
   ]
  },
  {
   "cell_type": "markdown",
   "metadata": {},
   "source": [
    "[`grewpy` Tutorial](../top)"
   ]
  },
  {
   "cell_type": "markdown",
   "metadata": {},
   "source": [
    "# Grewpy tutorial: Modify data"
   ]
  },
  {
   "cell_type": "code",
   "execution_count": 1,
   "metadata": {
    "execution": {
     "iopub.execute_input": "2024-04-23T14:08:51.034372Z",
     "iopub.status.busy": "2024-04-23T14:08:51.034009Z",
     "iopub.status.idle": "2024-04-23T14:08:51.590600Z",
     "shell.execute_reply": "2024-04-23T14:08:51.590165Z"
    }
   },
   "outputs": [
    {
     "name": "stderr",
     "output_type": "stream",
     "text": [
      "connected to port: 54039\n"
     ]
    }
   ],
   "source": [
    "import grewpy\n",
    "from grewpy import Corpus, CorpusDraft, Request\n",
    "grewpy.set_config(\"sud\") # ud or basic\n",
    "corpus = Corpus(\"SUD_English-PUD\")"
   ]
  },
  {
   "cell_type": "markdown",
   "metadata": {},
   "source": [
    "## Access data in a corpus"
   ]
  },
  {
   "cell_type": "code",
   "execution_count": 2,
   "metadata": {
    "execution": {
     "iopub.execute_input": "2024-04-23T14:08:51.592692Z",
     "iopub.status.busy": "2024-04-23T14:08:51.592533Z",
     "iopub.status.idle": "2024-04-23T14:08:51.597524Z",
     "shell.execute_reply": "2024-04-23T14:08:51.597293Z"
    }
   },
   "outputs": [
    {
     "name": "stdout",
     "output_type": "stream",
     "text": [
      "A corpus is a set of graphs: <class 'grewpy.graph.Graph'>\n"
     ]
    }
   ],
   "source": [
    "# Access to the corpus\n",
    "sentence = corpus[1]\n",
    "print(\"A corpus is a set of graphs:\", type(sentence))"
   ]
  },
  {
   "cell_type": "code",
   "execution_count": 3,
   "metadata": {
    "execution": {
     "iopub.execute_input": "2024-04-23T14:08:51.598981Z",
     "iopub.status.busy": "2024-04-23T14:08:51.598899Z",
     "iopub.status.idle": "2024-04-23T14:08:51.603574Z",
     "shell.execute_reply": "2024-04-23T14:08:51.603298Z"
    }
   },
   "outputs": [
    {
     "name": "stdout",
     "output_type": "stream",
     "text": [
      "Sentence metadata:\n"
     ]
    },
    {
     "data": {
      "text/plain": [
       "{'sent_id': 'n01001013',\n",
       " 'text': 'For those who follow social media transitions on Capitol Hill, this will be a little different.',\n",
       " '_filename': 'en_pud-sud-test.conllu'}"
      ]
     },
     "execution_count": 3,
     "metadata": {},
     "output_type": "execute_result"
    }
   ],
   "source": [
    "# Each graph is a sentence and contains all its information\n",
    "print(\"Sentence metadata:\")\n",
    "sentence.meta"
   ]
  },
  {
   "cell_type": "code",
   "execution_count": 4,
   "metadata": {
    "execution": {
     "iopub.execute_input": "2024-04-23T14:08:51.605222Z",
     "iopub.status.busy": "2024-04-23T14:08:51.605116Z",
     "iopub.status.idle": "2024-04-23T14:08:51.606775Z",
     "shell.execute_reply": "2024-04-23T14:08:51.606521Z"
    }
   },
   "outputs": [
    {
     "name": "stdout",
     "output_type": "stream",
     "text": [
      "['0', '1', '2', '3', '4', '5', '6', '7', '8', '9', '10', '11', '12', '13', '14', '15', '16', '17', '18']\n"
     ]
    }
   ],
   "source": [
    "# Sentence order, which in this case is the same as the token's id\n",
    "print(sentence.order)"
   ]
  },
  {
   "cell_type": "code",
   "execution_count": 5,
   "metadata": {
    "execution": {
     "iopub.execute_input": "2024-04-23T14:08:51.608267Z",
     "iopub.status.busy": "2024-04-23T14:08:51.608168Z",
     "iopub.status.idle": "2024-04-23T14:08:51.610066Z",
     "shell.execute_reply": "2024-04-23T14:08:51.609841Z"
    }
   },
   "outputs": [
    {
     "name": "stdout",
     "output_type": "stream",
     "text": [
      "{'0': {'form': '__0__'}, '1': {'form': 'For', 'lemma': 'for', 'textform': 'For', 'upos': 'ADP', 'wordform': 'For', 'xpos': 'IN'}, '2': {'Number': 'Plur', 'PronType': 'Dem', 'form': 'those', 'lemma': 'those', 'textform': 'those', 'upos': 'PRON', 'wordform': 'those', 'xpos': 'DT'}, '3': {'PronType': 'Rel', 'form': 'who', 'lemma': 'who', 'textform': 'who', 'upos': 'PRON', 'wordform': 'who', 'xpos': 'WP'}, '4': {'Mood': 'Ind', 'Tense': 'Pres', 'VerbForm': 'Fin', 'form': 'follow', 'lemma': 'follow', 'textform': 'follow', 'upos': 'VERB', 'wordform': 'follow', 'xpos': 'VBP'}, '5': {'Degree': 'Pos', 'form': 'social', 'lemma': 'social', 'textform': 'social', 'upos': 'ADJ', 'wordform': 'social', 'xpos': 'JJ'}, '6': {'Number': 'Sing', 'form': 'media', 'lemma': 'media', 'textform': 'media', 'upos': 'NOUN', 'wordform': 'media', 'xpos': 'NN'}, '7': {'Number': 'Plur', 'form': 'transitions', 'lemma': 'transition', 'textform': 'transitions', 'upos': 'NOUN', 'wordform': 'transitions', 'xpos': 'NNS'}, '8': {'form': 'on', 'lemma': 'on', 'textform': 'on', 'upos': 'ADP', 'wordform': 'on', 'xpos': 'IN'}, '9': {'Number': 'Sing', 'form': 'Capitol', 'lemma': 'Capitol', 'textform': 'Capitol', 'upos': 'PROPN', 'wordform': 'Capitol', 'xpos': 'NNP'}, '10': {'Number': 'Sing', 'SpaceAfter': 'No', 'form': 'Hill', 'lemma': 'Hill', 'textform': 'Hill', 'upos': 'PROPN', 'wordform': 'Hill', 'xpos': 'NNP'}, '11': {'form': ',', 'lemma': ',', 'textform': ',', 'upos': 'PUNCT', 'wordform': ',', 'xpos': ','}, '12': {'Number': 'Sing', 'PronType': 'Dem', 'form': 'this', 'lemma': 'this', 'textform': 'this', 'upos': 'PRON', 'wordform': 'this', 'xpos': 'DT'}, '13': {'VerbForm': 'Fin', 'form': 'will', 'lemma': 'will', 'textform': 'will', 'upos': 'AUX', 'wordform': 'will', 'xpos': 'MD'}, '14': {'VerbForm': 'Inf', 'form': 'be', 'lemma': 'be', 'textform': 'be', 'upos': 'AUX', 'wordform': 'be', 'xpos': 'VB'}, '15': {'Definite': 'Ind', 'PronType': 'Art', 'form': 'a', 'lemma': 'a', 'textform': 'a', 'upos': 'DET', 'wordform': 'a', 'xpos': 'DT'}, '16': {'Degree': 'Pos', 'form': 'little', 'lemma': 'little', 'textform': 'little', 'upos': 'ADJ', 'wordform': 'little', 'xpos': 'JJ'}, '17': {'Degree': 'Pos', 'SpaceAfter': 'No', 'form': 'different', 'lemma': 'different', 'textform': 'different', 'upos': 'ADJ', 'wordform': 'different', 'xpos': 'JJ'}, '18': {'form': '.', 'lemma': '.', 'textform': '.', 'upos': 'PUNCT', 'wordform': '.', 'xpos': '.'}}\n",
      "['ADP', 'PRON', 'PRON', 'VERB', 'ADJ', 'NOUN', 'NOUN', 'ADP', 'PROPN', 'PROPN', 'PUNCT', 'PRON', 'AUX', 'AUX', 'DET', 'ADJ', 'ADJ', 'PUNCT']\n"
     ]
    }
   ],
   "source": [
    "# Token features, which make possible to access every token feature\n",
    "print(sentence.features)\n",
    "\n",
    "# e.g get all upos of the sentence\n",
    "print([sentence.features[id]['upos'] for id in sentence.features if id != \"0\"])"
   ]
  },
  {
   "cell_type": "code",
   "execution_count": 6,
   "metadata": {
    "execution": {
     "iopub.execute_input": "2024-04-23T14:08:51.611572Z",
     "iopub.status.busy": "2024-04-23T14:08:51.611474Z",
     "iopub.status.idle": "2024-04-23T14:08:51.613121Z",
     "shell.execute_reply": "2024-04-23T14:08:51.612860Z"
    }
   },
   "outputs": [
    {
     "name": "stdout",
     "output_type": "stream",
     "text": [
      "{'17': [('16', {'1': 'udep', 'deep': 'npmod'})], '16': [('15', {'1': 'det'})], '14': [('17', {'1': 'comp', '2': 'pred'})], '13': [('18', {'1': 'punct'}), ('14', {'1': 'comp', '2': 'aux'}), ('12', {'1': 'subj'}), ('11', {'1': 'punct'}), ('1', {'1': 'udep'})], '10': [('9', {'1': 'compound'})], '8': [('10', {'1': 'comp', '2': 'obj'})], '7': [('8', {'1': 'udep'}), ('6', {'1': 'compound'})], '6': [('5', {'1': 'mod'})], '4': [('7', {'1': 'comp', '2': 'obj'}), ('3', {'1': 'subj'})], '2': [('4', {'1': 'mod', 'deep': 'relcl'})], '1': [('2', {'1': 'comp', '2': 'obj'})], '0': [('13', {'1': 'root'})]}\n"
     ]
    }
   ],
   "source": [
    "# It's possible to access to edges between nodes as successors\n",
    "print(sentence.sucs)"
   ]
  },
  {
   "cell_type": "markdown",
   "metadata": {},
   "source": [
    "## Modifying a corpus\n",
    "`Corpus` is an abstract object which cannot be modified directly:"
   ]
  },
  {
   "cell_type": "code",
   "execution_count": 7,
   "metadata": {
    "execution": {
     "iopub.execute_input": "2024-04-23T14:08:51.614747Z",
     "iopub.status.busy": "2024-04-23T14:08:51.614649Z",
     "iopub.status.idle": "2024-04-23T14:08:51.618045Z",
     "shell.execute_reply": "2024-04-23T14:08:51.617808Z"
    }
   },
   "outputs": [
    {
     "name": "stdout",
     "output_type": "stream",
     "text": [
      "'Corpus' object does not support item assignment\n"
     ]
    }
   ],
   "source": [
    "try:\n",
    "\tcorpus[0] = corpus[1]\n",
    "except TypeError as error_message:\n",
    "\tprint (f\"{error_message}\")"
   ]
  },
  {
   "cell_type": "markdown",
   "metadata": {},
   "source": [
    "`CorpusDraft` is an object similar to `Corpus` (all methods above can be applied to `CorpusDraft`) but which is mutable.\n",
    "Below, we add the feature `Transitive=Yes` to all occurrences of verbs with a direct object.\n",
    "\n",
    "The `CorpusDraft` named `draft` should be transformed again into a `Corpus` (names `corpus2` below) in order to use the `count` method."
   ]
  },
  {
   "cell_type": "code",
   "execution_count": 8,
   "metadata": {
    "execution": {
     "iopub.execute_input": "2024-04-23T14:08:51.619669Z",
     "iopub.status.busy": "2024-04-23T14:08:51.619587Z",
     "iopub.status.idle": "2024-04-23T14:08:52.061809Z",
     "shell.execute_reply": "2024-04-23T14:08:52.061541Z"
    }
   },
   "outputs": [
    {
     "data": {
      "text/plain": [
       "702"
      ]
     },
     "execution_count": 8,
     "metadata": {},
     "output_type": "execute_result"
    }
   ],
   "source": [
    "draft = CorpusDraft(corpus)\n",
    "req7 = Request(\"X[upos=VERB]; Y[upos=NOUN]; X-[comp:obj]->Y\")\n",
    "occurrences = corpus.search(req7)\n",
    "for occ in occurrences:\n",
    "    sent_id = occ['sent_id']\n",
    "    verb_node_id = occ['matching']['nodes']['X']\n",
    "    draft[sent_id][verb_node_id].update({\"Transitive\": \"Yes\"})\n",
    "\n",
    "corpus2 = Corpus(draft)\n",
    "corpus2.count(Request(\"X[Transitive=Yes]\"))"
   ]
  },
  {
   "cell_type": "markdown",
   "metadata": {},
   "source": [
    "It's possible to modify a whole corpus with a function getting a graph as input."
   ]
  },
  {
   "cell_type": "code",
   "execution_count": 9,
   "metadata": {
    "execution": {
     "iopub.execute_input": "2024-04-23T14:08:52.063587Z",
     "iopub.status.busy": "2024-04-23T14:08:52.063468Z",
     "iopub.status.idle": "2024-04-23T14:08:52.347531Z",
     "shell.execute_reply": "2024-04-23T14:08:52.347256Z"
    }
   },
   "outputs": [
    {
     "data": {
      "text/plain": [
       "4036"
      ]
     },
     "execution_count": 9,
     "metadata": {},
     "output_type": "execute_result"
    }
   ],
   "source": [
    "def relabel_noun(graph):\n",
    "    for node in graph:\n",
    "        if 'upos' in graph[node] and graph[node]['upos'] == 'NOUN':\n",
    "            graph[node]['upos'] = 'N'\n",
    "    return graph\n",
    "\n",
    "draft3 = draft.apply(relabel_noun)\n",
    "corpus3 = Corpus(draft3)\n",
    "corpus3.count(Request(\"X[upos=N]\"))"
   ]
  },
  {
   "cell_type": "markdown",
   "metadata": {},
   "source": [
    "## Modifying a corpus using a GRS (Graph Rewriting System)\n",
    "In many cases, it is not required to uses a `CorpusDraft` and the modification of a corpus can be encoded with graph rewriting rules.\n",
    "\n",
    "The example above (identifying transitive verbs) can be rephrased as below.\n",
    "See TODO link for an explanation of the `without` clause in this example."
   ]
  },
  {
   "cell_type": "code",
   "execution_count": 10,
   "metadata": {
    "execution": {
     "iopub.execute_input": "2024-04-23T14:08:52.349372Z",
     "iopub.status.busy": "2024-04-23T14:08:52.349258Z",
     "iopub.status.idle": "2024-04-23T14:08:52.374034Z",
     "shell.execute_reply": "2024-04-23T14:08:52.373751Z"
    }
   },
   "outputs": [
    {
     "data": {
      "text/plain": [
       "702"
      ]
     },
     "execution_count": 10,
     "metadata": {},
     "output_type": "execute_result"
    }
   ],
   "source": [
    "from grewpy import GRS\n",
    "\n",
    "s = \"\"\"\n",
    "strat main { Onf(tv) }\n",
    "\n",
    "rule tv {\n",
    "  pattern { X[upos=VERB]; Y[upos=NOUN]; X-[comp:obj]->Y }\n",
    "  without { X[Transitive = Yes] }\n",
    "  commands { X.Transitive = Yes }\n",
    "}\n",
    "\"\"\"\n",
    "grs = GRS(s)\n",
    "corpus2bis = grs.apply(corpus)\n",
    "corpus2bis.count(Request(\"X[Transitive=Yes]\"))"
   ]
  },
  {
   "cell_type": "markdown",
   "metadata": {},
   "source": [
    "For the example, where the upos tag `NOUN` is changed to `N`, this can be done with a GRS:"
   ]
  },
  {
   "cell_type": "code",
   "execution_count": 11,
   "metadata": {
    "execution": {
     "iopub.execute_input": "2024-04-23T14:08:52.375763Z",
     "iopub.status.busy": "2024-04-23T14:08:52.375656Z",
     "iopub.status.idle": "2024-04-23T14:08:52.422721Z",
     "shell.execute_reply": "2024-04-23T14:08:52.422438Z"
    }
   },
   "outputs": [
    {
     "data": {
      "text/plain": [
       "4036"
      ]
     },
     "execution_count": 11,
     "metadata": {},
     "output_type": "execute_result"
    }
   ],
   "source": [
    "grs3 = GRS(\"\"\"\n",
    "strat main { Onf(noun2n) }\n",
    "\n",
    "rule noun2n {\n",
    "  pattern { X[upos=NOUN] }\n",
    "  commands { X.upos = N }\n",
    "}\n",
    "\"\"\")\n",
    "corpus3bis = grs3.apply(corpus)\n",
    "corpus3bis.count(Request(\"X[upos=N]\"))"
   ]
  },
  {
   "cell_type": "markdown",
   "metadata": {},
   "source": [
    "Similarily to the `CorpusDraft` above, there is a mmodule `GRSDraft` which can be inspected and which is mutable."
   ]
  },
  {
   "cell_type": "code",
   "execution_count": 12,
   "metadata": {
    "execution": {
     "iopub.execute_input": "2024-04-23T14:08:52.424403Z",
     "iopub.status.busy": "2024-04-23T14:08:52.424287Z",
     "iopub.status.idle": "2024-04-23T14:08:52.428683Z",
     "shell.execute_reply": "2024-04-23T14:08:52.428436Z"
    }
   },
   "outputs": [
    {
     "name": "stdout",
     "output_type": "stream",
     "text": [
      "rule='existential'\n"
     ]
    }
   ],
   "source": [
    "from grewpy import GRSDraft\n",
    "\n",
    "s = \"\"\"\n",
    "strat main {Onf(cxns)}\n",
    "package cxns {\n",
    "    rule existential {\n",
    "        pattern {X-[comp@expl]->Y; X[lemma=be]}\n",
    "        without {X[Cxn=Existential]}\n",
    "        commands {X.Cxn=Existential}\n",
    "    }\n",
    "}\n",
    "\"\"\"\n",
    "\n",
    "grs_draft = GRSDraft(s)\n",
    "\n",
    "for rule in grs_draft['cxns'].rules():\n",
    "    print(f\"{rule=}\")"
   ]
  },
  {
   "cell_type": "markdown",
   "metadata": {},
   "source": [
    "A `GRSDraft` cannot be applied to a corpus, it should be turned into a `GRS`:"
   ]
  },
  {
   "cell_type": "code",
   "execution_count": 13,
   "metadata": {
    "execution": {
     "iopub.execute_input": "2024-04-23T14:08:52.430229Z",
     "iopub.status.busy": "2024-04-23T14:08:52.430145Z",
     "iopub.status.idle": "2024-04-23T14:08:52.447571Z",
     "shell.execute_reply": "2024-04-23T14:08:52.447292Z"
    }
   },
   "outputs": [
    {
     "name": "stdout",
     "output_type": "stream",
     "text": [
      "n_existentials=26\n"
     ]
    }
   ],
   "source": [
    "grs = GRS(grs_draft)\n",
    "corpus.apply(grs)\n",
    "n_existentials = corpus.count(Request(\"X[Cxn=Existential]\"))\n",
    "print(f\"{n_existentials=}\")"
   ]
  }
 ],
 "metadata": {
  "kernelspec": {
   "display_name": "venv",
   "language": "python",
   "name": "python3"
  },
  "language_info": {
   "codemirror_mode": {
    "name": "ipython",
    "version": 3
   },
   "file_extension": ".py",
   "mimetype": "text/x-python",
   "name": "python",
   "nbconvert_exporter": "python",
   "pygments_lexer": "ipython3",
   "version": "3.10.5"
  }
 },
 "nbformat": 4,
 "nbformat_minor": 2
}
