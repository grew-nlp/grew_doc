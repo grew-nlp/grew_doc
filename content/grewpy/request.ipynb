{
 "cells": [
  {
   "cell_type": "markdown",
   "metadata": {},
   "source": [
    "```\n",
    "title: \"Grewpy • request\"\n",
    "date: 2024-04-22\n",
    "```"
   ]
  },
  {
   "cell_type": "markdown",
   "metadata": {},
   "source": [
    "[`grewpy` Tutorial](../top)"
   ]
  },
  {
   "cell_type": "markdown",
   "metadata": {},
   "source": [
    "# Grewpy tutorial: Run requests on a corpus\n"
   ]
  },
  {
   "cell_type": "markdown",
   "metadata": {},
   "source": []
  },
  {
   "cell_type": "code",
   "execution_count": 1,
   "metadata": {
    "execution": {
     "iopub.execute_input": "2024-04-23T08:16:38.778410Z",
     "iopub.status.busy": "2024-04-23T08:16:38.778143Z",
     "iopub.status.idle": "2024-04-23T08:16:39.012893Z",
     "shell.execute_reply": "2024-04-23T08:16:38.986083Z"
    }
   },
   "outputs": [
    {
     "name": "stderr",
     "output_type": "stream",
     "text": [
      "connected to port: 49461\n"
     ]
    }
   ],
   "source": [
    "import grewpy\n",
    "from grewpy import Corpus, Request\n",
    "\n",
    "grewpy.set_config(\"sud\") # ud or basic"
   ]
  },
  {
   "cell_type": "markdown",
   "metadata": {},
   "source": [
    "## Prepare data\n",
    "The examples below suppose that the corpus `SUD_English-PUD` is available locally.\n",
    "It can be downloaded from https://grew.fr/download/SUD_2.13/SUD_English-PUD.tgz"
   ]
  },
  {
   "cell_type": "markdown",
   "metadata": {},
   "source": [
    "## Import data\n",
    "The `Corpus` constructor takes a `conllu` file or a directory containing `conllu` files.\n",
    "A `Corpus` allows to make queries and to count occurrences, \n",
    "\n",
    "Note that it doesn't allow a direct acces to the corpus. For that, use `CorpusDraft` object (TODO: add link)"
   ]
  },
  {
   "cell_type": "code",
   "execution_count": 2,
   "metadata": {
    "execution": {
     "iopub.execute_input": "2024-04-23T08:16:39.021868Z",
     "iopub.status.busy": "2024-04-23T08:16:39.020698Z",
     "iopub.status.idle": "2024-04-23T08:16:39.364691Z",
     "shell.execute_reply": "2024-04-23T08:16:39.364397Z"
    }
   },
   "outputs": [
    {
     "name": "stdout",
     "output_type": "stream",
     "text": [
      "<class 'grewpy.corpus.Corpus'>\n"
     ]
    }
   ],
   "source": [
    "treebank_path = \"SUD_English-PUD\"\n",
    "\n",
    "corpus = Corpus(treebank_path)\n",
    "print(type(corpus))"
   ]
  },
  {
   "cell_type": "code",
   "execution_count": 3,
   "metadata": {
    "execution": {
     "iopub.execute_input": "2024-04-23T08:16:39.366390Z",
     "iopub.status.busy": "2024-04-23T08:16:39.366283Z",
     "iopub.status.idle": "2024-04-23T08:16:39.370643Z",
     "shell.execute_reply": "2024-04-23T08:16:39.370311Z"
    }
   },
   "outputs": [
    {
     "name": "stdout",
     "output_type": "stream",
     "text": [
      "n_sentencens=1000\n",
      "sent_ids[0]='n01001011'\n"
     ]
    }
   ],
   "source": [
    "n_sentencens = len(corpus)\n",
    "sent_ids = corpus.get_sent_ids()\n",
    "\n",
    "print(f\"{n_sentencens=}\")\n",
    "print(f\"{sent_ids[0]=}\")"
   ]
  },
  {
   "cell_type": "markdown",
   "metadata": {},
   "source": [
    "## Explore data\n",
    "See [Grew-match tutorial](https://universal.grew.fr/?corpus=UD_English-ParTUT@2.13) to practice how to write Grew requests"
   ]
  },
  {
   "cell_type": "markdown",
   "metadata": {},
   "source": [
    "### Count the number of subjets in the corpus"
   ]
  },
  {
   "cell_type": "code",
   "execution_count": 4,
   "metadata": {
    "execution": {
     "iopub.execute_input": "2024-04-23T08:16:39.372504Z",
     "iopub.status.busy": "2024-04-23T08:16:39.372386Z",
     "iopub.status.idle": "2024-04-23T08:16:39.385569Z",
     "shell.execute_reply": "2024-04-23T08:16:39.385308Z"
    }
   },
   "outputs": [
    {
     "data": {
      "text/plain": [
       "1420"
      ]
     },
     "execution_count": 4,
     "metadata": {},
     "output_type": "execute_result"
    }
   ],
   "source": [
    "req1 = Request(\"X-[subj]->Y\")\n",
    "corpus.count(req1)"
   ]
  },
  {
   "cell_type": "markdown",
   "metadata": {},
   "source": [
    "### Count the number of subjects such that the subject's head is not a pronoun"
   ]
  },
  {
   "cell_type": "code",
   "execution_count": 5,
   "metadata": {
    "execution": {
     "iopub.execute_input": "2024-04-23T08:16:39.387255Z",
     "iopub.status.busy": "2024-04-23T08:16:39.387145Z",
     "iopub.status.idle": "2024-04-23T08:16:39.397115Z",
     "shell.execute_reply": "2024-04-23T08:16:39.396883Z"
    }
   },
   "outputs": [
    {
     "data": {
      "text/plain": [
       "943"
      ]
     },
     "execution_count": 5,
     "metadata": {},
     "output_type": "execute_result"
    }
   ],
   "source": [
    "req2 = Request(\"X-[subj]->Y\").without(\"Y[upos=PRON]\")\n",
    "corpus.count(req2)"
   ]
  },
  {
   "cell_type": "markdown",
   "metadata": {},
   "source": [
    "### Count the number of subjects with at least one dependant\n",
    "Note the usage of `with_` (because `with` is a Python keyword)\n"
   ]
  },
  {
   "cell_type": "code",
   "execution_count": 6,
   "metadata": {
    "execution": {
     "iopub.execute_input": "2024-04-23T08:16:39.398703Z",
     "iopub.status.busy": "2024-04-23T08:16:39.398621Z",
     "iopub.status.idle": "2024-04-23T08:16:39.408884Z",
     "shell.execute_reply": "2024-04-23T08:16:39.408619Z"
    }
   },
   "outputs": [
    {
     "data": {
      "text/plain": [
       "752"
      ]
     },
     "execution_count": 6,
     "metadata": {},
     "output_type": "execute_result"
    }
   ],
   "source": [
    "req3 = Request(\"X-[subj]->Y\").with_(\"Y->Z\")\n",
    "corpus.count(req3)"
   ]
  },
  {
   "cell_type": "markdown",
   "metadata": {},
   "source": [
    "### with and without items can be stacked \n"
   ]
  },
  {
   "cell_type": "code",
   "execution_count": 7,
   "metadata": {
    "execution": {
     "iopub.execute_input": "2024-04-23T08:16:39.410605Z",
     "iopub.status.busy": "2024-04-23T08:16:39.410500Z",
     "iopub.status.idle": "2024-04-23T08:16:39.422149Z",
     "shell.execute_reply": "2024-04-23T08:16:39.421897Z"
    }
   },
   "outputs": [
    {
     "data": {
      "text/plain": [
       "320"
      ]
     },
     "execution_count": 7,
     "metadata": {},
     "output_type": "execute_result"
    }
   ],
   "source": [
    "req4 = Request(\"X-[subj]->Y\").with_(\"Y->Z\").without(\"Y[upos=PRON]\").without(\"X[upos=VERB]\")\n",
    "corpus.count(req4)"
   ]
  },
  {
   "cell_type": "markdown",
   "metadata": {},
   "source": [
    "### Building a request with the raw Grew syntax\n",
    "It is possible to build request directly from the concrete syntax used in Grew-match or in Grew rules, with the `parse` function.\n",
    "The `req4` can be written:"
   ]
  },
  {
   "cell_type": "code",
   "execution_count": 8,
   "metadata": {
    "execution": {
     "iopub.execute_input": "2024-04-23T08:16:39.423765Z",
     "iopub.status.busy": "2024-04-23T08:16:39.423679Z",
     "iopub.status.idle": "2024-04-23T08:16:39.435433Z",
     "shell.execute_reply": "2024-04-23T08:16:39.435164Z"
    }
   },
   "outputs": [
    {
     "data": {
      "text/plain": [
       "320"
      ]
     },
     "execution_count": 8,
     "metadata": {},
     "output_type": "execute_result"
    }
   ],
   "source": [
    "req4bis = Request.parse(\"\"\"\n",
    "pattern { X-[subj]->Y }\n",
    "with { Y->Z }\n",
    "without { Y[upos=PRON] }\n",
    "without { X[upos=VERB] }\n",
    "\"\"\")\n",
    "corpus.count(req4bis)"
   ]
  },
  {
   "cell_type": "markdown",
   "metadata": {},
   "source": [
    "### More complex queries are allowed, with results clustering\n",
    "See [Clustering](../../doc/clustering) for more documentation.\n",
    "Below, we cluster the subject relation, according to the POS of the governor."
   ]
  },
  {
   "cell_type": "code",
   "execution_count": 9,
   "metadata": {
    "execution": {
     "iopub.execute_input": "2024-04-23T08:16:39.437285Z",
     "iopub.status.busy": "2024-04-23T08:16:39.437165Z",
     "iopub.status.idle": "2024-04-23T08:16:39.452381Z",
     "shell.execute_reply": "2024-04-23T08:16:39.452124Z"
    }
   },
   "outputs": [
    {
     "data": {
      "text/plain": [
       "{'VERB': 826, 'SCONJ': 1, 'PART': 5, 'NOUN': 3, 'AUX': 581, 'ADP': 3, 'ADJ': 1}"
      ]
     },
     "execution_count": 9,
     "metadata": {},
     "output_type": "execute_result"
    }
   ],
   "source": [
    "req5 = Request(\"X-[subj]->Y\")\n",
    "corpus.count(req5, clustering_parameter=[\"X.upos\"])"
   ]
  },
  {
   "cell_type": "markdown",
   "metadata": {},
   "source": [
    "### Clustering results by other requests\n",
    "The clustering is done on the relative position of `X` and `Y`.\n",
    "It answers to the question: _How many subjects are in a pre-verbal position?_"
   ]
  },
  {
   "cell_type": "code",
   "execution_count": 10,
   "metadata": {
    "execution": {
     "iopub.execute_input": "2024-04-23T08:16:39.454097Z",
     "iopub.status.busy": "2024-04-23T08:16:39.453993Z",
     "iopub.status.idle": "2024-04-23T08:16:39.465110Z",
     "shell.execute_reply": "2024-04-23T08:16:39.464850Z"
    }
   },
   "outputs": [
    {
     "data": {
      "text/plain": [
       "{'Yes': 77, 'No': 1343}"
      ]
     },
     "execution_count": 10,
     "metadata": {},
     "output_type": "execute_result"
    }
   ],
   "source": [
    "req5 = Request(\"X-[subj]->Y\")\n",
    "corpus.count(req5, clustering_parameter=[\"{X << Y}\"])"
   ]
  },
  {
   "cell_type": "markdown",
   "metadata": {},
   "source": [
    "### Two clusterings can be applied"
   ]
  },
  {
   "cell_type": "code",
   "execution_count": 11,
   "metadata": {
    "execution": {
     "iopub.execute_input": "2024-04-23T08:16:39.466706Z",
     "iopub.status.busy": "2024-04-23T08:16:39.466625Z",
     "iopub.status.idle": "2024-04-23T08:16:39.480434Z",
     "shell.execute_reply": "2024-04-23T08:16:39.480168Z"
    }
   },
   "outputs": [
    {
     "data": {
      "text/plain": [
       "{'Yes': {'VERB': 45, 'SCONJ': 1, 'AUX': 30, 'ADP': 1},\n",
       " 'No': {'VERB': 781, 'PART': 5, 'NOUN': 3, 'AUX': 551, 'ADP': 2, 'ADJ': 1}}"
      ]
     },
     "execution_count": 11,
     "metadata": {},
     "output_type": "execute_result"
    }
   ],
   "source": [
    "corpus.count(req5, clustering_parameter=[\"{X << Y}\",\"X.upos\"])"
   ]
  },
  {
   "cell_type": "markdown",
   "metadata": {},
   "source": [
    "### More than two clusterings are also possible"
   ]
  },
  {
   "cell_type": "code",
   "execution_count": 12,
   "metadata": {
    "execution": {
     "iopub.execute_input": "2024-04-23T08:16:39.482060Z",
     "iopub.status.busy": "2024-04-23T08:16:39.481961Z",
     "iopub.status.idle": "2024-04-23T08:16:39.497120Z",
     "shell.execute_reply": "2024-04-23T08:16:39.496839Z"
    }
   },
   "outputs": [
    {
     "data": {
      "text/plain": [
       "{'Yes': {'VERB': {'Yes': 16, 'No': 29},\n",
       "  'SCONJ': {'No': 1},\n",
       "  'AUX': {'Yes': 21, 'No': 9},\n",
       "  'ADP': {'No': 1}},\n",
       " 'No': {'VERB': {'Yes': 167, 'No': 614},\n",
       "  'PART': {'No': 5},\n",
       "  'NOUN': {'Yes': 2, 'No': 1},\n",
       "  'AUX': {'Yes': 255, 'No': 296},\n",
       "  'ADP': {'No': 2},\n",
       "  'ADJ': {'No': 1}}}"
      ]
     },
     "execution_count": 12,
     "metadata": {},
     "output_type": "execute_result"
    }
   ],
   "source": [
    "corpus.count(req5, clustering_parameter=[\"{X << Y}\",\"X.upos\", \"{X[Number=Sing]}\"])"
   ]
  },
  {
   "cell_type": "markdown",
   "metadata": {},
   "source": [
    "### Search occurrences\n",
    "Get the list of occurrence of a given request in the corpus"
   ]
  },
  {
   "cell_type": "code",
   "execution_count": 13,
   "metadata": {
    "execution": {
     "iopub.execute_input": "2024-04-23T08:16:39.498790Z",
     "iopub.status.busy": "2024-04-23T08:16:39.498689Z",
     "iopub.status.idle": "2024-04-23T08:16:39.521399Z",
     "shell.execute_reply": "2024-04-23T08:16:39.521132Z"
    }
   },
   "outputs": [
    {
     "data": {
      "text/plain": [
       "{'sent_id': 'w05010027',\n",
       " 'matching': {'nodes': {'Y': '8', 'X': '10'}, 'edges': {}}}"
      ]
     },
     "execution_count": 13,
     "metadata": {},
     "output_type": "execute_result"
    }
   ],
   "source": [
    "occurrences = corpus.search(req1)\n",
    "assert len(occurrences) == corpus.count(req1)\n",
    "occurrences[0]"
   ]
  },
  {
   "cell_type": "markdown",
   "metadata": {},
   "source": [
    "### Get occurrences including edges\n",
    "The edge is named `e`, and the label of the dependency is reported in the output"
   ]
  },
  {
   "cell_type": "code",
   "execution_count": 14,
   "metadata": {
    "execution": {
     "iopub.execute_input": "2024-04-23T08:16:39.523615Z",
     "iopub.status.busy": "2024-04-23T08:16:39.523504Z",
     "iopub.status.idle": "2024-04-23T08:16:39.564566Z",
     "shell.execute_reply": "2024-04-23T08:16:39.564317Z"
    }
   },
   "outputs": [
    {
     "data": {
      "text/plain": [
       "{'sent_id': 'w05010027',\n",
       " 'matching': {'nodes': {'Y': '12', 'X': '10'},\n",
       "  'edges': {'e': {'source': '10',\n",
       "    'label': {'1': 'comp', '2': 'obj'},\n",
       "    'target': '12'}}}}"
      ]
     },
     "execution_count": 14,
     "metadata": {},
     "output_type": "execute_result"
    }
   ],
   "source": [
    "req6 = Request(\"e: X->Y; X[upos=VERB]\")\n",
    "corpus.search(req6)[3]"
   ]
  },
  {
   "cell_type": "markdown",
   "metadata": {},
   "source": [
    "### As with `count`, we can cluster the results of a `search`"
   ]
  },
  {
   "cell_type": "code",
   "execution_count": 15,
   "metadata": {
    "execution": {
     "iopub.execute_input": "2024-04-23T08:16:39.566260Z",
     "iopub.status.busy": "2024-04-23T08:16:39.566159Z",
     "iopub.status.idle": "2024-04-23T08:16:39.603493Z",
     "shell.execute_reply": "2024-04-23T08:16:39.603242Z"
    }
   },
   "outputs": [
    {
     "data": {
      "text/plain": [
       "dict_keys(['Yes', 'No'])"
      ]
     },
     "execution_count": 15,
     "metadata": {},
     "output_type": "execute_result"
    }
   ],
   "source": [
    "result = corpus.search(req6, clustering_parameter=[\"{X << Y}\"])\n",
    "result.keys()"
   ]
  },
  {
   "cell_type": "markdown",
   "metadata": {},
   "source": [
    "### Extras"
   ]
  },
  {
   "cell_type": "code",
   "execution_count": 16,
   "metadata": {
    "execution": {
     "iopub.execute_input": "2024-04-23T08:16:39.605265Z",
     "iopub.status.busy": "2024-04-23T08:16:39.605160Z",
     "iopub.status.idle": "2024-04-23T08:16:39.616488Z",
     "shell.execute_reply": "2024-04-23T08:16:39.616204Z"
    }
   },
   "outputs": [
    {
     "data": {
      "image/svg+xml": [
       "<?xml version=\"1.0\" standalone=\"no\"?>\n",
       "<!DOCTYPE svg PUBLIC \"-//W3C//DTD SVG 1.1//EN\"\n",
       "\"http://www.w3.org/Graphics/SVG/1.1/DTD/svg11.dtd\">\n",
       "<!-- Created with dep2pict -->\n",
       "<svg xmlns:svg=\"http://www.w3.org/2000/svg\" xmlns=\"http://www.w3.org/2000/svg\" xmlns:xlink=\"http://www.w3.org/1999/xlink\" width=\"1252.49414\" height=\"321.72461\">\n",
       "<rect x=\"0\" y=\"0\" width=\"1252.49414\" height=\"321.72461\" style=\"fill:white;fill-opacity:0;\" />\n",
       "<g  transform=\"translate(0,159.36719) scale(2,2)\">\n",
       "<text id=\"word__N_1\" x=\"33.6455\" y=\"-14.4062\" font-style=\"normal\" font-weight=\"normal\" fill=\"black\" font-size=\"12\" font-family=\"Arial\" text-anchor=\"middle\" text-align=\"center\">\n",
       "<tspan   x=\"33.6455\" dy=\"12.8633\">$</tspan>\n",
       "</text>\n",
       "<text id=\"subword__N_1\" x=\"33.6455\" y=\"-1.54297\" fill=\"black\" font-size=\"7\" font-family=\"Arial\" text-anchor=\"middle\" text-align=\"center\">\n",
       "<tspan   x=\"33.6455\" dy=\"8.33691\">upos=SYM</tspan>\n",
       "<tspan   x=\"33.6455\" dy=\"8.33691\">lemma=$</tspan>\n",
       "<tspan   x=\"33.6455\" dy=\"8.33691\">xpos=$</tspan>\n",
       "<tspan   x=\"33.6455\" dy=\"8.33691\">SpaceAfter=No</tspan>\n",
       "<tspan   x=\"33.6455\" dy=\"8.33691\">textform=$</tspan>\n",
       "<tspan   x=\"33.6455\" dy=\"8.33691\">wordform=$</tspan>\n",
       "</text>\n",
       "<text id=\"word__N_2\" x=\"102.591\" y=\"-14.4062\" font-style=\"normal\" font-weight=\"normal\" fill=\"black\" font-size=\"12\" font-family=\"Arial\" text-anchor=\"middle\" text-align=\"center\">\n",
       "<tspan   x=\"102.591\" dy=\"12.8633\">5,000</tspan>\n",
       "</text>\n",
       "<text id=\"subword__N_2\" x=\"102.591\" y=\"-1.54297\" fill=\"black\" font-size=\"7\" font-family=\"Arial\" text-anchor=\"middle\" text-align=\"center\">\n",
       "<tspan   x=\"102.591\" dy=\"8.33691\">upos=NUM</tspan>\n",
       "<tspan   x=\"102.591\" dy=\"8.33691\">lemma=5,000</tspan>\n",
       "<tspan   x=\"102.591\" dy=\"8.33691\">xpos=CD</tspan>\n",
       "<tspan   x=\"102.591\" dy=\"8.33691\">NumForm=Digit</tspan>\n",
       "<tspan   x=\"102.591\" dy=\"8.33691\">NumType=Card</tspan>\n",
       "<tspan   x=\"102.591\" dy=\"8.33691\">textform=5,000</tspan>\n",
       "<tspan   x=\"102.591\" dy=\"8.33691\">wordform=5,000</tspan>\n",
       "</text>\n",
       "<text id=\"word__N_3\" x=\"169.706\" y=\"-14.4062\" font-style=\"normal\" font-weight=\"normal\" fill=\"black\" font-size=\"12\" font-family=\"Arial\" text-anchor=\"middle\" text-align=\"center\">\n",
       "<tspan   x=\"169.706\" dy=\"12.8633\">per</tspan>\n",
       "</text>\n",
       "<text id=\"subword__N_3\" x=\"169.706\" y=\"-1.54297\" fill=\"black\" font-size=\"7\" font-family=\"Arial\" text-anchor=\"middle\" text-align=\"center\">\n",
       "<tspan   x=\"169.706\" dy=\"8.33691\">upos=ADP</tspan>\n",
       "<tspan   x=\"169.706\" dy=\"8.33691\">lemma=per</tspan>\n",
       "<tspan   x=\"169.706\" dy=\"8.33691\">xpos=IN</tspan>\n",
       "<tspan   x=\"169.706\" dy=\"8.33691\">textform=per</tspan>\n",
       "<tspan   x=\"169.706\" dy=\"8.33691\">wordform=per</tspan>\n",
       "</text>\n",
       "<text id=\"word__N_4\" x=\"238.69\" y=\"-14.4062\" font-style=\"normal\" font-weight=\"normal\" fill=\"black\" font-size=\"12\" font-family=\"Arial\" text-anchor=\"middle\" text-align=\"center\">\n",
       "<tspan   x=\"238.69\" dy=\"12.8633\">person</tspan>\n",
       "</text>\n",
       "<text id=\"subword__N_4\" x=\"238.69\" y=\"-1.54297\" fill=\"black\" font-size=\"7\" font-family=\"Arial\" text-anchor=\"middle\" text-align=\"center\">\n",
       "<tspan   x=\"238.69\" dy=\"8.33691\">upos=NOUN</tspan>\n",
       "<tspan   x=\"238.69\" dy=\"8.33691\">lemma=person</tspan>\n",
       "<tspan   x=\"238.69\" dy=\"8.33691\">xpos=NN</tspan>\n",
       "<tspan   x=\"238.69\" dy=\"8.33691\">Number=Sing</tspan>\n",
       "<tspan   x=\"238.69\" dy=\"8.33691\">SpaceAfter=No</tspan>\n",
       "<tspan   x=\"238.69\" dy=\"8.33691\">textform=person</tspan>\n",
       "<tspan   x=\"238.69\" dy=\"8.33691\">wordform=person</tspan>\n",
       "</text>\n",
       "<text id=\"word__N_5\" x=\"307.255\" y=\"-14.4062\" font-style=\"normal\" font-weight=\"normal\" fill=\"black\" font-size=\"12\" font-family=\"Arial\" text-anchor=\"middle\" text-align=\"center\">\n",
       "<tspan   x=\"307.255\" dy=\"12.8633\">,</tspan>\n",
       "</text>\n",
       "<text id=\"subword__N_5\" x=\"307.255\" y=\"-1.54297\" fill=\"black\" font-size=\"7\" font-family=\"Arial\" text-anchor=\"middle\" text-align=\"center\">\n",
       "<tspan   x=\"307.255\" dy=\"8.33691\">upos=PUNCT</tspan>\n",
       "<tspan   x=\"307.255\" dy=\"8.33691\">lemma=,</tspan>\n",
       "<tspan   x=\"307.255\" dy=\"8.33691\">xpos=,</tspan>\n",
       "<tspan   x=\"307.255\" dy=\"8.33691\">textform=,</tspan>\n",
       "<tspan   x=\"307.255\" dy=\"8.33691\">wordform=,</tspan>\n",
       "</text>\n",
       "<text id=\"word__N_6\" x=\"370.078\" y=\"-14.4062\" font-style=\"normal\" font-weight=\"normal\" fill=\"black\" font-size=\"12\" font-family=\"Arial\" text-anchor=\"middle\" text-align=\"center\">\n",
       "<tspan   x=\"370.078\" dy=\"12.8633\">the</tspan>\n",
       "</text>\n",
       "<text id=\"subword__N_6\" x=\"370.078\" y=\"-1.54297\" fill=\"black\" font-size=\"7\" font-family=\"Arial\" text-anchor=\"middle\" text-align=\"center\">\n",
       "<tspan   x=\"370.078\" dy=\"8.33691\">upos=DET</tspan>\n",
       "<tspan   x=\"370.078\" dy=\"8.33691\">lemma=the</tspan>\n",
       "<tspan   x=\"370.078\" dy=\"8.33691\">xpos=DT</tspan>\n",
       "<tspan   x=\"370.078\" dy=\"8.33691\">Definite=Def</tspan>\n",
       "<tspan   x=\"370.078\" dy=\"8.33691\">PronType=Art</tspan>\n",
       "<tspan   x=\"370.078\" dy=\"8.33691\">textform=the</tspan>\n",
       "<tspan   x=\"370.078\" dy=\"8.33691\">wordform=the</tspan>\n",
       "</text>\n",
       "<text id=\"word__N_7\" x=\"443.158\" y=\"-14.4062\" font-style=\"normal\" font-weight=\"normal\" fill=\"black\" font-size=\"12\" font-family=\"Arial\" text-anchor=\"middle\" text-align=\"center\">\n",
       "<tspan   x=\"443.158\" dy=\"12.8633\">maximum</tspan>\n",
       "</text>\n",
       "<text id=\"subword__N_7\" x=\"443.158\" y=\"-1.54297\" fill=\"black\" font-size=\"7\" font-family=\"Arial\" text-anchor=\"middle\" text-align=\"center\">\n",
       "<tspan   x=\"443.158\" dy=\"8.33691\">upos=NOUN</tspan>\n",
       "<tspan   x=\"443.158\" dy=\"8.33691\">lemma=maximum</tspan>\n",
       "<tspan   x=\"443.158\" dy=\"8.33691\">xpos=NN</tspan>\n",
       "<tspan   x=\"443.158\" dy=\"8.33691\">Number=Sing</tspan>\n",
       "<tspan   x=\"443.158\" dy=\"8.33691\">textform=maximum</tspan>\n",
       "<tspan   x=\"443.158\" dy=\"8.33691\">wordform=maximum</tspan>\n",
       "</text>\n",
       "<text id=\"word__N_8\" x=\"523.133\" y=\"-14.4062\" font-style=\"normal\" font-weight=\"normal\" fill=\"black\" font-size=\"12\" font-family=\"Arial\" text-anchor=\"middle\" text-align=\"center\">\n",
       "<tspan   x=\"523.133\" dy=\"12.8633\">allowed</tspan>\n",
       "</text>\n",
       "<text id=\"subword__N_8\" x=\"523.133\" y=\"-1.54297\" fill=\"black\" font-size=\"7\" font-family=\"Arial\" text-anchor=\"middle\" text-align=\"center\">\n",
       "<tspan   x=\"523.133\" dy=\"8.33691\">upos=VERB</tspan>\n",
       "<tspan   x=\"523.133\" dy=\"8.33691\">lemma=allow</tspan>\n",
       "<tspan   x=\"523.133\" dy=\"8.33691\">xpos=VBN</tspan>\n",
       "<tspan   x=\"523.133\" dy=\"8.33691\">SpaceAfter=No</tspan>\n",
       "<tspan   x=\"523.133\" dy=\"8.33691\">Tense=Past</tspan>\n",
       "<tspan   x=\"523.133\" dy=\"8.33691\">VerbForm=Part</tspan>\n",
       "<tspan   x=\"523.133\" dy=\"8.33691\">textform=allowed</tspan>\n",
       "<tspan   x=\"523.133\" dy=\"8.33691\">wordform=allowed</tspan>\n",
       "</text>\n",
       "<text id=\"word__N_9\" x=\"592.852\" y=\"-14.4062\" font-style=\"normal\" font-weight=\"normal\" fill=\"black\" font-size=\"12\" font-family=\"Arial\" text-anchor=\"middle\" text-align=\"center\">\n",
       "<tspan   x=\"592.852\" dy=\"12.8633\">.</tspan>\n",
       "</text>\n",
       "<text id=\"subword__N_9\" x=\"592.852\" y=\"-1.54297\" fill=\"black\" font-size=\"7\" font-family=\"Arial\" text-anchor=\"middle\" text-align=\"center\">\n",
       "<tspan   x=\"592.852\" dy=\"8.33691\">upos=PUNCT</tspan>\n",
       "<tspan   x=\"592.852\" dy=\"8.33691\">lemma=.</tspan>\n",
       "<tspan   x=\"592.852\" dy=\"8.33691\">xpos=.</tspan>\n",
       "<tspan   x=\"592.852\" dy=\"8.33691\">textform=.</tspan>\n",
       "<tspan   x=\"592.852\" dy=\"8.33691\">wordform=.</tspan>\n",
       "</text>\n",
       "\n",
       "<marker id=\"markerendword_0\" markerWidth=\"5\" markerHeight=\"5\" markerUnits=\"userSpaceOnUse\" orient=\"auto\" refX=\"2\" refY=\"2\">\n",
       "<path d=\"M0,0 l4,2 l-4,2 z\" style=\"fill:black;\"/>\n",
       "</marker>\n",
       "<text id=\"label__N_1__N_2__mod\" x=\"72.64551\" y=\"-24.40625\" style=\"fill:black;font-size:7px;font-family:Arial;text-anchor:middle;text-align:center\" >mod</text>\n",
       "<path style=\"marker-end:url(#markerendword_0);\" stroke=\"black\" fill=\"none\" d=\"M 43.64551,-13.40625 43.64551,-18.40625 A 3 3 0 0 1 46.64551,-21.40625 L 99.59082,-21.40625 A 3 3 0 0 1 102.59082,-18.40625 L 102.59082,-13.40625\" ></path>\n",
       "<marker id=\"markerendword_5\" markerWidth=\"5\" markerHeight=\"5\" markerUnits=\"userSpaceOnUse\" orient=\"auto\" refX=\"2\" refY=\"2\">\n",
       "<path d=\"M0,0 l4,2 l-4,2 z\" style=\"fill:black;\"/>\n",
       "</marker>\n",
       "<text id=\"label__N_3__N_4__comp:obj\" x=\"205.20581\" y=\"-24.40625\" style=\"fill:black;font-size:7px;font-family:Arial;text-anchor:middle;text-align:center\" >comp:obj</text>\n",
       "<path style=\"marker-end:url(#markerendword_5);\" stroke=\"black\" fill=\"none\" d=\"M 172.20581,-13.40625 172.20581,-18.40625 A 3 3 0 0 1 175.20581,-21.40625 L 235.69043,-21.40625 A 3 3 0 0 1 238.69043,-18.40625 L 238.69043,-13.40625\" ></path>\n",
       "<marker id=\"markerendword_6\" markerWidth=\"5\" markerHeight=\"5\" markerUnits=\"userSpaceOnUse\" orient=\"auto\" refX=\"2\" refY=\"2\">\n",
       "<path d=\"M0,0 l4,2 l-4,2 z\" style=\"fill:black;\"/>\n",
       "</marker>\n",
       "<text id=\"label__N_7__N_6__det\" x=\"404.07837\" y=\"-24.40625\" style=\"fill:black;font-size:7px;font-family:Arial;text-anchor:middle;text-align:center\" >det</text>\n",
       "<path style=\"marker-end:url(#markerendword_6);\" stroke=\"black\" fill=\"none\" d=\"M 438.15771,-13.40625 438.15771,-18.40625 A 3 3 0 0 0 435.15771,-21.40625 L 373.07837,-21.40625 A 3 3 0 0 0 370.07837,-18.40625 L 370.07837,-13.40625\" ></path>\n",
       "<marker id=\"markerendword_7\" markerWidth=\"5\" markerHeight=\"5\" markerUnits=\"userSpaceOnUse\" orient=\"auto\" refX=\"2\" refY=\"2\">\n",
       "<path d=\"M0,0 l4,2 l-4,2 z\" style=\"fill:black;\"/>\n",
       "</marker>\n",
       "<text id=\"label__N_7__N_8__mod\" x=\"485.15771\" y=\"-24.40625\" style=\"fill:black;font-size:7px;font-family:Arial;text-anchor:middle;text-align:center\" >mod</text>\n",
       "<path style=\"marker-end:url(#markerendword_7);\" stroke=\"black\" fill=\"none\" d=\"M 448.15771,-13.40625 448.15771,-18.40625 A 3 3 0 0 1 451.15771,-21.40625 L 520.13281,-21.40625 A 3 3 0 0 1 523.13281,-18.40625 L 523.13281,-13.40625\" ></path>\n",
       "<marker id=\"markerendword_1\" markerWidth=\"5\" markerHeight=\"5\" markerUnits=\"userSpaceOnUse\" orient=\"auto\" refX=\"2\" refY=\"2\">\n",
       "<path d=\"M0,0 l4,2 l-4,2 z\" style=\"fill:black;\"/>\n",
       "</marker>\n",
       "<text id=\"label__N_1__N_3__udep\" x=\"102.64551\" y=\"-34.40625\" style=\"fill:black;font-size:7px;font-family:Arial;text-anchor:middle;text-align:center\" >udep</text>\n",
       "<path style=\"marker-end:url(#markerendword_1);\" stroke=\"black\" fill=\"none\" d=\"M 38.64551,-13.40625 38.64551,-28.40625 A 3 3 0 0 1 41.64551,-31.40625 L 164.20581,-31.40625 A 3 3 0 0 1 167.20581,-28.40625 L 167.20581,-13.40625\" ></path>\n",
       "<marker id=\"markerendword_2\" markerWidth=\"5\" markerHeight=\"5\" markerUnits=\"userSpaceOnUse\" orient=\"auto\" refX=\"2\" refY=\"2\">\n",
       "<path d=\"M0,0 l4,2 l-4,2 z\" style=\"fill:black;\"/>\n",
       "</marker>\n",
       "<text id=\"label__N_1__N_5__punct\" x=\"170.14551\" y=\"-44.40625\" style=\"fill:black;font-size:7px;font-family:Arial;text-anchor:middle;text-align:center\" >punct</text>\n",
       "<path style=\"marker-end:url(#markerendword_2);\" stroke=\"black\" fill=\"none\" d=\"M 33.64551,-13.40625 33.64551,-38.40625 A 3 3 0 0 1 36.64551,-41.40625 L 304.25464,-41.40625 A 3 3 0 0 1 307.25464,-38.40625 L 307.25464,-13.40625\" ></path>\n",
       "<marker id=\"markerendword_3\" markerWidth=\"5\" markerHeight=\"5\" markerUnits=\"userSpaceOnUse\" orient=\"auto\" refX=\"2\" refY=\"2\">\n",
       "<path d=\"M0,0 l4,2 l-4,2 z\" style=\"fill:black;\"/>\n",
       "</marker>\n",
       "<text id=\"label__N_1__N_7__appos\" x=\"235.64551\" y=\"-54.40625\" style=\"fill:black;font-size:7px;font-family:Arial;text-anchor:middle;text-align:center\" >appos</text>\n",
       "<path style=\"marker-end:url(#markerendword_3);\" stroke=\"black\" fill=\"none\" d=\"M 28.64551,-13.40625 28.64551,-48.40625 A 3 3 0 0 1 31.64551,-51.40625 L 440.15771,-51.40625 A 3 3 0 0 1 443.15771,-48.40625 L 443.15771,-13.40625\" ></path>\n",
       "<marker id=\"markerendword_4\" markerWidth=\"5\" markerHeight=\"5\" markerUnits=\"userSpaceOnUse\" orient=\"auto\" refX=\"2\" refY=\"2\">\n",
       "<path d=\"M0,0 l4,2 l-4,2 z\" style=\"fill:black;\"/>\n",
       "</marker>\n",
       "<text id=\"label__N_1__N_9__punct\" x=\"308.14551\" y=\"-64.40625\" style=\"fill:black;font-size:7px;font-family:Arial;text-anchor:middle;text-align:center\" >punct</text>\n",
       "<path style=\"marker-end:url(#markerendword_4);\" stroke=\"black\" fill=\"none\" d=\"M 23.64551,-13.40625 23.64551,-58.40625 A 3 3 0 0 1 26.64551,-61.40625 L 589.85229,-61.40625 A 3 3 0 0 1 592.85229,-58.40625 L 592.85229,-13.40625\" ></path>\n",
       "\n",
       "\n",
       "</g>\n",
       "</svg>\n"
      ]
     },
     "metadata": {},
     "output_type": "display_data"
    }
   ],
   "source": [
    "# Grewpy give access to svg or dot formats to display graphs\n",
    "from IPython.display import display_svg\n",
    "\n",
    "sentence = corpus[6]\n",
    "\n",
    "g = sentence.to_svg() #.to_dot()\n",
    "display_svg(g, raw=True)"
   ]
  },
  {
   "cell_type": "code",
   "execution_count": 17,
   "metadata": {
    "execution": {
     "iopub.execute_input": "2024-04-23T08:16:39.618131Z",
     "iopub.status.busy": "2024-04-23T08:16:39.618021Z",
     "iopub.status.idle": "2024-04-23T08:16:39.856016Z",
     "shell.execute_reply": "2024-04-23T08:16:39.855735Z"
    }
   },
   "outputs": [
    {
     "name": "stdout",
     "output_type": "stream",
     "text": [
      "# newdoc id = n01001\n",
      "# sent_id = n01001011\n",
      "# text = “While much of the digital transition is unprecedented\n"
     ]
    }
   ],
   "source": [
    "# the conllu is easy to get of recover\n",
    "\n",
    "conll_string= corpus.to_conll()\n",
    "print(conll_string[:106])"
   ]
  },
  {
   "cell_type": "code",
   "execution_count": 18,
   "metadata": {
    "execution": {
     "iopub.execute_input": "2024-04-23T08:16:39.857648Z",
     "iopub.status.busy": "2024-04-23T08:16:39.857561Z",
     "iopub.status.idle": "2024-04-23T08:16:39.873780Z",
     "shell.execute_reply": "2024-04-23T08:16:39.873498Z"
    }
   },
   "outputs": [
    {
     "data": {
      "text/plain": [
       "grewpy.grew.GrewError('Oups!')"
      ]
     },
     "execution_count": 18,
     "metadata": {},
     "output_type": "execute_result"
    }
   ],
   "source": [
    "# Working with really big corpus could be a little bit painful. \n",
    "# To remove the corpus from memory use:\n",
    "corpus.clean()\n",
    "\n",
    "# Grew errors can be capture using:\n",
    "grewpy.grew.GrewError(\"Oups!\")"
   ]
  }
 ],
 "metadata": {
  "kernelspec": {
   "display_name": "venv",
   "language": "python",
   "name": "python3"
  },
  "language_info": {
   "codemirror_mode": {
    "name": "ipython",
    "version": 3
   },
   "file_extension": ".py",
   "mimetype": "text/x-python",
   "name": "python",
   "nbconvert_exporter": "python",
   "pygments_lexer": "ipython3",
   "version": "3.10.5"
  }
 },
 "nbformat": 4,
 "nbformat_minor": 2
}
