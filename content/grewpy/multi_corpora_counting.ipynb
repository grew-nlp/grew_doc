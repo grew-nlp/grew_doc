{
 "cells": [
  {
   "cell_type": "markdown",
   "metadata": {},
   "source": [
    "```\n",
    "title: \"Grewpy • Multi corpora counting\"\n",
    "date: 2024-10-18\n",
    "```"
   ]
  },
  {
   "cell_type": "markdown",
   "metadata": {},
   "source": [
    "[`grewpy` Tutorial](../tutorial)"
   ]
  },
  {
   "cell_type": "markdown",
   "metadata": {},
   "source": [
    "# Grewpy tutorial: counting requests on a list of corpus\n",
    "\n",
    "Download the notebook [here](../multi_corpora_counting.ipynb)."
   ]
  },
  {
   "cell_type": "code",
   "execution_count": 1,
   "metadata": {
    "execution": {
     "iopub.execute_input": "2024-10-18T15:57:16.790077Z",
     "iopub.status.busy": "2024-10-18T15:57:16.789617Z",
     "iopub.status.idle": "2024-10-18T15:57:17.061064Z",
     "shell.execute_reply": "2024-10-18T15:57:17.037927Z"
    }
   },
   "outputs": [
    {
     "name": "stderr",
     "output_type": "stream",
     "text": [
      "connected to port: 50922\n"
     ]
    }
   ],
   "source": [
    "import grewpy\n",
    "from grewpy import Corpus, Request\n",
    "\n",
    "grewpy.set_config(\"ud\")"
   ]
  },
  {
   "cell_type": "markdown",
   "metadata": {},
   "source": [
    "Below, we define the list of corpora to be used.\n",
    "We suppose that there is a (link to) a local folder named `ud-treebanks-v2.14` with data of the corresponding UD release.\n",
    "\n",
    "Requests are defined by a list of pairs; each pair contains the corpus_id in the previous folder and the request code."
   ]
  },
  {
   "cell_type": "code",
   "execution_count": 2,
   "metadata": {
    "execution": {
     "iopub.execute_input": "2024-10-18T15:57:17.067911Z",
     "iopub.status.busy": "2024-10-18T15:57:17.067112Z",
     "iopub.status.idle": "2024-10-18T15:57:17.073094Z",
     "shell.execute_reply": "2024-10-18T15:57:17.072303Z"
    }
   },
   "outputs": [],
   "source": [
    "folder = \"ud-treebanks-v2.14\"\n",
    "\n",
    "corpus_list = [\n",
    "  \"UD_Arabic-PUD\",\n",
    "  \"UD_Chinese-PUD\",\n",
    "  \"UD_Czech-PUD\",\n",
    "  \"UD_English-PUD\",\n",
    "  \"UD_Finnish-PUD\",\n",
    "  \"UD_French-PUD\",\n",
    "  \"UD_German-PUD\",\n",
    "  \"UD_Hindi-PUD\",\n",
    "  \"UD_Icelandic-PUD\",\n",
    "  \"UD_Indonesian-PUD\",\n",
    "  \"UD_Italian-PUD\",\n",
    "  \"UD_Japanese-PUD\",\n",
    "  \"UD_Korean-PUD\",\n",
    "  \"UD_Polish-PUD\",\n",
    "  \"UD_Portuguese-PUD\",\n",
    "  \"UD_Russian-PUD\",\n",
    "  \"UD_Spanish-PUD\",\n",
    "  \"UD_Swedish-PUD\",\n",
    "  \"UD_Thai-PUD\",\n",
    "  \"UD_Turkish-PUD\"\n",
    "]\n",
    "request_codes = [\n",
    "  (\"SV\", \"pattern { V -[nsubj]-> S; S << V }\"),\n",
    "  (\"VS\", \"pattern { V -[nsubj]-> S; V << S }\"),\n",
    "]"
   ]
  },
  {
   "cell_type": "markdown",
   "metadata": {},
   "source": [
    "The code below prints (on `stdout`) TSV data, with one lien for each corpus and one columns for each requet, with the correponding number of occurrences."
   ]
  },
  {
   "cell_type": "code",
   "execution_count": 3,
   "metadata": {
    "execution": {
     "iopub.execute_input": "2024-10-18T15:57:17.078734Z",
     "iopub.status.busy": "2024-10-18T15:57:17.078091Z",
     "iopub.status.idle": "2024-10-18T15:57:25.924627Z",
     "shell.execute_reply": "2024-10-18T15:57:25.924319Z"
    }
   },
   "outputs": [
    {
     "name": "stdout",
     "output_type": "stream",
     "text": [
      "Corpus\tSV\tVS\n",
      "UD_Arabic-PUD\t545\t825\n",
      "UD_Chinese-PUD\t1767\t5\n",
      "UD_Czech-PUD\t987\t258\n",
      "UD_English-PUD\t1339\t53\n",
      "UD_Finnish-PUD\t1018\t86\n",
      "UD_French-PUD\t1354\t63\n",
      "UD_German-PUD\t1209\t273\n",
      "UD_Hindi-PUD\t1121\t6\n",
      "UD_Icelandic-PUD\t1513\t282\n",
      "UD_Indonesian-PUD\t1415\t113\n",
      "UD_Italian-PUD\t1023\t103\n",
      "UD_Japanese-PUD\t1446\t0\n",
      "UD_Korean-PUD\t1545\t1\n",
      "UD_Polish-PUD\t857\t206\n",
      "UD_Portuguese-PUD\t1227\t58\n",
      "UD_Russian-PUD\t1157\t205\n",
      "UD_Spanish-PUD\t1074\t116\n",
      "UD_Swedish-PUD\t1252\t259\n",
      "UD_Thai-PUD\t1618\t1\n",
      "UD_Turkish-PUD\t1233\t6\n"
     ]
    }
   ],
   "source": [
    "tab='\\t'\n",
    "request_list = [(request_id,Request(code)) for (request_id,code) in request_codes]\n",
    "request_ids = [request_id for (request_id,code) in request_codes]\n",
    "print (f'Corpus{tab}{tab.join(request_ids)}')\n",
    "for corpus_id in corpus_list:\n",
    "\tcorpus = Corpus (f'{folder}/{corpus_id}')\n",
    "\toccurences = [str(corpus.count(request)) for (_,request) in request_list]\n",
    "\tprint (f'{corpus_id}{tab}{tab.join(occurences)}')\n",
    "\tcorpus.clean()  # free unused corpus from memory"
   ]
  }
 ],
 "metadata": {
  "kernelspec": {
   "display_name": "Python 3",
   "language": "python",
   "name": "python3"
  },
  "language_info": {
   "codemirror_mode": {
    "name": "ipython",
    "version": 3
   },
   "file_extension": ".py",
   "mimetype": "text/x-python",
   "name": "python",
   "nbconvert_exporter": "python",
   "pygments_lexer": "ipython3",
   "version": "3.10.5"
  }
 },
 "nbformat": 4,
 "nbformat_minor": 2
}
