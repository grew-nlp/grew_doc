{
 "cells": [
  {
   "cell_type": "markdown",
   "metadata": {},
   "source": [
    "```\n",
    "title: \"Grewpy • request\"\n",
    "date: 2024-04-22\n",
    "```"
   ]
  },
  {
   "cell_type": "markdown",
   "metadata": {},
   "source": [
    "[`grewpy` Tutorial](../tutorial)"
   ]
  },
  {
   "cell_type": "markdown",
   "metadata": {},
   "source": [
    "# Grewpy tutorial: Modify data\n",
    "\n",
    "Download the notebook [here](../modify_data.ipynb)."
   ]
  },
  {
   "cell_type": "code",
   "execution_count": null,
   "metadata": {
    "execution": {
     "iopub.execute_input": "2024-06-03T20:23:17.982991Z",
     "iopub.status.busy": "2024-06-03T20:23:17.982025Z",
     "iopub.status.idle": "2024-06-03T20:23:18.600664Z",
     "shell.execute_reply": "2024-06-03T20:23:18.600195Z"
    }
   },
   "outputs": [],
   "source": [
    "import grewpy\n",
    "from grewpy import Corpus, CorpusDraft, Request\n",
    "grewpy.set_config(\"sud\") # ud or basic\n",
    "corpus = Corpus(\"SUD_English-PUD\")"
   ]
  },
  {
   "cell_type": "markdown",
   "metadata": {},
   "source": [
    "## Access data in a corpus"
   ]
  },
  {
   "cell_type": "code",
   "execution_count": null,
   "metadata": {
    "execution": {
     "iopub.execute_input": "2024-06-03T20:23:18.602789Z",
     "iopub.status.busy": "2024-06-03T20:23:18.602616Z",
     "iopub.status.idle": "2024-06-03T20:23:18.609033Z",
     "shell.execute_reply": "2024-06-03T20:23:18.608809Z"
    }
   },
   "outputs": [],
   "source": [
    "# Access to the corpus\n",
    "sentence = corpus[1]\n",
    "print(\"A corpus is a set of graphs:\", type(sentence))"
   ]
  },
  {
   "cell_type": "code",
   "execution_count": null,
   "metadata": {
    "execution": {
     "iopub.execute_input": "2024-06-03T20:23:18.610548Z",
     "iopub.status.busy": "2024-06-03T20:23:18.610455Z",
     "iopub.status.idle": "2024-06-03T20:23:18.615007Z",
     "shell.execute_reply": "2024-06-03T20:23:18.614741Z"
    }
   },
   "outputs": [],
   "source": [
    "# Each graph is a sentence and contains all its information\n",
    "print(\"Sentence metadata:\")\n",
    "sentence.meta"
   ]
  },
  {
   "cell_type": "code",
   "execution_count": null,
   "metadata": {
    "execution": {
     "iopub.execute_input": "2024-06-03T20:23:18.616540Z",
     "iopub.status.busy": "2024-06-03T20:23:18.616451Z",
     "iopub.status.idle": "2024-06-03T20:23:18.618216Z",
     "shell.execute_reply": "2024-06-03T20:23:18.617965Z"
    }
   },
   "outputs": [],
   "source": [
    "# Sentence order, which in this case is the same as the token's id\n",
    "print(sentence.order)"
   ]
  },
  {
   "cell_type": "code",
   "execution_count": null,
   "metadata": {
    "execution": {
     "iopub.execute_input": "2024-06-03T20:23:18.619687Z",
     "iopub.status.busy": "2024-06-03T20:23:18.619606Z",
     "iopub.status.idle": "2024-06-03T20:23:18.621634Z",
     "shell.execute_reply": "2024-06-03T20:23:18.621410Z"
    }
   },
   "outputs": [],
   "source": [
    "# Token features, which make possible to access every token feature\n",
    "print(sentence.features)\n",
    "\n",
    "# e.g get all upos of the sentence\n",
    "print([sentence.features[id]['upos'] for id in sentence.features if id != \"0\"])"
   ]
  },
  {
   "cell_type": "code",
   "execution_count": null,
   "metadata": {
    "execution": {
     "iopub.execute_input": "2024-06-03T20:23:18.623083Z",
     "iopub.status.busy": "2024-06-03T20:23:18.623000Z",
     "iopub.status.idle": "2024-06-03T20:23:18.624801Z",
     "shell.execute_reply": "2024-06-03T20:23:18.624525Z"
    }
   },
   "outputs": [],
   "source": [
    "# It's possible to access to edges between nodes as successors\n",
    "print(sentence.sucs)"
   ]
  },
  {
   "cell_type": "markdown",
   "metadata": {},
   "source": [
    "## Modifying a corpus\n",
    "`Corpus` is an abstract object which cannot be modified directly:"
   ]
  },
  {
   "cell_type": "code",
   "execution_count": null,
   "metadata": {
    "execution": {
     "iopub.execute_input": "2024-06-03T20:23:18.626399Z",
     "iopub.status.busy": "2024-06-03T20:23:18.626316Z",
     "iopub.status.idle": "2024-06-03T20:23:18.631549Z",
     "shell.execute_reply": "2024-06-03T20:23:18.631310Z"
    }
   },
   "outputs": [],
   "source": [
    "try:\n",
    "\tcorpus[0] = corpus[1]\n",
    "except TypeError as error_message:\n",
    "\tprint (f\"{error_message}\")"
   ]
  },
  {
   "cell_type": "markdown",
   "metadata": {},
   "source": [
    "`CorpusDraft` is an object similar to `Corpus` (all methods above can be applied to `CorpusDraft`) but which is mutable.\n",
    "Below, we add the feature `Transitive=Yes` to all occurrences of verbs with a direct object.\n",
    "\n",
    "The `CorpusDraft` named `draft` should be transformed again into a `Corpus` (names `corpus2` below) in order to use the `count` method."
   ]
  },
  {
   "cell_type": "code",
   "execution_count": null,
   "metadata": {
    "execution": {
     "iopub.execute_input": "2024-06-03T20:23:18.633150Z",
     "iopub.status.busy": "2024-06-03T20:23:18.633068Z",
     "iopub.status.idle": "2024-06-03T20:23:19.079352Z",
     "shell.execute_reply": "2024-06-03T20:23:19.079074Z"
    }
   },
   "outputs": [],
   "source": [
    "draft = CorpusDraft(corpus)\n",
    "req7 = Request().pattern(\"X[upos=VERB]; Y[upos=NOUN]; X-[comp:obj]->Y\")\n",
    "occurrences = corpus.search(req7)\n",
    "for occ in occurrences:\n",
    "    sent_id = occ['sent_id']\n",
    "    verb_node_id = occ['matching']['nodes']['X']\n",
    "    draft[sent_id][verb_node_id].update({\"Transitive\": \"Yes\"})\n",
    "\n",
    "corpus2 = Corpus(draft)\n",
    "corpus2.count(Request(\"pattern { X[Transitive=Yes] }\"))"
   ]
  },
  {
   "cell_type": "markdown",
   "metadata": {},
   "source": [
    "It's possible to modify a whole corpus with a function getting a graph as input."
   ]
  },
  {
   "cell_type": "code",
   "execution_count": null,
   "metadata": {
    "execution": {
     "iopub.execute_input": "2024-06-03T20:23:19.081214Z",
     "iopub.status.busy": "2024-06-03T20:23:19.081093Z",
     "iopub.status.idle": "2024-06-03T20:23:19.370958Z",
     "shell.execute_reply": "2024-06-03T20:23:19.370680Z"
    }
   },
   "outputs": [],
   "source": [
    "def relabel_noun(graph):\n",
    "    for node in graph:\n",
    "        if 'upos' in graph[node] and graph[node]['upos'] == 'NOUN':\n",
    "            graph[node]['upos'] = 'N'\n",
    "    return graph\n",
    "\n",
    "draft3 = draft.apply(relabel_noun)\n",
    "corpus3 = Corpus(draft3)\n",
    "corpus3.count(Request(\"X[upos=N]\"))"
   ]
  },
  {
   "cell_type": "markdown",
   "metadata": {},
   "source": [
    "## Modifying a corpus using a GRS (Graph Rewriting System)\n",
    "In many cases, it is not required to uses a `CorpusDraft` and the modification of a corpus can be encoded with graph rewriting rules.\n",
    "\n",
    "The example above (identifying transitive verbs) can be rephrased as below.\n",
    "See TODO link for an explanation of the `without` clause in this example."
   ]
  },
  {
   "cell_type": "code",
   "execution_count": null,
   "metadata": {
    "execution": {
     "iopub.execute_input": "2024-06-03T20:23:19.372791Z",
     "iopub.status.busy": "2024-06-03T20:23:19.372682Z",
     "iopub.status.idle": "2024-06-03T20:23:19.400540Z",
     "shell.execute_reply": "2024-06-03T20:23:19.400260Z"
    }
   },
   "outputs": [],
   "source": [
    "from grewpy import GRS\n",
    "\n",
    "s = \"\"\"\n",
    "strat main { Onf(tv) }\n",
    "\n",
    "rule tv {\n",
    "  pattern { X[upos=VERB]; Y[upos=NOUN]; X-[comp:obj]->Y }\n",
    "  without { X[Transitive = Yes] }\n",
    "  commands { X.Transitive = Yes }\n",
    "}\n",
    "\"\"\"\n",
    "grs = GRS(s)\n",
    "corpus2bis = grs.apply(corpus)\n",
    "corpus2bis.count(Request(\"pattern { X[Transitive=Yes] }\"))"
   ]
  },
  {
   "cell_type": "markdown",
   "metadata": {},
   "source": [
    "For the example, where the upos tag `NOUN` is changed to `N`, this can be done with a GRS:"
   ]
  },
  {
   "cell_type": "code",
   "execution_count": null,
   "metadata": {
    "execution": {
     "iopub.execute_input": "2024-06-03T20:23:19.402284Z",
     "iopub.status.busy": "2024-06-03T20:23:19.402173Z",
     "iopub.status.idle": "2024-06-03T20:23:19.452465Z",
     "shell.execute_reply": "2024-06-03T20:23:19.452187Z"
    }
   },
   "outputs": [],
   "source": [
    "grs3 = GRS(\"\"\"\n",
    "strat main { Onf(noun2n) }\n",
    "\n",
    "rule noun2n {\n",
    "  pattern { X[upos=NOUN] }\n",
    "  commands { X.upos = N }\n",
    "}\n",
    "\"\"\")\n",
    "corpus3bis = grs3.apply(corpus)\n",
    "corpus3bis.count(Request(\"X[upos=N]\"))"
   ]
  },
  {
   "cell_type": "markdown",
   "metadata": {},
   "source": [
    "Similarily to the `CorpusDraft` above, there is a mmodule `GRSDraft` which can be inspected and which is mutable."
   ]
  },
  {
   "cell_type": "code",
   "execution_count": null,
   "metadata": {
    "execution": {
     "iopub.execute_input": "2024-06-03T20:23:19.454326Z",
     "iopub.status.busy": "2024-06-03T20:23:19.454214Z",
     "iopub.status.idle": "2024-06-03T20:23:19.460142Z",
     "shell.execute_reply": "2024-06-03T20:23:19.459912Z"
    }
   },
   "outputs": [],
   "source": [
    "from grewpy import GRSDraft\n",
    "\n",
    "s = \"\"\"\n",
    "strat main {Onf(cxns)}\n",
    "package cxns {\n",
    "    rule existential {\n",
    "        pattern {X-[comp@expl]->Y; X[lemma=be]}\n",
    "        without {X[Cxn=Existential]}\n",
    "        commands {X.Cxn=Existential}\n",
    "    }\n",
    "}\n",
    "\"\"\"\n",
    "\n",
    "grs_draft = GRSDraft(s)\n",
    "\n",
    "for rule in grs_draft['cxns'].rules():\n",
    "    print(f\"{rule=}\")"
   ]
  },
  {
   "cell_type": "markdown",
   "metadata": {},
   "source": [
    "A `GRSDraft` cannot be applied to a corpus, it should be turned into a `GRS`:"
   ]
  },
  {
   "cell_type": "code",
   "execution_count": null,
   "metadata": {
    "execution": {
     "iopub.execute_input": "2024-06-03T20:23:19.461839Z",
     "iopub.status.busy": "2024-06-03T20:23:19.461746Z",
     "iopub.status.idle": "2024-06-03T20:23:19.482000Z",
     "shell.execute_reply": "2024-06-03T20:23:19.481763Z"
    }
   },
   "outputs": [],
   "source": [
    "grs = GRS(grs_draft)\n",
    "corpus.apply(grs)\n",
    "n_existentials = corpus.count(Request(\"pattern { X[Cxn=Existential] }\"))\n",
    "print(f\"{n_existentials=}\")"
   ]
  },
  {
   "cell_type": "code",
   "execution_count": null,
   "metadata": {},
   "outputs": [],
   "source": []
  }
 ],
 "metadata": {
  "kernelspec": {
   "display_name": "venv",
   "language": "python",
   "name": "python3"
  },
  "language_info": {
   "codemirror_mode": {
    "name": "ipython",
    "version": 3
   },
   "file_extension": ".py",
   "mimetype": "text/x-python",
   "name": "python",
   "nbconvert_exporter": "python",
   "pygments_lexer": "ipython3",
   "version": "3.10.5"
  }
 },
 "nbformat": 4,
 "nbformat_minor": 2
}
