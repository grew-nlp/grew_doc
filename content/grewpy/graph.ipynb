{
 "cells": [
  {
   "cell_type": "markdown",
   "metadata": {},
   "source": [
    "```\n",
    "title: \"Grewpy • graph\"\n",
    "date: 2023-08-14\n",
    "```"
   ]
  },
  {
   "cell_type": "markdown",
   "metadata": {},
   "source": [
    "[`grewpy` Tutorial](../tutorial)"
   ]
  },
  {
   "cell_type": "markdown",
   "metadata": {},
   "source": [
    "# `grewpy` library: Graph module\n",
    "\n",
    "Download the notebook [here](../graph.ipynb)."
   ]
  },
  {
   "cell_type": "markdown",
   "metadata": {},
   "source": [
    "First, we import the `Graph` module from `grewpy`.\n",
    "\n",
    "**NB:** The port number is different at each execution. If you don't have the message `connected to port: …`, see [here](../../usage/python/#install)."
   ]
  },
  {
   "cell_type": "code",
   "execution_count": null,
   "metadata": {
    "execution": {
     "iopub.execute_input": "2024-07-30T16:55:08.515972Z",
     "iopub.status.busy": "2024-07-30T16:55:08.515648Z",
     "iopub.status.idle": "2024-07-30T16:55:08.760219Z",
     "shell.execute_reply": "2024-07-30T16:55:08.745932Z"
    }
   },
   "outputs": [],
   "source": [
    "from grewpy import Graph"
   ]
  },
  {
   "cell_type": "markdown",
   "metadata": {},
   "source": [
    "## Build a graph\n",
    "\n",
    "A graph can be built from its JSON encoding (see [here](../../doc/json) for more info about this format)."
   ]
  },
  {
   "cell_type": "code",
   "execution_count": null,
   "metadata": {
    "execution": {
     "iopub.execute_input": "2024-07-30T16:55:08.783284Z",
     "iopub.status.busy": "2024-07-30T16:55:08.782778Z",
     "iopub.status.idle": "2024-07-30T16:55:08.789796Z",
     "shell.execute_reply": "2024-07-30T16:55:08.788012Z"
    }
   },
   "outputs": [],
   "source": [
    "g1_str = \"\"\"\n",
    "{\n",
    "  \"nodes\": {\n",
    "    \"A\": \"A\",\n",
    "    \"B\": \"B\",\n",
    "    \"C\": \"C\"\n",
    "  },\n",
    "  \"edges\": [\n",
    "    { \"src\": \"A\", \"label\": \"X\", \"tar\": \"B\"},\n",
    "    { \"src\": \"A\", \"label\": \"XX\", \"tar\": \"B\"},\n",
    "    { \"src\": \"B\", \"label\": \"Y\", \"tar\": \"C\"},\n",
    "    { \"src\": \"C\", \"label\": \"Z\", \"tar\": \"A\"}\n",
    "  ],\n",
    "  \"order\": [ \"A\", \"B\" ]\n",
    "}\n",
    "\"\"\"\n",
    "g1 = Graph(g1_str)"
   ]
  },
  {
   "cell_type": "markdown",
   "metadata": {},
   "source": [
    "A graph can also be built from CoNLL data."
   ]
  },
  {
   "cell_type": "code",
   "execution_count": null,
   "metadata": {
    "execution": {
     "iopub.execute_input": "2024-07-30T16:55:08.795255Z",
     "iopub.status.busy": "2024-07-30T16:55:08.794864Z",
     "iopub.status.idle": "2024-07-30T16:55:08.803498Z",
     "shell.execute_reply": "2024-07-30T16:55:08.802678Z"
    }
   },
   "outputs": [],
   "source": [
    "g2_conll = \"\"\"# sent_id = en_partut-ud-202\n",
    "# text = The work is done.\n",
    "1\tThe\tthe\tDET\tRD\tDefinite=Def|PronType=Art\t2\tdet\t_\t_\n",
    "2\twork\twork\tNOUN\tS\tNumber=Sing\t4\tnsubj:pass\t_\t_\n",
    "3\tis\tbe\tAUX\tVA\tMood=Ind|Number=Sing|Person=3|Tense=Pres|VerbForm=Fin\t4\taux:pass\t_\t_\n",
    "4\tdone\tdo\tVERB\tV\tTense=Past|VerbForm=Part\t0\troot\t_\tSpaceAfter=No\n",
    "5\t.\t.\tPUNCT\tFS\t_\t4\tpunct\t_\t_\n",
    "\n",
    "\"\"\"\n",
    "g2 = Graph(g2_conll)"
   ]
  },
  {
   "cell_type": "markdown",
   "metadata": {},
   "source": [
    "## Functions on graphs\n",
    "\n",
    "The length (`len`) of a graph is the number of nodes.\n",
    "Note that when a graph is built from CoNLL data an *anchor* node is added at position 0, that's why `len(g2)` is 6 and not 5."
   ]
  },
  {
   "cell_type": "code",
   "execution_count": null,
   "metadata": {
    "execution": {
     "iopub.execute_input": "2024-07-30T16:55:08.808463Z",
     "iopub.status.busy": "2024-07-30T16:55:08.808062Z",
     "iopub.status.idle": "2024-07-30T16:55:08.822670Z",
     "shell.execute_reply": "2024-07-30T16:55:08.821950Z"
    }
   },
   "outputs": [],
   "source": [
    "len (g1), len(g2)"
   ]
  },
  {
   "cell_type": "code",
   "execution_count": null,
   "metadata": {
    "execution": {
     "iopub.execute_input": "2024-07-30T16:55:08.826951Z",
     "iopub.status.busy": "2024-07-30T16:55:08.826517Z",
     "iopub.status.idle": "2024-07-30T16:55:08.831740Z",
     "shell.execute_reply": "2024-07-30T16:55:08.831013Z"
    }
   },
   "outputs": [],
   "source": [
    "print (g2.to_conll())"
   ]
  },
  {
   "cell_type": "code",
   "execution_count": null,
   "metadata": {
    "execution": {
     "iopub.execute_input": "2024-07-30T16:55:08.835901Z",
     "iopub.status.busy": "2024-07-30T16:55:08.835597Z",
     "iopub.status.idle": "2024-07-30T16:55:08.841101Z",
     "shell.execute_reply": "2024-07-30T16:55:08.840376Z"
    }
   },
   "outputs": [],
   "source": [
    "print (g2.to_dot())"
   ]
  },
  {
   "cell_type": "code",
   "execution_count": null,
   "metadata": {
    "execution": {
     "iopub.execute_input": "2024-07-30T16:55:08.845428Z",
     "iopub.status.busy": "2024-07-30T16:55:08.845082Z",
     "iopub.status.idle": "2024-07-30T16:55:08.850148Z",
     "shell.execute_reply": "2024-07-30T16:55:08.849288Z"
    }
   },
   "outputs": [],
   "source": [
    "import json\n",
    "print (json.dumps(g1.json_data(), indent=2))\n"
   ]
  },
  {
   "cell_type": "markdown",
   "metadata": {},
   "source": [
    "## Internal representation of graphs\n",
    "\n",
    "Internally a graph is encoded with four elements:\n",
    " - a dict `features` which maps each node identifier to either a string or a dictionary encoding the feature structure of the node\n",
    " - a dict `sucs` which maps each node indentifier to a list of outgoing edges, each edge is a pair with the target node and the edge label\n",
    " - a list named `order` which describes the list of strictly ordered nodes\n",
    " - a dict `meta` which describes the meta data of the graphs (keys and values are strings)"
   ]
  },
  {
   "cell_type": "markdown",
   "metadata": {},
   "source": [
    "### `features`\n",
    "The `features` dictionary is the one get by default when accessing a graph.\n",
    "The two expressions above are equal:"
   ]
  },
  {
   "cell_type": "code",
   "execution_count": null,
   "metadata": {
    "execution": {
     "iopub.execute_input": "2024-07-30T16:55:08.855025Z",
     "iopub.status.busy": "2024-07-30T16:55:08.854498Z",
     "iopub.status.idle": "2024-07-30T16:55:08.860338Z",
     "shell.execute_reply": "2024-07-30T16:55:08.859534Z"
    }
   },
   "outputs": [],
   "source": [
    "g1[\"A\"], g1.features[\"A\"]"
   ]
  },
  {
   "cell_type": "markdown",
   "metadata": {},
   "source": [
    "For simple graphs as above, a *feature* is a only a string but when there is a more complex feature structure, it is a dict:"
   ]
  },
  {
   "cell_type": "code",
   "execution_count": null,
   "metadata": {
    "execution": {
     "iopub.execute_input": "2024-07-30T16:55:08.864735Z",
     "iopub.status.busy": "2024-07-30T16:55:08.864361Z",
     "iopub.status.idle": "2024-07-30T16:55:08.869486Z",
     "shell.execute_reply": "2024-07-30T16:55:08.868778Z"
    }
   },
   "outputs": [],
   "source": [
    "g2[\"2\"]"
   ]
  },
  {
   "cell_type": "markdown",
   "metadata": {},
   "source": [
    "### `sucs`\n",
    "\n",
    "Each node is given a list of *successors* decribed by pairs of the target node and the edge label. \n",
    "Edge label are dictionaries (see [here](../../doc/graph/#edges) for details about edge label encoding.)"
   ]
  },
  {
   "cell_type": "code",
   "execution_count": null,
   "metadata": {
    "execution": {
     "iopub.execute_input": "2024-07-30T16:55:08.874060Z",
     "iopub.status.busy": "2024-07-30T16:55:08.873496Z",
     "iopub.status.idle": "2024-07-30T16:55:08.880274Z",
     "shell.execute_reply": "2024-07-30T16:55:08.877878Z"
    }
   },
   "outputs": [],
   "source": [
    "g1.sucs[\"A\"]"
   ]
  },
  {
   "cell_type": "code",
   "execution_count": null,
   "metadata": {
    "execution": {
     "iopub.execute_input": "2024-07-30T16:55:08.884651Z",
     "iopub.status.busy": "2024-07-30T16:55:08.884096Z",
     "iopub.status.idle": "2024-07-30T16:55:08.889479Z",
     "shell.execute_reply": "2024-07-30T16:55:08.888648Z"
    }
   },
   "outputs": [],
   "source": [
    "g2.sucs[\"4\"]"
   ]
  },
  {
   "cell_type": "markdown",
   "metadata": {},
   "source": [
    "Note that a node without successors is not defined the `sucs` dictionary."
   ]
  },
  {
   "cell_type": "code",
   "execution_count": null,
   "metadata": {
    "execution": {
     "iopub.execute_input": "2024-07-30T16:55:08.894134Z",
     "iopub.status.busy": "2024-07-30T16:55:08.893584Z",
     "iopub.status.idle": "2024-07-30T16:55:08.898464Z",
     "shell.execute_reply": "2024-07-30T16:55:08.897783Z"
    }
   },
   "outputs": [],
   "source": [
    "\"3\" in g2.sucs"
   ]
  },
  {
   "cell_type": "markdown",
   "metadata": {},
   "source": [
    "Use `get` function to avoid `KeyError` and safely get the successors:"
   ]
  },
  {
   "cell_type": "code",
   "execution_count": null,
   "metadata": {
    "execution": {
     "iopub.execute_input": "2024-07-30T16:55:08.903139Z",
     "iopub.status.busy": "2024-07-30T16:55:08.902817Z",
     "iopub.status.idle": "2024-07-30T16:55:08.907950Z",
     "shell.execute_reply": "2024-07-30T16:55:08.907097Z"
    }
   },
   "outputs": [],
   "source": [
    "g2.sucs.get(\"3\", [])"
   ]
  }
 ],
 "metadata": {
  "kernelspec": {
   "display_name": "Python 3",
   "language": "python",
   "name": "python3"
  },
  "language_info": {
   "codemirror_mode": {
    "name": "ipython",
    "version": 3
   },
   "file_extension": ".py",
   "mimetype": "text/x-python",
   "name": "python",
   "nbconvert_exporter": "python",
   "pygments_lexer": "ipython3",
   "version": "3.10.5"
  }
 },
 "nbformat": 4,
 "nbformat_minor": 2
}
