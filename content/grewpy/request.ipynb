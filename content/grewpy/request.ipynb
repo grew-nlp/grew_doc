{
 "cells": [
  {
   "cell_type": "markdown",
   "metadata": {},
   "source": [
    "```\n",
    "title: \"Grewpy • request\"\n",
    "date: 2023-08-14\n",
    "```"
   ]
  },
  {
   "cell_type": "markdown",
   "metadata": {},
   "source": [
    "# `grewpy` library: Request module"
   ]
  },
  {
   "cell_type": "markdown",
   "metadata": {},
   "source": [
    "First, we import the `Corpus` and `Request` module from `grewpy`."
   ]
  },
  {
   "cell_type": "code",
   "execution_count": 1,
   "metadata": {
    "execution": {
     "iopub.execute_input": "2023-08-31T14:21:48.730892Z",
     "iopub.status.busy": "2023-08-31T14:21:48.730609Z",
     "iopub.status.idle": "2023-08-31T14:21:48.921182Z",
     "shell.execute_reply": "2023-08-31T14:21:48.920589Z"
    }
   },
   "outputs": [
    {
     "name": "stderr",
     "output_type": "stream",
     "text": [
      "connected to port: 56378\n"
     ]
    }
   ],
   "source": [
    "from grewpy import Corpus, Request, Graph"
   ]
  },
  {
   "cell_type": "markdown",
   "metadata": {},
   "source": [
    "We first load a corpus to run requests on:"
   ]
  },
  {
   "cell_type": "code",
   "execution_count": 2,
   "metadata": {},
   "outputs": [],
   "source": [
    "corpus = Corpus(\"data/en_partut-ud-dev.conllu\")"
   ]
  },
  {
   "cell_type": "markdown",
   "metadata": {},
   "source": []
  },
  {
   "cell_type": "markdown",
   "metadata": {},
   "source": [
    "In `grewpy`, there are two kind of requests:\n",
    " - Abstract requests, built from astring representation\n",
    " - Concrete requests, built from explicit clause in `pattern`, `without`… parts"
   ]
  },
  {
   "cell_type": "markdown",
   "metadata": {},
   "source": [
    "# Concrete requests\n",
    "\n",
    "A concrete request can be built directly with the `Request` constructor:"
   ]
  },
  {
   "cell_type": "code",
   "execution_count": 3,
   "metadata": {},
   "outputs": [
    {
     "data": {
      "text/plain": [
       "212"
      ]
     },
     "execution_count": 3,
     "metadata": {},
     "output_type": "execute_result"
    }
   ],
   "source": [
    "x = Request('e: N -[nsubj]-> M')\n",
    "corpus.count (x)"
   ]
  },
  {
   "cell_type": "code",
   "execution_count": 4,
   "metadata": {},
   "outputs": [
    {
     "data": {
      "text/plain": [
       "(154, 154)"
      ]
     },
     "execution_count": 4,
     "metadata": {},
     "output_type": "execute_result"
    }
   ],
   "source": [
    "x = Request('e: N -[nsubj]-> M', 'N[upos=VERB]')\n",
    "y = Request('e: N -[nsubj]-> M', 'N[upos=VERB]')\n",
    "corpus.count (x), corpus.count (y)"
   ]
  },
  {
   "cell_type": "code",
   "execution_count": 5,
   "metadata": {},
   "outputs": [
    {
     "data": {
      "text/plain": [
       "212"
      ]
     },
     "execution_count": 5,
     "metadata": {},
     "output_type": "execute_result"
    }
   ],
   "source": [
    "x = Request('e: N -[nsubj]-> M')\n",
    "corpus.count (x)"
   ]
  },
  {
   "cell_type": "code",
   "execution_count": 6,
   "metadata": {},
   "outputs": [],
   "source": [
    "x = Request('e: N -[nsubj]-> M;').without(\"N[upos=VERB]\")"
   ]
  },
  {
   "cell_type": "code",
   "execution_count": 7,
   "metadata": {},
   "outputs": [
    {
     "name": "stdout",
     "output_type": "stream",
     "text": [
      "**************************\n",
      "False\n"
     ]
    },
    {
     "data": {
      "text/plain": [
       "58"
      ]
     },
     "execution_count": 7,
     "metadata": {},
     "output_type": "execute_result"
    }
   ],
   "source": [
    "len (corpus.search (x))"
   ]
  },
  {
   "cell_type": "code",
   "execution_count": 8,
   "metadata": {},
   "outputs": [
    {
     "ename": "AttributeError",
     "evalue": "type object 'Request' has no attribute 'parse'",
     "output_type": "error",
     "traceback": [
      "\u001b[0;31m---------------------------------------------------------------------------\u001b[0m",
      "\u001b[0;31mAttributeError\u001b[0m                            Traceback (most recent call last)",
      "\u001b[1;32m/Users/guillaum/gitlab/grew/grew_doc/content/grewpy/request.ipynb Cell 14\u001b[0m line \u001b[0;36m1\n\u001b[0;32m----> <a href='vscode-notebook-cell:/Users/guillaum/gitlab/grew/grew_doc/content/grewpy/request.ipynb#X16sZmlsZQ%3D%3D?line=0'>1</a>\u001b[0m y \u001b[39m=\u001b[39m Request\u001b[39m.\u001b[39mparse (\u001b[39m\"\u001b[39m\u001b[39mpattern \u001b[39m\u001b[39m{\u001b[39m\u001b[39m e: N -[1=nsubj]-> M}\u001b[39m\u001b[39m\"\u001b[39m)\n",
      "\u001b[0;31mAttributeError\u001b[0m: type object 'Request' has no attribute 'parse'"
     ]
    }
   ],
   "source": [
    "y = Request.parse (\"pattern { e: N -[1=nsubj]-> M}\")"
   ]
  },
  {
   "cell_type": "code",
   "execution_count": 9,
   "metadata": {},
   "outputs": [
    {
     "data": {
      "text/plain": [
       "[{'pattern': ['e: N -[nsubj]-> M']}, {'pattern': ['N[upos=VERB]']}]"
      ]
     },
     "execution_count": 9,
     "metadata": {},
     "output_type": "execute_result"
    }
   ],
   "source": [
    "y.json_data()"
   ]
  },
  {
   "cell_type": "code",
   "execution_count": 10,
   "metadata": {},
   "outputs": [
    {
     "name": "stdout",
     "output_type": "stream",
     "text": [
      "**************************\n",
      "True\n"
     ]
    },
    {
     "data": {
      "text/plain": [
       "[{'sent_id': 'en_partut-ud-2090',\n",
       "  'matching': {'nodes': {'N': '10', 'M': '8'},\n",
       "   'edges': {'e': {'source': '10', 'label': 'nsubj', 'target': '8'}}}},\n",
       " {'sent_id': 'en_partut-ud-2090',\n",
       "  'matching': {'nodes': {'N': '23', 'M': '22'},\n",
       "   'edges': {'e': {'source': '23', 'label': 'nsubj', 'target': '22'}}}},\n",
       " {'sent_id': 'en_partut-ud-2079',\n",
       "  'matching': {'nodes': {'N': '5', 'M': '4'},\n",
       "   'edges': {'e': {'source': '5', 'label': 'nsubj', 'target': '4'}}}},\n",
       " {'sent_id': 'en_partut-ud-2065',\n",
       "  'matching': {'nodes': {'N': '12', 'M': '7'},\n",
       "   'edges': {'e': {'source': '12', 'label': 'nsubj', 'target': '7'}}}},\n",
       " {'sent_id': 'en_partut-ud-2065',\n",
       "  'matching': {'nodes': {'N': '15', 'M': '24'},\n",
       "   'edges': {'e': {'source': '15', 'label': 'nsubj', 'target': '24'}}}},\n",
       " {'sent_id': 'en_partut-ud-2035',\n",
       "  'matching': {'nodes': {'N': '14', 'M': '7'},\n",
       "   'edges': {'e': {'source': '14', 'label': 'nsubj', 'target': '7'}}}},\n",
       " {'sent_id': 'en_partut-ud-2035',\n",
       "  'matching': {'nodes': {'N': '17', 'M': '16'},\n",
       "   'edges': {'e': {'source': '17', 'label': 'nsubj', 'target': '16'}}}},\n",
       " {'sent_id': 'en_partut-ud-2035',\n",
       "  'matching': {'nodes': {'N': '25', 'M': '22'},\n",
       "   'edges': {'e': {'source': '25', 'label': 'nsubj', 'target': '22'}}}},\n",
       " {'sent_id': 'en_partut-ud-2031',\n",
       "  'matching': {'nodes': {'N': '2', 'M': '1'},\n",
       "   'edges': {'e': {'source': '2', 'label': 'nsubj', 'target': '1'}}}},\n",
       " {'sent_id': 'en_partut-ud-2031',\n",
       "  'matching': {'nodes': {'N': '16', 'M': '15'},\n",
       "   'edges': {'e': {'source': '16', 'label': 'nsubj', 'target': '15'}}}},\n",
       " {'sent_id': 'en_partut-ud-1967',\n",
       "  'matching': {'nodes': {'N': '2', 'M': '1'},\n",
       "   'edges': {'e': {'source': '2', 'label': 'nsubj', 'target': '1'}}}},\n",
       " {'sent_id': 'en_partut-ud-1958',\n",
       "  'matching': {'nodes': {'N': '2', 'M': '1'},\n",
       "   'edges': {'e': {'source': '2', 'label': 'nsubj', 'target': '1'}}}},\n",
       " {'sent_id': 'en_partut-ud-1955',\n",
       "  'matching': {'nodes': {'N': '7', 'M': '4'},\n",
       "   'edges': {'e': {'source': '7', 'label': 'nsubj', 'target': '4'}}}},\n",
       " {'sent_id': 'en_partut-ud-1887',\n",
       "  'matching': {'nodes': {'N': '14', 'M': '13'},\n",
       "   'edges': {'e': {'source': '14', 'label': 'nsubj', 'target': '13'}}}},\n",
       " {'sent_id': 'en_partut-ud-1875',\n",
       "  'matching': {'nodes': {'N': '3', 'M': '2'},\n",
       "   'edges': {'e': {'source': '3', 'label': 'nsubj', 'target': '2'}}}},\n",
       " {'sent_id': 'en_partut-ud-1874',\n",
       "  'matching': {'nodes': {'N': '6', 'M': '4'},\n",
       "   'edges': {'e': {'source': '6', 'label': 'nsubj', 'target': '4'}}}},\n",
       " {'sent_id': 'en_partut-ud-1861',\n",
       "  'matching': {'nodes': {'N': '9', 'M': '1'},\n",
       "   'edges': {'e': {'source': '9', 'label': 'nsubj', 'target': '1'}}}},\n",
       " {'sent_id': 'en_partut-ud-1861',\n",
       "  'matching': {'nodes': {'N': '13', 'M': '12'},\n",
       "   'edges': {'e': {'source': '13', 'label': 'nsubj', 'target': '12'}}}},\n",
       " {'sent_id': 'en_partut-ud-1859',\n",
       "  'matching': {'nodes': {'N': '9', 'M': '5'},\n",
       "   'edges': {'e': {'source': '9', 'label': 'nsubj', 'target': '5'}}}},\n",
       " {'sent_id': 'en_partut-ud-1859',\n",
       "  'matching': {'nodes': {'N': '24', 'M': '23'},\n",
       "   'edges': {'e': {'source': '24', 'label': 'nsubj', 'target': '23'}}}},\n",
       " {'sent_id': 'en_partut-ud-1826',\n",
       "  'matching': {'nodes': {'N': '6', 'M': '3'},\n",
       "   'edges': {'e': {'source': '6', 'label': 'nsubj', 'target': '3'}}}},\n",
       " {'sent_id': 'en_partut-ud-1808',\n",
       "  'matching': {'nodes': {'N': '8', 'M': '7'},\n",
       "   'edges': {'e': {'source': '8', 'label': 'nsubj', 'target': '7'}}}},\n",
       " {'sent_id': 'en_partut-ud-1808',\n",
       "  'matching': {'nodes': {'N': '15', 'M': '14'},\n",
       "   'edges': {'e': {'source': '15', 'label': 'nsubj', 'target': '14'}}}},\n",
       " {'sent_id': 'en_partut-ud-1765',\n",
       "  'matching': {'nodes': {'N': '22', 'M': '21'},\n",
       "   'edges': {'e': {'source': '22', 'label': 'nsubj', 'target': '21'}}}},\n",
       " {'sent_id': 'en_partut-ud-1746',\n",
       "  'matching': {'nodes': {'N': '9', 'M': '8'},\n",
       "   'edges': {'e': {'source': '9', 'label': 'nsubj', 'target': '8'}}}},\n",
       " {'sent_id': 'en_partut-ud-1738',\n",
       "  'matching': {'nodes': {'N': '3', 'M': '2'},\n",
       "   'edges': {'e': {'source': '3', 'label': 'nsubj', 'target': '2'}}}},\n",
       " {'sent_id': 'en_partut-ud-1738',\n",
       "  'matching': {'nodes': {'N': '21', 'M': '20'},\n",
       "   'edges': {'e': {'source': '21', 'label': 'nsubj', 'target': '20'}}}},\n",
       " {'sent_id': 'en_partut-ud-1734',\n",
       "  'matching': {'nodes': {'N': '3', 'M': '2'},\n",
       "   'edges': {'e': {'source': '3', 'label': 'nsubj', 'target': '2'}}}},\n",
       " {'sent_id': 'en_partut-ud-1734',\n",
       "  'matching': {'nodes': {'N': '5', 'M': '17'},\n",
       "   'edges': {'e': {'source': '5', 'label': 'nsubj', 'target': '17'}}}},\n",
       " {'sent_id': 'en_partut-ud-1706',\n",
       "  'matching': {'nodes': {'N': '3', 'M': '2'},\n",
       "   'edges': {'e': {'source': '3', 'label': 'nsubj', 'target': '2'}}}},\n",
       " {'sent_id': 'en_partut-ud-1677',\n",
       "  'matching': {'nodes': {'N': '14', 'M': '1'},\n",
       "   'edges': {'e': {'source': '14', 'label': 'nsubj', 'target': '1'}}}},\n",
       " {'sent_id': 'en_partut-ud-1634',\n",
       "  'matching': {'nodes': {'N': '5', 'M': '4'},\n",
       "   'edges': {'e': {'source': '5', 'label': 'nsubj', 'target': '4'}}}},\n",
       " {'sent_id': 'en_partut-ud-1634',\n",
       "  'matching': {'nodes': {'N': '8', 'M': '7'},\n",
       "   'edges': {'e': {'source': '8', 'label': 'nsubj', 'target': '7'}}}},\n",
       " {'sent_id': 'en_partut-ud-1575',\n",
       "  'matching': {'nodes': {'N': '2', 'M': '1'},\n",
       "   'edges': {'e': {'source': '2', 'label': 'nsubj', 'target': '1'}}}},\n",
       " {'sent_id': 'en_partut-ud-1521',\n",
       "  'matching': {'nodes': {'N': '12', 'M': '11'},\n",
       "   'edges': {'e': {'source': '12', 'label': 'nsubj', 'target': '11'}}}},\n",
       " {'sent_id': 'en_partut-ud-1499',\n",
       "  'matching': {'nodes': {'N': '3', 'M': '7'},\n",
       "   'edges': {'e': {'source': '3', 'label': 'nsubj', 'target': '7'}}}},\n",
       " {'sent_id': 'en_partut-ud-1460',\n",
       "  'matching': {'nodes': {'N': '9', 'M': '6'},\n",
       "   'edges': {'e': {'source': '9', 'label': 'nsubj', 'target': '6'}}}},\n",
       " {'sent_id': 'en_partut-ud-1404',\n",
       "  'matching': {'nodes': {'N': '10', 'M': '9'},\n",
       "   'edges': {'e': {'source': '10', 'label': 'nsubj', 'target': '9'}}}},\n",
       " {'sent_id': 'en_partut-ud-1343',\n",
       "  'matching': {'nodes': {'N': '16', 'M': '7'},\n",
       "   'edges': {'e': {'source': '16', 'label': 'nsubj', 'target': '7'}}}},\n",
       " {'sent_id': 'en_partut-ud-1337',\n",
       "  'matching': {'nodes': {'N': '4', 'M': '2'},\n",
       "   'edges': {'e': {'source': '4', 'label': 'nsubj', 'target': '2'}}}},\n",
       " {'sent_id': 'en_partut-ud-1276',\n",
       "  'matching': {'nodes': {'N': '4', 'M': '3'},\n",
       "   'edges': {'e': {'source': '4', 'label': 'nsubj', 'target': '3'}}}},\n",
       " {'sent_id': 'en_partut-ud-1276',\n",
       "  'matching': {'nodes': {'N': '12', 'M': '11'},\n",
       "   'edges': {'e': {'source': '12', 'label': 'nsubj', 'target': '11'}}}},\n",
       " {'sent_id': 'en_partut-ud-1239',\n",
       "  'matching': {'nodes': {'N': '6', 'M': '4'},\n",
       "   'edges': {'e': {'source': '6', 'label': 'nsubj', 'target': '4'}}}},\n",
       " {'sent_id': 'en_partut-ud-1203',\n",
       "  'matching': {'nodes': {'N': '3', 'M': '1'},\n",
       "   'edges': {'e': {'source': '3', 'label': 'nsubj', 'target': '1'}}}},\n",
       " {'sent_id': 'en_partut-ud-1135',\n",
       "  'matching': {'nodes': {'N': '2', 'M': '1'},\n",
       "   'edges': {'e': {'source': '2', 'label': 'nsubj', 'target': '1'}}}},\n",
       " {'sent_id': 'en_partut-ud-1135',\n",
       "  'matching': {'nodes': {'N': '7', 'M': '5'},\n",
       "   'edges': {'e': {'source': '7', 'label': 'nsubj', 'target': '5'}}}},\n",
       " {'sent_id': 'en_partut-ud-1127',\n",
       "  'matching': {'nodes': {'N': '4', 'M': '3'},\n",
       "   'edges': {'e': {'source': '4', 'label': 'nsubj', 'target': '3'}}}},\n",
       " {'sent_id': 'en_partut-ud-1127',\n",
       "  'matching': {'nodes': {'N': '19', 'M': '22'},\n",
       "   'edges': {'e': {'source': '19', 'label': 'nsubj', 'target': '22'}}}},\n",
       " {'sent_id': 'en_partut-ud-1117',\n",
       "  'matching': {'nodes': {'N': '3', 'M': '2'},\n",
       "   'edges': {'e': {'source': '3', 'label': 'nsubj', 'target': '2'}}}},\n",
       " {'sent_id': 'en_partut-ud-1117',\n",
       "  'matching': {'nodes': {'N': '14', 'M': '12'},\n",
       "   'edges': {'e': {'source': '14', 'label': 'nsubj', 'target': '12'}}}},\n",
       " {'sent_id': 'en_partut-ud-1101',\n",
       "  'matching': {'nodes': {'N': '9', 'M': '8'},\n",
       "   'edges': {'e': {'source': '9', 'label': 'nsubj', 'target': '8'}}}},\n",
       " {'sent_id': 'en_partut-ud-1101',\n",
       "  'matching': {'nodes': {'N': '15', 'M': '1'},\n",
       "   'edges': {'e': {'source': '15', 'label': 'nsubj', 'target': '1'}}}},\n",
       " {'sent_id': 'en_partut-ud-1085',\n",
       "  'matching': {'nodes': {'N': '16', 'M': '14'},\n",
       "   'edges': {'e': {'source': '16', 'label': 'nsubj', 'target': '14'}}}},\n",
       " {'sent_id': 'en_partut-ud-1063',\n",
       "  'matching': {'nodes': {'N': '6', 'M': '5'},\n",
       "   'edges': {'e': {'source': '6', 'label': 'nsubj', 'target': '5'}}}},\n",
       " {'sent_id': 'en_partut-ud-1025',\n",
       "  'matching': {'nodes': {'N': '12', 'M': '1'},\n",
       "   'edges': {'e': {'source': '12', 'label': 'nsubj', 'target': '1'}}}},\n",
       " {'sent_id': 'en_partut-ud-945',\n",
       "  'matching': {'nodes': {'N': '5', 'M': '2'},\n",
       "   'edges': {'e': {'source': '5', 'label': 'nsubj', 'target': '2'}}}},\n",
       " {'sent_id': 'en_partut-ud-944',\n",
       "  'matching': {'nodes': {'N': '3', 'M': '1'},\n",
       "   'edges': {'e': {'source': '3', 'label': 'nsubj', 'target': '1'}}}},\n",
       " {'sent_id': 'en_partut-ud-942',\n",
       "  'matching': {'nodes': {'N': '9', 'M': '2'},\n",
       "   'edges': {'e': {'source': '9', 'label': 'nsubj', 'target': '2'}}}},\n",
       " {'sent_id': 'en_partut-ud-942',\n",
       "  'matching': {'nodes': {'N': '14', 'M': '13'},\n",
       "   'edges': {'e': {'source': '14', 'label': 'nsubj', 'target': '13'}}}},\n",
       " {'sent_id': 'en_partut-ud-942',\n",
       "  'matching': {'nodes': {'N': '22', 'M': '20'},\n",
       "   'edges': {'e': {'source': '22', 'label': 'nsubj', 'target': '20'}}}},\n",
       " {'sent_id': 'en_partut-ud-937',\n",
       "  'matching': {'nodes': {'N': '14', 'M': '13'},\n",
       "   'edges': {'e': {'source': '14', 'label': 'nsubj', 'target': '13'}}}},\n",
       " {'sent_id': 'en_partut-ud-936',\n",
       "  'matching': {'nodes': {'N': '4', 'M': '3'},\n",
       "   'edges': {'e': {'source': '4', 'label': 'nsubj', 'target': '3'}}}},\n",
       " {'sent_id': 'en_partut-ud-936',\n",
       "  'matching': {'nodes': {'N': '14', 'M': '11'},\n",
       "   'edges': {'e': {'source': '14', 'label': 'nsubj', 'target': '11'}}}},\n",
       " {'sent_id': 'en_partut-ud-935',\n",
       "  'matching': {'nodes': {'N': '8', 'M': '7'},\n",
       "   'edges': {'e': {'source': '8', 'label': 'nsubj', 'target': '7'}}}},\n",
       " {'sent_id': 'en_partut-ud-933',\n",
       "  'matching': {'nodes': {'N': '3', 'M': '2'},\n",
       "   'edges': {'e': {'source': '3', 'label': 'nsubj', 'target': '2'}}}},\n",
       " {'sent_id': 'en_partut-ud-927',\n",
       "  'matching': {'nodes': {'N': '8', 'M': '7'},\n",
       "   'edges': {'e': {'source': '8', 'label': 'nsubj', 'target': '7'}}}},\n",
       " {'sent_id': 'en_partut-ud-923',\n",
       "  'matching': {'nodes': {'N': '9', 'M': '2'},\n",
       "   'edges': {'e': {'source': '9', 'label': 'nsubj', 'target': '2'}}}},\n",
       " {'sent_id': 'en_partut-ud-922',\n",
       "  'matching': {'nodes': {'N': '6', 'M': '3'},\n",
       "   'edges': {'e': {'source': '6', 'label': 'nsubj', 'target': '3'}}}},\n",
       " {'sent_id': 'en_partut-ud-918',\n",
       "  'matching': {'nodes': {'N': '2', 'M': '1'},\n",
       "   'edges': {'e': {'source': '2', 'label': 'nsubj', 'target': '1'}}}},\n",
       " {'sent_id': 'en_partut-ud-918',\n",
       "  'matching': {'nodes': {'N': '12', 'M': '11'},\n",
       "   'edges': {'e': {'source': '12', 'label': 'nsubj', 'target': '11'}}}},\n",
       " {'sent_id': 'en_partut-ud-917',\n",
       "  'matching': {'nodes': {'N': '6', 'M': '1'},\n",
       "   'edges': {'e': {'source': '6', 'label': 'nsubj', 'target': '1'}}}},\n",
       " {'sent_id': 'en_partut-ud-916',\n",
       "  'matching': {'nodes': {'N': '8', 'M': '7'},\n",
       "   'edges': {'e': {'source': '8', 'label': 'nsubj', 'target': '7'}}}},\n",
       " {'sent_id': 'en_partut-ud-915',\n",
       "  'matching': {'nodes': {'N': '7', 'M': '6'},\n",
       "   'edges': {'e': {'source': '7', 'label': 'nsubj', 'target': '6'}}}},\n",
       " {'sent_id': 'en_partut-ud-914',\n",
       "  'matching': {'nodes': {'N': '4', 'M': '3'},\n",
       "   'edges': {'e': {'source': '4', 'label': 'nsubj', 'target': '3'}}}},\n",
       " {'sent_id': 'en_partut-ud-913',\n",
       "  'matching': {'nodes': {'N': '3', 'M': '2'},\n",
       "   'edges': {'e': {'source': '3', 'label': 'nsubj', 'target': '2'}}}},\n",
       " {'sent_id': 'en_partut-ud-913',\n",
       "  'matching': {'nodes': {'N': '8', 'M': '7'},\n",
       "   'edges': {'e': {'source': '8', 'label': 'nsubj', 'target': '7'}}}},\n",
       " {'sent_id': 'en_partut-ud-912',\n",
       "  'matching': {'nodes': {'N': '2', 'M': '1'},\n",
       "   'edges': {'e': {'source': '2', 'label': 'nsubj', 'target': '1'}}}},\n",
       " {'sent_id': 'en_partut-ud-910',\n",
       "  'matching': {'nodes': {'N': '3', 'M': '2'},\n",
       "   'edges': {'e': {'source': '3', 'label': 'nsubj', 'target': '2'}}}},\n",
       " {'sent_id': 'en_partut-ud-910',\n",
       "  'matching': {'nodes': {'N': '11', 'M': '8'},\n",
       "   'edges': {'e': {'source': '11', 'label': 'nsubj', 'target': '8'}}}},\n",
       " {'sent_id': 'en_partut-ud-909',\n",
       "  'matching': {'nodes': {'N': '3', 'M': '1'},\n",
       "   'edges': {'e': {'source': '3', 'label': 'nsubj', 'target': '1'}}}},\n",
       " {'sent_id': 'en_partut-ud-908',\n",
       "  'matching': {'nodes': {'N': '9', 'M': '8'},\n",
       "   'edges': {'e': {'source': '9', 'label': 'nsubj', 'target': '8'}}}},\n",
       " {'sent_id': 'en_partut-ud-906',\n",
       "  'matching': {'nodes': {'N': '15', 'M': '14'},\n",
       "   'edges': {'e': {'source': '15', 'label': 'nsubj', 'target': '14'}}}},\n",
       " {'sent_id': 'en_partut-ud-906',\n",
       "  'matching': {'nodes': {'N': '19', 'M': '18'},\n",
       "   'edges': {'e': {'source': '19', 'label': 'nsubj', 'target': '18'}}}},\n",
       " {'sent_id': 'en_partut-ud-905',\n",
       "  'matching': {'nodes': {'N': '3', 'M': '2'},\n",
       "   'edges': {'e': {'source': '3', 'label': 'nsubj', 'target': '2'}}}},\n",
       " {'sent_id': 'en_partut-ud-903',\n",
       "  'matching': {'nodes': {'N': '2', 'M': '1'},\n",
       "   'edges': {'e': {'source': '2', 'label': 'nsubj', 'target': '1'}}}},\n",
       " {'sent_id': 'en_partut-ud-903',\n",
       "  'matching': {'nodes': {'N': '8', 'M': '7'},\n",
       "   'edges': {'e': {'source': '8', 'label': 'nsubj', 'target': '7'}}}},\n",
       " {'sent_id': 'en_partut-ud-902',\n",
       "  'matching': {'nodes': {'N': '2', 'M': '1'},\n",
       "   'edges': {'e': {'source': '2', 'label': 'nsubj', 'target': '1'}}}},\n",
       " {'sent_id': 'en_partut-ud-901',\n",
       "  'matching': {'nodes': {'N': '7', 'M': '6'},\n",
       "   'edges': {'e': {'source': '7', 'label': 'nsubj', 'target': '6'}}}},\n",
       " {'sent_id': 'en_partut-ud-901',\n",
       "  'matching': {'nodes': {'N': '10', 'M': '9'},\n",
       "   'edges': {'e': {'source': '10', 'label': 'nsubj', 'target': '9'}}}},\n",
       " {'sent_id': 'en_partut-ud-901',\n",
       "  'matching': {'nodes': {'N': '15', 'M': '14'},\n",
       "   'edges': {'e': {'source': '15', 'label': 'nsubj', 'target': '14'}}}},\n",
       " {'sent_id': 'en_partut-ud-899',\n",
       "  'matching': {'nodes': {'N': '4', 'M': '2'},\n",
       "   'edges': {'e': {'source': '4', 'label': 'nsubj', 'target': '2'}}}},\n",
       " {'sent_id': 'en_partut-ud-898',\n",
       "  'matching': {'nodes': {'N': '11', 'M': '15'},\n",
       "   'edges': {'e': {'source': '11', 'label': 'nsubj', 'target': '15'}}}},\n",
       " {'sent_id': 'en_partut-ud-897',\n",
       "  'matching': {'nodes': {'N': '5', 'M': '3'},\n",
       "   'edges': {'e': {'source': '5', 'label': 'nsubj', 'target': '3'}}}},\n",
       " {'sent_id': 'en_partut-ud-897',\n",
       "  'matching': {'nodes': {'N': '10', 'M': '9'},\n",
       "   'edges': {'e': {'source': '10', 'label': 'nsubj', 'target': '9'}}}},\n",
       " {'sent_id': 'en_partut-ud-896',\n",
       "  'matching': {'nodes': {'N': '4', 'M': '3'},\n",
       "   'edges': {'e': {'source': '4', 'label': 'nsubj', 'target': '3'}}}},\n",
       " {'sent_id': 'en_partut-ud-895',\n",
       "  'matching': {'nodes': {'N': '2', 'M': '1'},\n",
       "   'edges': {'e': {'source': '2', 'label': 'nsubj', 'target': '1'}}}},\n",
       " {'sent_id': 'en_partut-ud-895',\n",
       "  'matching': {'nodes': {'N': '9', 'M': '8'},\n",
       "   'edges': {'e': {'source': '9', 'label': 'nsubj', 'target': '8'}}}},\n",
       " {'sent_id': 'en_partut-ud-895',\n",
       "  'matching': {'nodes': {'N': '14', 'M': '13'},\n",
       "   'edges': {'e': {'source': '14', 'label': 'nsubj', 'target': '13'}}}},\n",
       " {'sent_id': 'en_partut-ud-894',\n",
       "  'matching': {'nodes': {'N': '3', 'M': '2'},\n",
       "   'edges': {'e': {'source': '3', 'label': 'nsubj', 'target': '2'}}}},\n",
       " {'sent_id': 'en_partut-ud-894',\n",
       "  'matching': {'nodes': {'N': '12', 'M': '11'},\n",
       "   'edges': {'e': {'source': '12', 'label': 'nsubj', 'target': '11'}}}},\n",
       " {'sent_id': 'en_partut-ud-893',\n",
       "  'matching': {'nodes': {'N': '7', 'M': '5'},\n",
       "   'edges': {'e': {'source': '7', 'label': 'nsubj', 'target': '5'}}}},\n",
       " {'sent_id': 'en_partut-ud-892',\n",
       "  'matching': {'nodes': {'N': '3', 'M': '5'},\n",
       "   'edges': {'e': {'source': '3', 'label': 'nsubj', 'target': '5'}}}},\n",
       " {'sent_id': 'en_partut-ud-891',\n",
       "  'matching': {'nodes': {'N': '4', 'M': '1'},\n",
       "   'edges': {'e': {'source': '4', 'label': 'nsubj', 'target': '1'}}}},\n",
       " {'sent_id': 'en_partut-ud-891',\n",
       "  'matching': {'nodes': {'N': '15', 'M': '14'},\n",
       "   'edges': {'e': {'source': '15', 'label': 'nsubj', 'target': '14'}}}},\n",
       " {'sent_id': 'en_partut-ud-890',\n",
       "  'matching': {'nodes': {'N': '2', 'M': '1'},\n",
       "   'edges': {'e': {'source': '2', 'label': 'nsubj', 'target': '1'}}}},\n",
       " {'sent_id': 'en_partut-ud-889',\n",
       "  'matching': {'nodes': {'N': '8', 'M': '4'},\n",
       "   'edges': {'e': {'source': '8', 'label': 'nsubj', 'target': '4'}}}},\n",
       " {'sent_id': 'en_partut-ud-889',\n",
       "  'matching': {'nodes': {'N': '13', 'M': '12'},\n",
       "   'edges': {'e': {'source': '13', 'label': 'nsubj', 'target': '12'}}}},\n",
       " {'sent_id': 'en_partut-ud-886',\n",
       "  'matching': {'nodes': {'N': '2', 'M': '1'},\n",
       "   'edges': {'e': {'source': '2', 'label': 'nsubj', 'target': '1'}}}},\n",
       " {'sent_id': 'en_partut-ud-886',\n",
       "  'matching': {'nodes': {'N': '15', 'M': '14'},\n",
       "   'edges': {'e': {'source': '15', 'label': 'nsubj', 'target': '14'}}}},\n",
       " {'sent_id': 'en_partut-ud-885',\n",
       "  'matching': {'nodes': {'N': '4', 'M': '3'},\n",
       "   'edges': {'e': {'source': '4', 'label': 'nsubj', 'target': '3'}}}},\n",
       " {'sent_id': 'en_partut-ud-884',\n",
       "  'matching': {'nodes': {'N': '5', 'M': '4'},\n",
       "   'edges': {'e': {'source': '5', 'label': 'nsubj', 'target': '4'}}}},\n",
       " {'sent_id': 'en_partut-ud-882',\n",
       "  'matching': {'nodes': {'N': '20', 'M': '19'},\n",
       "   'edges': {'e': {'source': '20', 'label': 'nsubj', 'target': '19'}}}},\n",
       " {'sent_id': 'en_partut-ud-881',\n",
       "  'matching': {'nodes': {'N': '6', 'M': '5'},\n",
       "   'edges': {'e': {'source': '6', 'label': 'nsubj', 'target': '5'}}}},\n",
       " {'sent_id': 'en_partut-ud-881',\n",
       "  'matching': {'nodes': {'N': '14', 'M': '13'},\n",
       "   'edges': {'e': {'source': '14', 'label': 'nsubj', 'target': '13'}}}},\n",
       " {'sent_id': 'en_partut-ud-881',\n",
       "  'matching': {'nodes': {'N': '17', 'M': '16'},\n",
       "   'edges': {'e': {'source': '17', 'label': 'nsubj', 'target': '16'}}}},\n",
       " {'sent_id': 'en_partut-ud-880',\n",
       "  'matching': {'nodes': {'N': '2', 'M': '1'},\n",
       "   'edges': {'e': {'source': '2', 'label': 'nsubj', 'target': '1'}}}},\n",
       " {'sent_id': 'en_partut-ud-878',\n",
       "  'matching': {'nodes': {'N': '2', 'M': '1'},\n",
       "   'edges': {'e': {'source': '2', 'label': 'nsubj', 'target': '1'}}}},\n",
       " {'sent_id': 'en_partut-ud-877',\n",
       "  'matching': {'nodes': {'N': '3', 'M': '2'},\n",
       "   'edges': {'e': {'source': '3', 'label': 'nsubj', 'target': '2'}}}},\n",
       " {'sent_id': 'en_partut-ud-877',\n",
       "  'matching': {'nodes': {'N': '8', 'M': '7'},\n",
       "   'edges': {'e': {'source': '8', 'label': 'nsubj', 'target': '7'}}}},\n",
       " {'sent_id': 'en_partut-ud-876',\n",
       "  'matching': {'nodes': {'N': '2', 'M': '1'},\n",
       "   'edges': {'e': {'source': '2', 'label': 'nsubj', 'target': '1'}}}},\n",
       " {'sent_id': 'en_partut-ud-875',\n",
       "  'matching': {'nodes': {'N': '2', 'M': '1'},\n",
       "   'edges': {'e': {'source': '2', 'label': 'nsubj', 'target': '1'}}}},\n",
       " {'sent_id': 'en_partut-ud-875',\n",
       "  'matching': {'nodes': {'N': '6', 'M': '4'},\n",
       "   'edges': {'e': {'source': '6', 'label': 'nsubj', 'target': '4'}}}},\n",
       " {'sent_id': 'en_partut-ud-873',\n",
       "  'matching': {'nodes': {'N': '4', 'M': '1'},\n",
       "   'edges': {'e': {'source': '4', 'label': 'nsubj', 'target': '1'}}}},\n",
       " {'sent_id': 'en_partut-ud-872',\n",
       "  'matching': {'nodes': {'N': '3', 'M': '1'},\n",
       "   'edges': {'e': {'source': '3', 'label': 'nsubj', 'target': '1'}}}},\n",
       " {'sent_id': 'en_partut-ud-871',\n",
       "  'matching': {'nodes': {'N': '2', 'M': '1'},\n",
       "   'edges': {'e': {'source': '2', 'label': 'nsubj', 'target': '1'}}}},\n",
       " {'sent_id': 'en_partut-ud-771',\n",
       "  'matching': {'nodes': {'N': '5', 'M': '4'},\n",
       "   'edges': {'e': {'source': '5', 'label': 'nsubj', 'target': '4'}}}},\n",
       " {'sent_id': 'en_partut-ud-724',\n",
       "  'matching': {'nodes': {'N': '6', 'M': '2'},\n",
       "   'edges': {'e': {'source': '6', 'label': 'nsubj', 'target': '2'}}}},\n",
       " {'sent_id': 'en_partut-ud-610',\n",
       "  'matching': {'nodes': {'N': '19', 'M': '4'},\n",
       "   'edges': {'e': {'source': '19', 'label': 'nsubj', 'target': '4'}}}},\n",
       " {'sent_id': 'en_partut-ud-465',\n",
       "  'matching': {'nodes': {'N': '6', 'M': '5'},\n",
       "   'edges': {'e': {'source': '6', 'label': 'nsubj', 'target': '5'}}}},\n",
       " {'sent_id': 'en_partut-ud-434',\n",
       "  'matching': {'nodes': {'N': '4', 'M': '3'},\n",
       "   'edges': {'e': {'source': '4', 'label': 'nsubj', 'target': '3'}}}},\n",
       " {'sent_id': 'en_partut-ud-434',\n",
       "  'matching': {'nodes': {'N': '8', 'M': '7'},\n",
       "   'edges': {'e': {'source': '8', 'label': 'nsubj', 'target': '7'}}}},\n",
       " {'sent_id': 'en_partut-ud-409',\n",
       "  'matching': {'nodes': {'N': '5', 'M': '3'},\n",
       "   'edges': {'e': {'source': '5', 'label': 'nsubj', 'target': '3'}}}},\n",
       " {'sent_id': 'en_partut-ud-382',\n",
       "  'matching': {'nodes': {'N': '2', 'M': '1'},\n",
       "   'edges': {'e': {'source': '2', 'label': 'nsubj', 'target': '1'}}}},\n",
       " {'sent_id': 'en_partut-ud-382',\n",
       "  'matching': {'nodes': {'N': '16', 'M': '8'},\n",
       "   'edges': {'e': {'source': '16', 'label': 'nsubj', 'target': '8'}}}},\n",
       " {'sent_id': 'en_partut-ud-382',\n",
       "  'matching': {'nodes': {'N': '20', 'M': '18'},\n",
       "   'edges': {'e': {'source': '20', 'label': 'nsubj', 'target': '18'}}}},\n",
       " {'sent_id': 'en_partut-ud-382',\n",
       "  'matching': {'nodes': {'N': '29', 'M': '27'},\n",
       "   'edges': {'e': {'source': '29', 'label': 'nsubj', 'target': '27'}}}},\n",
       " {'sent_id': 'en_partut-ud-341',\n",
       "  'matching': {'nodes': {'N': '2', 'M': '1'},\n",
       "   'edges': {'e': {'source': '2', 'label': 'nsubj', 'target': '1'}}}},\n",
       " {'sent_id': 'en_partut-ud-341',\n",
       "  'matching': {'nodes': {'N': '8', 'M': '7'},\n",
       "   'edges': {'e': {'source': '8', 'label': 'nsubj', 'target': '7'}}}},\n",
       " {'sent_id': 'en_partut-ud-294',\n",
       "  'matching': {'nodes': {'N': '8', 'M': '4'},\n",
       "   'edges': {'e': {'source': '8', 'label': 'nsubj', 'target': '4'}}}},\n",
       " {'sent_id': 'en_partut-ud-294',\n",
       "  'matching': {'nodes': {'N': '26', 'M': '22'},\n",
       "   'edges': {'e': {'source': '26', 'label': 'nsubj', 'target': '22'}}}},\n",
       " {'sent_id': 'en_partut-ud-294',\n",
       "  'matching': {'nodes': {'N': '31', 'M': '30'},\n",
       "   'edges': {'e': {'source': '31', 'label': 'nsubj', 'target': '30'}}}},\n",
       " {'sent_id': 'en_partut-ud-291',\n",
       "  'matching': {'nodes': {'N': '5', 'M': '3'},\n",
       "   'edges': {'e': {'source': '5', 'label': 'nsubj', 'target': '3'}}}},\n",
       " {'sent_id': 'en_partut-ud-291',\n",
       "  'matching': {'nodes': {'N': '9', 'M': '2'},\n",
       "   'edges': {'e': {'source': '9', 'label': 'nsubj', 'target': '2'}}}},\n",
       " {'sent_id': 'en_partut-ud-291',\n",
       "  'matching': {'nodes': {'N': '24', 'M': '12'},\n",
       "   'edges': {'e': {'source': '24', 'label': 'nsubj', 'target': '12'}}}},\n",
       " {'sent_id': 'en_partut-ud-285',\n",
       "  'matching': {'nodes': {'N': '7', 'M': '6'},\n",
       "   'edges': {'e': {'source': '7', 'label': 'nsubj', 'target': '6'}}}},\n",
       " {'sent_id': 'en_partut-ud-266',\n",
       "  'matching': {'nodes': {'N': '3', 'M': '1'},\n",
       "   'edges': {'e': {'source': '3', 'label': 'nsubj', 'target': '1'}}}},\n",
       " {'sent_id': 'en_partut-ud-266',\n",
       "  'matching': {'nodes': {'N': '32', 'M': '30'},\n",
       "   'edges': {'e': {'source': '32', 'label': 'nsubj', 'target': '30'}}}},\n",
       " {'sent_id': 'en_partut-ud-264',\n",
       "  'matching': {'nodes': {'N': '3', 'M': '1'},\n",
       "   'edges': {'e': {'source': '3', 'label': 'nsubj', 'target': '1'}}}},\n",
       " {'sent_id': 'en_partut-ud-264',\n",
       "  'matching': {'nodes': {'N': '19', 'M': '17'},\n",
       "   'edges': {'e': {'source': '19', 'label': 'nsubj', 'target': '17'}}}},\n",
       " {'sent_id': 'en_partut-ud-179',\n",
       "  'matching': {'nodes': {'N': '3', 'M': '1'},\n",
       "   'edges': {'e': {'source': '3', 'label': 'nsubj', 'target': '1'}}}},\n",
       " {'sent_id': 'en_partut-ud-118',\n",
       "  'matching': {'nodes': {'N': '7', 'M': '5'},\n",
       "   'edges': {'e': {'source': '7', 'label': 'nsubj', 'target': '5'}}}},\n",
       " {'sent_id': 'en_partut-ud-85',\n",
       "  'matching': {'nodes': {'N': '8', 'M': '3'},\n",
       "   'edges': {'e': {'source': '8', 'label': 'nsubj', 'target': '3'}}}},\n",
       " {'sent_id': 'en_partut-ud-85',\n",
       "  'matching': {'nodes': {'N': '32', 'M': '31'},\n",
       "   'edges': {'e': {'source': '32', 'label': 'nsubj', 'target': '31'}}}},\n",
       " {'sent_id': 'en_partut-ud-72',\n",
       "  'matching': {'nodes': {'N': '3', 'M': '1'},\n",
       "   'edges': {'e': {'source': '3', 'label': 'nsubj', 'target': '1'}}}}]"
      ]
     },
     "execution_count": 10,
     "metadata": {},
     "output_type": "execute_result"
    }
   ],
   "source": [
    "corpus.search (y, deco=True)"
   ]
  },
  {
   "cell_type": "code",
   "execution_count": 10,
   "metadata": {},
   "outputs": [
    {
     "ename": "GrewError",
     "evalue": "\n--------------------------------------------------------------------------------\n{\n  \"function\": \"corpus_count\",\n  \"message\": \"grewlib error: [line: 1] [Grew_loader.Parser.request], Parsing error: ;\"\n}\n--------------------------------------------------------------------------------",
     "output_type": "error",
     "traceback": [
      "\u001b[0;31m---------------------------------------------------------------------------\u001b[0m",
      "\u001b[0;31mGrewError\u001b[0m                                 Traceback (most recent call last)",
      "\u001b[1;32m/Users/guillaum/gitlab/grew/grew_doc/content/grewpy/request.ipynb Cell 17\u001b[0m line \u001b[0;36m2\n\u001b[1;32m      <a href='vscode-notebook-cell:/Users/guillaum/gitlab/grew/grew_doc/content/grewpy/request.ipynb#X22sZmlsZQ%3D%3D?line=0'>1</a>\u001b[0m r \u001b[39m=\u001b[39m Request\u001b[39m.\u001b[39mfrom_json([{\u001b[39m'\u001b[39m\u001b[39mpattern\u001b[39m\u001b[39m'\u001b[39m: \u001b[39m'\u001b[39m\u001b[39me: N -[1=nsubj]-> M\u001b[39m\u001b[39m'\u001b[39m}])\n\u001b[0;32m----> <a href='vscode-notebook-cell:/Users/guillaum/gitlab/grew/grew_doc/content/grewpy/request.ipynb#X22sZmlsZQ%3D%3D?line=1'>2</a>\u001b[0m \u001b[39mprint\u001b[39m (corpus\u001b[39m.\u001b[39mcount(r))\n\u001b[1;32m      <a href='vscode-notebook-cell:/Users/guillaum/gitlab/grew/grew_doc/content/grewpy/request.ipynb#X22sZmlsZQ%3D%3D?line=3'>4</a>\u001b[0m r \u001b[39m=\u001b[39m Request\u001b[39m.\u001b[39mfrom_json(\u001b[39m'\u001b[39m\u001b[39mpattern \u001b[39m\u001b[39m{\u001b[39m\u001b[39m e: N -[1=nsubj]-> M}\u001b[39m\u001b[39m'\u001b[39m)\n\u001b[1;32m      <a href='vscode-notebook-cell:/Users/guillaum/gitlab/grew/grew_doc/content/grewpy/request.ipynb#X22sZmlsZQ%3D%3D?line=4'>5</a>\u001b[0m \u001b[39mprint\u001b[39m (corpus\u001b[39m.\u001b[39mcount(r))\n",
      "File \u001b[0;32m~/gitlab/grew/grew_doc/content/grewpy/grewpy/corpus.py:228\u001b[0m, in \u001b[0;36mCorpus.count\u001b[0;34m(self, request, clustering_parameter, clustering_keys, flat)\u001b[0m\n\u001b[1;32m    221\u001b[0m \u001b[39mdef\u001b[39;00m \u001b[39mcount\u001b[39m(\u001b[39mself\u001b[39m, request, clustering_parameter\u001b[39m=\u001b[39m[], clustering_keys\u001b[39m=\u001b[39m[], flat\u001b[39m=\u001b[39m\u001b[39mFalse\u001b[39;00m):\n\u001b[1;32m    222\u001b[0m     \u001b[39m\"\"\"\u001b[39;00m\n\u001b[1;32m    223\u001b[0m \u001b[39m    Count for [request] into [corpus_index]\u001b[39;00m\n\u001b[1;32m    224\u001b[0m \u001b[39m    :param request: a string request\u001b[39;00m\n\u001b[1;32m    225\u001b[0m \u001b[39m    :param corpus_index: an integer given by the [corpus] function\u001b[39;00m\n\u001b[1;32m    226\u001b[0m \u001b[39m    :return: the number of matching of [request] into the corpus\u001b[39;00m\n\u001b[1;32m    227\u001b[0m \u001b[39m    \"\"\"\u001b[39;00m\n\u001b[0;32m--> 228\u001b[0m     res \u001b[39m=\u001b[39m network\u001b[39m.\u001b[39;49msend_and_receive({\n\u001b[1;32m    229\u001b[0m         \u001b[39m\"\u001b[39;49m\u001b[39mcommand\u001b[39;49m\u001b[39m\"\u001b[39;49m: \u001b[39m\"\u001b[39;49m\u001b[39mcorpus_count\u001b[39;49m\u001b[39m\"\u001b[39;49m,\n\u001b[1;32m    230\u001b[0m         \u001b[39m\"\u001b[39;49m\u001b[39mcorpus_index\u001b[39;49m\u001b[39m\"\u001b[39;49m: \u001b[39mself\u001b[39;49m\u001b[39m.\u001b[39;49m_id,\n\u001b[1;32m    231\u001b[0m         \u001b[39m\"\u001b[39;49m\u001b[39mrequest\u001b[39;49m\u001b[39m\"\u001b[39;49m: request\u001b[39m.\u001b[39;49mjson_data(),\n\u001b[1;32m    232\u001b[0m         \u001b[39m\"\u001b[39;49m\u001b[39mclustering_keys\u001b[39;49m\u001b[39m\"\u001b[39;49m: clustering_parameter \u001b[39m+\u001b[39;49m clustering_keys,\n\u001b[1;32m    233\u001b[0m     })\n\u001b[1;32m    234\u001b[0m     \u001b[39mif\u001b[39;00m \u001b[39mnot\u001b[39;00m flat:\n\u001b[1;32m    235\u001b[0m         \u001b[39mreturn\u001b[39;00m res\n",
      "File \u001b[0;32m~/gitlab/grew/grew_doc/content/grewpy/grewpy/network.py:97\u001b[0m, in \u001b[0;36msend_and_receive\u001b[0;34m(msg)\u001b[0m\n\u001b[1;32m     95\u001b[0m             \u001b[39mreturn\u001b[39;00m \u001b[39mNone\u001b[39;00m\n\u001b[1;32m     96\u001b[0m     \u001b[39melif\u001b[39;00m reply[\u001b[39m\"\u001b[39m\u001b[39mstatus\u001b[39m\u001b[39m\"\u001b[39m] \u001b[39m==\u001b[39m \u001b[39m\"\u001b[39m\u001b[39mERROR\u001b[39m\u001b[39m\"\u001b[39m:\n\u001b[0;32m---> 97\u001b[0m         \u001b[39mraise\u001b[39;00m GrewError({\u001b[39m\"\u001b[39m\u001b[39mfunction\u001b[39m\u001b[39m\"\u001b[39m: msg[\u001b[39m\"\u001b[39m\u001b[39mcommand\u001b[39m\u001b[39m\"\u001b[39m], \u001b[39m\"\u001b[39m\u001b[39mmessage\u001b[39m\u001b[39m\"\u001b[39m: reply[\u001b[39m\"\u001b[39m\u001b[39mmessage\u001b[39m\u001b[39m\"\u001b[39m]})\n\u001b[1;32m     98\u001b[0m \u001b[39mexcept\u001b[39;00m socket\u001b[39m.\u001b[39merror:\n\u001b[1;32m     99\u001b[0m     \u001b[39mraise\u001b[39;00m GrewError({\u001b[39m\"\u001b[39m\u001b[39mfunction\u001b[39m\u001b[39m\"\u001b[39m: msg[\u001b[39m\"\u001b[39m\u001b[39mcommand\u001b[39m\u001b[39m\"\u001b[39m], \u001b[39m\"\u001b[39m\u001b[39mmessage\u001b[39m\u001b[39m\"\u001b[39m : \u001b[39m'\u001b[39m\u001b[39mSocket error\u001b[39m\u001b[39m'\u001b[39m})\n",
      "\u001b[0;31mGrewError\u001b[0m: \n--------------------------------------------------------------------------------\n{\n  \"function\": \"corpus_count\",\n  \"message\": \"grewlib error: [line: 1] [Grew_loader.Parser.request], Parsing error: ;\"\n}\n--------------------------------------------------------------------------------"
     ]
    }
   ],
   "source": [
    "r = Request.from_json([{'pattern': 'e: N -[1=nsubj]-> M'}])\n",
    "print (corpus.count(r))\n",
    "\n",
    "r = Request.from_json('pattern { e: N -[1=nsubj]-> M}')\n",
    "print (corpus.count(r))\n",
    "\n",
    "r = Request.from_json(['pattern {',  'e: N -[1=nsubj]-> M', '}'])\n",
    "print (corpus.count(r))\n"
   ]
  },
  {
   "cell_type": "code",
   "execution_count": 12,
   "metadata": {},
   "outputs": [
    {
     "ename": "ValueError",
     "evalue": "Abstract request",
     "output_type": "error",
     "traceback": [
      "\u001b[0;31m---------------------------------------------------------------------------\u001b[0m",
      "\u001b[0;31mValueError\u001b[0m                                Traceback (most recent call last)",
      "\u001b[1;32m/Users/guillaum/gitlab/grew/grew_doc/content/grewpy/request.ipynb Cell 12\u001b[0m in \u001b[0;36m1\n\u001b[0;32m----> <a href='vscode-notebook-cell:/Users/guillaum/gitlab/grew/grew_doc/content/grewpy/request.ipynb#X50sZmlsZQ%3D%3D?line=0'>1</a>\u001b[0m y\u001b[39m.\u001b[39mwithout(\u001b[39m\"\u001b[39m\u001b[39mN[upos=VERB]\u001b[39m\u001b[39m\"\u001b[39m)\n",
      "File \u001b[0;32m~/gitlab/grew/grew_doc/content/grewpy/grewpy/grs.py:81\u001b[0m, in \u001b[0;36mRequest.without\u001b[0;34m(self, *L)\u001b[0m\n\u001b[1;32m     79\u001b[0m     \u001b[39mreturn\u001b[39;00m \u001b[39mself\u001b[39m\n\u001b[1;32m     80\u001b[0m \u001b[39melse\u001b[39;00m:\n\u001b[0;32m---> 81\u001b[0m     \u001b[39mraise\u001b[39;00m \u001b[39mValueError\u001b[39;00m(\u001b[39m\"\u001b[39m\u001b[39mAbstract request\u001b[39m\u001b[39m\"\u001b[39m)\n",
      "\u001b[0;31mValueError\u001b[0m: Abstract request"
     ]
    }
   ],
   "source": [
    "y.without(\"N[upos=VERB]\")"
   ]
  },
  {
   "cell_type": "code",
   "execution_count": null,
   "metadata": {},
   "outputs": [],
   "source": []
  }
 ],
 "metadata": {
  "kernelspec": {
   "display_name": "Python 3",
   "language": "python",
   "name": "python3"
  },
  "language_info": {
   "codemirror_mode": {
    "name": "ipython",
    "version": 3
   },
   "file_extension": ".py",
   "mimetype": "text/x-python",
   "name": "python",
   "nbconvert_exporter": "python",
   "pygments_lexer": "ipython3",
   "version": "3.10.5"
  }
 },
 "nbformat": 4,
 "nbformat_minor": 2
}
